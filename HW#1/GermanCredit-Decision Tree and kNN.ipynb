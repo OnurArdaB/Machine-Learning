{
  "nbformat": 4,
  "nbformat_minor": 0,
  "metadata": {
    "colab": {
      "name": "ML-HW1-GermanCreditCard.ipynb",
      "provenance": [],
      "collapsed_sections": [
        "DTfDIhAYYjaX",
        "wQIVU4-zXpE_",
        "cqgNZYUMXv8X",
        "1VCH10cwnAU-"
      ]
    },
    "kernelspec": {
      "name": "python3",
      "display_name": "Python 3"
    },
    "accelerator": "GPU"
  },
  "cells": [
    {
      "cell_type": "markdown",
      "metadata": {
        "id": "DTfDIhAYYjaX",
        "colab_type": "text"
      },
      "source": [
        "# Load the dataset"
      ]
    },
    {
      "cell_type": "code",
      "metadata": {
        "id": "HGi6c-0uZSeB",
        "colab_type": "code",
        "outputId": "d907ea71-fc50-41ce-a2fc-575edb480356",
        "colab": {
          "base_uri": "https://localhost:8080/",
          "height": 35
        }
      },
      "source": [
        "from google.colab import drive\n",
        "drive.mount('/content/drive')"
      ],
      "execution_count": 92,
      "outputs": [
        {
          "output_type": "stream",
          "text": [
            "Drive already mounted at /content/drive; to attempt to forcibly remount, call drive.mount(\"/content/drive\", force_remount=True).\n"
          ],
          "name": "stdout"
        }
      ]
    },
    {
      "cell_type": "code",
      "metadata": {
        "id": "yFpeyxi8aqIl",
        "colab_type": "code",
        "colab": {}
      },
      "source": [
        "# You can find the data under https://drive.google.com/drive/folders/1e550az93U3_kfRBbVY5PZnMKYwGYmHqi?usp=sharing\n",
        "\n",
        "import pandas as pd\n",
        "import numpy as np\n",
        "\n",
        "train_data = pd.read_csv(\"/content/drive/My Drive/HW1/train_data.csv\")\n",
        "train_label = pd.read_csv(\"/content/drive/My Drive/HW1/train_label.csv\")\n",
        "\n",
        "test_data = pd.read_csv(\"/content/drive/My Drive/HW1/test_data.csv\")\n",
        "test_label = pd.read_csv(\"/content/drive/My Drive/HW1/test_label.csv\")"
      ],
      "execution_count": 0,
      "outputs": []
    },
    {
      "cell_type": "code",
      "metadata": {
        "id": "OZXqzZlXBIN0",
        "colab_type": "code",
        "outputId": "b2dac3ae-e3d9-435f-abac-b0408add8726",
        "colab": {
          "base_uri": "https://localhost:8080/",
          "height": 239
        }
      },
      "source": [
        "# show random samples from the training data\n",
        "train_data.sample(5)\n",
        "# One line of code"
      ],
      "execution_count": 94,
      "outputs": [
        {
          "output_type": "execute_result",
          "data": {
            "text/html": [
              "<div>\n",
              "<style scoped>\n",
              "    .dataframe tbody tr th:only-of-type {\n",
              "        vertical-align: middle;\n",
              "    }\n",
              "\n",
              "    .dataframe tbody tr th {\n",
              "        vertical-align: top;\n",
              "    }\n",
              "\n",
              "    .dataframe thead th {\n",
              "        text-align: right;\n",
              "    }\n",
              "</style>\n",
              "<table border=\"1\" class=\"dataframe\">\n",
              "  <thead>\n",
              "    <tr style=\"text-align: right;\">\n",
              "      <th></th>\n",
              "      <th>id</th>\n",
              "      <th>duration</th>\n",
              "      <th>credit_amount</th>\n",
              "      <th>installment_commitment</th>\n",
              "      <th>residence_since</th>\n",
              "      <th>age</th>\n",
              "      <th>existing_credits</th>\n",
              "      <th>num_dependents</th>\n",
              "      <th>f_worker</th>\n",
              "      <th>checking_status_&lt;0</th>\n",
              "      <th>checking_status_&gt;=200</th>\n",
              "      <th>checking_status_no checking</th>\n",
              "      <th>credit_history_critical/other existing credit</th>\n",
              "      <th>credit_history_delayed previously</th>\n",
              "      <th>credit_history_existing paid</th>\n",
              "      <th>credit_history_no credits/all paid</th>\n",
              "      <th>purpose_domestic appliance</th>\n",
              "      <th>purpose_education</th>\n",
              "      <th>purpose_furniture/equipment</th>\n",
              "      <th>purpose_new car</th>\n",
              "      <th>purpose_other</th>\n",
              "      <th>purpose_radio/tv</th>\n",
              "      <th>purpose_repairs</th>\n",
              "      <th>purpose_retraining</th>\n",
              "      <th>purpose_used car</th>\n",
              "      <th>savings_status_500&lt;=X&lt;1000</th>\n",
              "      <th>savings_status_&lt;100</th>\n",
              "      <th>savings_status_&gt;=1000</th>\n",
              "      <th>savings_status_no known savings</th>\n",
              "      <th>employment_4&lt;=X&lt;7</th>\n",
              "      <th>employment_&lt;1</th>\n",
              "      <th>employment_&gt;=7</th>\n",
              "      <th>employment_unemployed</th>\n",
              "      <th>personal_status_male div/sep</th>\n",
              "      <th>personal_status_male mar/wid</th>\n",
              "      <th>personal_status_male single</th>\n",
              "      <th>other_parties_guarantor</th>\n",
              "      <th>other_parties_none</th>\n",
              "      <th>property_magnitude_life insurance</th>\n",
              "      <th>property_magnitude_no known property</th>\n",
              "      <th>property_magnitude_real estate</th>\n",
              "      <th>other_payment_plans_none</th>\n",
              "      <th>other_payment_plans_stores</th>\n",
              "      <th>housing_own</th>\n",
              "      <th>housing_rent</th>\n",
              "      <th>job_skilled</th>\n",
              "      <th>job_unemp/unskilled non res</th>\n",
              "      <th>job_unskilled resident</th>\n",
              "      <th>own_telephone_yes</th>\n",
              "    </tr>\n",
              "  </thead>\n",
              "  <tbody>\n",
              "    <tr>\n",
              "      <th>561</th>\n",
              "      <td>562</td>\n",
              "      <td>24</td>\n",
              "      <td>1546</td>\n",
              "      <td>4</td>\n",
              "      <td>4</td>\n",
              "      <td>24</td>\n",
              "      <td>1</td>\n",
              "      <td>1</td>\n",
              "      <td>1</td>\n",
              "      <td>1</td>\n",
              "      <td>0</td>\n",
              "      <td>0</td>\n",
              "      <td>0</td>\n",
              "      <td>0</td>\n",
              "      <td>0</td>\n",
              "      <td>0</td>\n",
              "      <td>0</td>\n",
              "      <td>0</td>\n",
              "      <td>0</td>\n",
              "      <td>0</td>\n",
              "      <td>0</td>\n",
              "      <td>1</td>\n",
              "      <td>0</td>\n",
              "      <td>0</td>\n",
              "      <td>0</td>\n",
              "      <td>0</td>\n",
              "      <td>1</td>\n",
              "      <td>0</td>\n",
              "      <td>0</td>\n",
              "      <td>1</td>\n",
              "      <td>0</td>\n",
              "      <td>0</td>\n",
              "      <td>0</td>\n",
              "      <td>0</td>\n",
              "      <td>0</td>\n",
              "      <td>1</td>\n",
              "      <td>1</td>\n",
              "      <td>0</td>\n",
              "      <td>0</td>\n",
              "      <td>0</td>\n",
              "      <td>0</td>\n",
              "      <td>0</td>\n",
              "      <td>0</td>\n",
              "      <td>0</td>\n",
              "      <td>1</td>\n",
              "      <td>0</td>\n",
              "      <td>0</td>\n",
              "      <td>1</td>\n",
              "      <td>0</td>\n",
              "    </tr>\n",
              "    <tr>\n",
              "      <th>442</th>\n",
              "      <td>443</td>\n",
              "      <td>20</td>\n",
              "      <td>2629</td>\n",
              "      <td>2</td>\n",
              "      <td>3</td>\n",
              "      <td>29</td>\n",
              "      <td>2</td>\n",
              "      <td>1</td>\n",
              "      <td>1</td>\n",
              "      <td>0</td>\n",
              "      <td>0</td>\n",
              "      <td>0</td>\n",
              "      <td>0</td>\n",
              "      <td>1</td>\n",
              "      <td>0</td>\n",
              "      <td>0</td>\n",
              "      <td>0</td>\n",
              "      <td>0</td>\n",
              "      <td>0</td>\n",
              "      <td>0</td>\n",
              "      <td>1</td>\n",
              "      <td>0</td>\n",
              "      <td>0</td>\n",
              "      <td>0</td>\n",
              "      <td>0</td>\n",
              "      <td>0</td>\n",
              "      <td>1</td>\n",
              "      <td>0</td>\n",
              "      <td>0</td>\n",
              "      <td>0</td>\n",
              "      <td>0</td>\n",
              "      <td>0</td>\n",
              "      <td>0</td>\n",
              "      <td>0</td>\n",
              "      <td>0</td>\n",
              "      <td>1</td>\n",
              "      <td>0</td>\n",
              "      <td>1</td>\n",
              "      <td>0</td>\n",
              "      <td>0</td>\n",
              "      <td>0</td>\n",
              "      <td>0</td>\n",
              "      <td>0</td>\n",
              "      <td>1</td>\n",
              "      <td>0</td>\n",
              "      <td>1</td>\n",
              "      <td>0</td>\n",
              "      <td>0</td>\n",
              "      <td>1</td>\n",
              "    </tr>\n",
              "    <tr>\n",
              "      <th>222</th>\n",
              "      <td>223</td>\n",
              "      <td>12</td>\n",
              "      <td>707</td>\n",
              "      <td>4</td>\n",
              "      <td>2</td>\n",
              "      <td>30</td>\n",
              "      <td>2</td>\n",
              "      <td>1</td>\n",
              "      <td>1</td>\n",
              "      <td>0</td>\n",
              "      <td>0</td>\n",
              "      <td>1</td>\n",
              "      <td>0</td>\n",
              "      <td>0</td>\n",
              "      <td>1</td>\n",
              "      <td>0</td>\n",
              "      <td>0</td>\n",
              "      <td>0</td>\n",
              "      <td>0</td>\n",
              "      <td>0</td>\n",
              "      <td>0</td>\n",
              "      <td>1</td>\n",
              "      <td>0</td>\n",
              "      <td>0</td>\n",
              "      <td>0</td>\n",
              "      <td>0</td>\n",
              "      <td>1</td>\n",
              "      <td>0</td>\n",
              "      <td>0</td>\n",
              "      <td>0</td>\n",
              "      <td>0</td>\n",
              "      <td>0</td>\n",
              "      <td>0</td>\n",
              "      <td>0</td>\n",
              "      <td>0</td>\n",
              "      <td>1</td>\n",
              "      <td>0</td>\n",
              "      <td>1</td>\n",
              "      <td>0</td>\n",
              "      <td>0</td>\n",
              "      <td>1</td>\n",
              "      <td>0</td>\n",
              "      <td>0</td>\n",
              "      <td>1</td>\n",
              "      <td>0</td>\n",
              "      <td>1</td>\n",
              "      <td>0</td>\n",
              "      <td>0</td>\n",
              "      <td>0</td>\n",
              "    </tr>\n",
              "    <tr>\n",
              "      <th>184</th>\n",
              "      <td>185</td>\n",
              "      <td>18</td>\n",
              "      <td>884</td>\n",
              "      <td>4</td>\n",
              "      <td>4</td>\n",
              "      <td>36</td>\n",
              "      <td>1</td>\n",
              "      <td>2</td>\n",
              "      <td>1</td>\n",
              "      <td>0</td>\n",
              "      <td>0</td>\n",
              "      <td>0</td>\n",
              "      <td>1</td>\n",
              "      <td>0</td>\n",
              "      <td>0</td>\n",
              "      <td>0</td>\n",
              "      <td>0</td>\n",
              "      <td>0</td>\n",
              "      <td>0</td>\n",
              "      <td>1</td>\n",
              "      <td>0</td>\n",
              "      <td>0</td>\n",
              "      <td>0</td>\n",
              "      <td>0</td>\n",
              "      <td>0</td>\n",
              "      <td>0</td>\n",
              "      <td>1</td>\n",
              "      <td>0</td>\n",
              "      <td>0</td>\n",
              "      <td>0</td>\n",
              "      <td>0</td>\n",
              "      <td>1</td>\n",
              "      <td>0</td>\n",
              "      <td>0</td>\n",
              "      <td>0</td>\n",
              "      <td>1</td>\n",
              "      <td>0</td>\n",
              "      <td>1</td>\n",
              "      <td>0</td>\n",
              "      <td>0</td>\n",
              "      <td>0</td>\n",
              "      <td>0</td>\n",
              "      <td>0</td>\n",
              "      <td>1</td>\n",
              "      <td>0</td>\n",
              "      <td>1</td>\n",
              "      <td>0</td>\n",
              "      <td>0</td>\n",
              "      <td>1</td>\n",
              "    </tr>\n",
              "    <tr>\n",
              "      <th>664</th>\n",
              "      <td>665</td>\n",
              "      <td>6</td>\n",
              "      <td>1047</td>\n",
              "      <td>2</td>\n",
              "      <td>4</td>\n",
              "      <td>50</td>\n",
              "      <td>1</td>\n",
              "      <td>1</td>\n",
              "      <td>1</td>\n",
              "      <td>0</td>\n",
              "      <td>1</td>\n",
              "      <td>0</td>\n",
              "      <td>1</td>\n",
              "      <td>0</td>\n",
              "      <td>0</td>\n",
              "      <td>0</td>\n",
              "      <td>0</td>\n",
              "      <td>1</td>\n",
              "      <td>0</td>\n",
              "      <td>0</td>\n",
              "      <td>0</td>\n",
              "      <td>0</td>\n",
              "      <td>0</td>\n",
              "      <td>0</td>\n",
              "      <td>0</td>\n",
              "      <td>0</td>\n",
              "      <td>1</td>\n",
              "      <td>0</td>\n",
              "      <td>0</td>\n",
              "      <td>0</td>\n",
              "      <td>0</td>\n",
              "      <td>0</td>\n",
              "      <td>0</td>\n",
              "      <td>0</td>\n",
              "      <td>0</td>\n",
              "      <td>0</td>\n",
              "      <td>0</td>\n",
              "      <td>1</td>\n",
              "      <td>1</td>\n",
              "      <td>0</td>\n",
              "      <td>0</td>\n",
              "      <td>1</td>\n",
              "      <td>0</td>\n",
              "      <td>1</td>\n",
              "      <td>0</td>\n",
              "      <td>0</td>\n",
              "      <td>0</td>\n",
              "      <td>1</td>\n",
              "      <td>0</td>\n",
              "    </tr>\n",
              "  </tbody>\n",
              "</table>\n",
              "</div>"
            ],
            "text/plain": [
              "      id  duration  ...  job_unskilled resident  own_telephone_yes\n",
              "561  562        24  ...                       1                  0\n",
              "442  443        20  ...                       0                  1\n",
              "222  223        12  ...                       0                  0\n",
              "184  185        18  ...                       0                  1\n",
              "664  665         6  ...                       1                  0\n",
              "\n",
              "[5 rows x 49 columns]"
            ]
          },
          "metadata": {
            "tags": []
          },
          "execution_count": 94
        }
      ]
    },
    {
      "cell_type": "markdown",
      "metadata": {
        "id": "wQIVU4-zXpE_",
        "colab_type": "text"
      },
      "source": [
        "# Train Decision Tree with default parameters"
      ]
    },
    {
      "cell_type": "code",
      "metadata": {
        "id": "oLznLl_lXYZf",
        "colab_type": "code",
        "outputId": "dbd4a802-d143-430a-e984-d2134c7cf1f8",
        "colab": {
          "base_uri": "https://localhost:8080/",
          "height": 35
        }
      },
      "source": [
        "from sklearn.tree import DecisionTreeClassifier\n",
        "\n",
        "# Train decision tree using the whole training data with **entropy** criteria\n",
        "\n",
        "decisionTree = DecisionTreeClassifier(criterion = \"entropy\")\n",
        "decisionTree.fit(train_data,train_label)\n",
        "\n",
        "# Estimate the prediction of test data\n",
        "test_pred = decisionTree.predict(test_data)\n",
        "\n",
        "# Calculate accuracy of test data\n",
        "from sklearn.metrics import accuracy_score\n",
        "TestAcc = accuracy_score(test_label,test_pred)\n",
        "print(\"Testing Accuracy = %.5f%%\" % (TestAcc * 100))"
      ],
      "execution_count": 95,
      "outputs": [
        {
          "output_type": "stream",
          "text": [
            "Testing Accuracy = 68.59903%\n"
          ],
          "name": "stdout"
        }
      ]
    },
    {
      "cell_type": "markdown",
      "metadata": {
        "id": "cqgNZYUMXv8X",
        "colab_type": "text"
      },
      "source": [
        "# FineTune Decision Tree parameters\n",
        "\n",
        "1- Spliting dataset into train and validation "
      ]
    },
    {
      "cell_type": "code",
      "metadata": {
        "id": "nWJxk-zjy0Kv",
        "colab_type": "code",
        "colab": {}
      },
      "source": [
        "# Split training data to 70% training and 30% validation\n",
        "from sklearn.model_selection import train_test_split\n",
        "x_train, x_val, y_train, y_val = train_test_split(train_data,train_label,test_size=0.3)"
      ],
      "execution_count": 0,
      "outputs": []
    },
    {
      "cell_type": "markdown",
      "metadata": {
        "id": "cqws-kTZYHoG",
        "colab_type": "text"
      },
      "source": [
        "2- FineTune minimum sample split"
      ]
    },
    {
      "cell_type": "code",
      "metadata": {
        "id": "O1DvpmCCJXTb",
        "colab_type": "code",
        "outputId": "18561053-c820-4957-be8b-230ab1ab179e",
        "colab": {
          "base_uri": "https://localhost:8080/",
          "height": 265
        }
      },
      "source": [
        "min_samples_splits = range(2, 100)\n",
        "\n",
        "train_results = []\n",
        "val_results = []\n",
        "for min_samples_split in min_samples_splits:\n",
        "  \n",
        "  # Fit the tree using the 70% portion of the training data\n",
        "  decisionTree = DecisionTreeClassifier(min_samples_split=min_samples_split)\n",
        "  decisionTree.fit(x_train,y_train)\n",
        "\n",
        "  # Evaluate on Training set\n",
        "  train_pred = decisionTree.predict(x_train)\n",
        "  train_acc = accuracy_score(y_train,train_pred)\n",
        "  train_results.append(train_acc)\n",
        "   \n",
        "  # Evaluate on Validation set\n",
        "  val_pred = decisionTree.predict(x_val)\n",
        "  val_acc = accuracy_score(y_val,val_pred)\n",
        "  val_results.append(val_acc)\n",
        "  \n",
        "# Ploting\n",
        "import matplotlib.pyplot as plt\n",
        "\n",
        "plt.plot(min_samples_splits, train_results, 'b')\n",
        "plt.plot(min_samples_splits, val_results,'r')\n",
        "plt.show()"
      ],
      "execution_count": 97,
      "outputs": [
        {
          "output_type": "display_data",
          "data": {
            "image/png": "[encoded data removed]",
            "text/plain": [
              "<Figure size 432x288 with 1 Axes>"
            ]
          },
          "metadata": {
            "tags": []
          }
        }
      ]
    },
    {
      "cell_type": "code",
      "metadata": {
        "id": "akVAE3MbL7bE",
        "colab_type": "code",
        "outputId": "a2ff2d0d-bd16-4f37-ff64-af3a61986c7d",
        "colab": {
          "base_uri": "https://localhost:8080/",
          "height": 35
        }
      },
      "source": [
        "# Choose the best minimum split sample based on the plot\n",
        "Best_minSampl = min_samples_splits[np.argmax(val_results)] \n",
        "\n",
        "# Train decision tree using the full training data and the best minimum split sample\n",
        "decisionTree = DecisionTreeClassifier(min_samples_split=Best_minSampl)\n",
        "decisionTree.fit(train_data,train_label)\n",
        "# Estimate the prediction of the test data\n",
        "test_pred = decisionTree.predict(test_data)\n",
        "\n",
        "# Calculate accuracy of test data\n",
        "TestAccDes = accuracy_score(test_label,test_pred)\n",
        "print(\"Testing Accuracy = %.5f%%\" % (TestAccDes * 100))"
      ],
      "execution_count": 98,
      "outputs": [
        {
          "output_type": "stream",
          "text": [
            "Testing Accuracy = 67.14976%\n"
          ],
          "name": "stdout"
        }
      ]
    },
    {
      "cell_type": "markdown",
      "metadata": {
        "id": "VciE0lfYKhya",
        "colab_type": "text"
      },
      "source": [
        "# Now, apply the same procedure but using KNN instead of decision tree \n",
        "\n",
        "# For finetuning, find the best value of K to use with this dataset."
      ]
    },
    {
      "cell_type": "code",
      "metadata": {
        "id": "EdBaXNKoLBcL",
        "colab_type": "code",
        "outputId": "d16e92db-c2ea-4998-84d1-cb28c3af01e4",
        "colab": {
          "base_uri": "https://localhost:8080/",
          "height": 572
        }
      },
      "source": [
        "# Write your code here\n",
        "\n",
        "from sklearn.neighbors import KNeighborsClassifier\n",
        "\n",
        "# initialize the values of k to be a list of odd numbers between 1 and 30\n",
        "kVals = range(1,30,2)\n",
        "\n",
        "# Save the accuracies of each value of kVal in [accuracies] variable\n",
        "# hint: you can use accuracies.append(...) function inside the loop\n",
        "accuracies = []\n",
        "\n",
        "# loop over values of k for the k-Nearest Neighbor classifier\n",
        "for k in kVals:\n",
        "  # Follow what we did in decision tree part\n",
        "  kNN = KNeighborsClassifier(n_neighbors = k)\n",
        "  kNN.fit(x_train,y_train)\n",
        "\n",
        "  score = kNN.score(x_val, y_val)\n",
        "  #print(\"For k = %d, validation accuracy = %.5f%%\" % (k, score * 100))\n",
        "  accuracies.append([score,k])\n",
        "\n",
        "# Train KNN using the full training data with the best K that you found\n",
        "\n",
        "kNN = KNeighborsClassifier(n_neighbors=int(max(accuracies,key=lambda x: x[0])[1]))\n",
        "kNN.fit(train_data,train_label)\n",
        "\n",
        "# Testing\n",
        "test_pred = kNN.predict(test_data)\n",
        "TestAcc = accuracy_score(test_label,test_pred)\n",
        "print(\"Testing Accuracy = %.5f%%\" % (TestAcc * 100))"
      ],
      "execution_count": 99,
      "outputs": [
        {
          "output_type": "stream",
          "text": [
            "Testing Accuracy = 71.01449%\n"
          ],
          "name": "stdout"
        },
        {
          "output_type": "stream",
          "text": [
            "/usr/local/lib/python3.6/dist-packages/ipykernel_launcher.py:15: DataConversionWarning: A column-vector y was passed when a 1d array was expected. Please change the shape of y to (n_samples, ), for example using ravel().\n",
            "  from ipykernel import kernelapp as app\n",
            "/usr/local/lib/python3.6/dist-packages/ipykernel_launcher.py:15: DataConversionWarning: A column-vector y was passed when a 1d array was expected. Please change the shape of y to (n_samples, ), for example using ravel().\n",
            "  from ipykernel import kernelapp as app\n",
            "/usr/local/lib/python3.6/dist-packages/ipykernel_launcher.py:15: DataConversionWarning: A column-vector y was passed when a 1d array was expected. Please change the shape of y to (n_samples, ), for example using ravel().\n",
            "  from ipykernel import kernelapp as app\n",
            "/usr/local/lib/python3.6/dist-packages/ipykernel_launcher.py:15: DataConversionWarning: A column-vector y was passed when a 1d array was expected. Please change the shape of y to (n_samples, ), for example using ravel().\n",
            "  from ipykernel import kernelapp as app\n",
            "/usr/local/lib/python3.6/dist-packages/ipykernel_launcher.py:15: DataConversionWarning: A column-vector y was passed when a 1d array was expected. Please change the shape of y to (n_samples, ), for example using ravel().\n",
            "  from ipykernel import kernelapp as app\n",
            "/usr/local/lib/python3.6/dist-packages/ipykernel_launcher.py:15: DataConversionWarning: A column-vector y was passed when a 1d array was expected. Please change the shape of y to (n_samples, ), for example using ravel().\n",
            "  from ipykernel import kernelapp as app\n",
            "/usr/local/lib/python3.6/dist-packages/ipykernel_launcher.py:15: DataConversionWarning: A column-vector y was passed when a 1d array was expected. Please change the shape of y to (n_samples, ), for example using ravel().\n",
            "  from ipykernel import kernelapp as app\n",
            "/usr/local/lib/python3.6/dist-packages/ipykernel_launcher.py:15: DataConversionWarning: A column-vector y was passed when a 1d array was expected. Please change the shape of y to (n_samples, ), for example using ravel().\n",
            "  from ipykernel import kernelapp as app\n",
            "/usr/local/lib/python3.6/dist-packages/ipykernel_launcher.py:15: DataConversionWarning: A column-vector y was passed when a 1d array was expected. Please change the shape of y to (n_samples, ), for example using ravel().\n",
            "  from ipykernel import kernelapp as app\n",
            "/usr/local/lib/python3.6/dist-packages/ipykernel_launcher.py:15: DataConversionWarning: A column-vector y was passed when a 1d array was expected. Please change the shape of y to (n_samples, ), for example using ravel().\n",
            "  from ipykernel import kernelapp as app\n",
            "/usr/local/lib/python3.6/dist-packages/ipykernel_launcher.py:15: DataConversionWarning: A column-vector y was passed when a 1d array was expected. Please change the shape of y to (n_samples, ), for example using ravel().\n",
            "  from ipykernel import kernelapp as app\n",
            "/usr/local/lib/python3.6/dist-packages/ipykernel_launcher.py:15: DataConversionWarning: A column-vector y was passed when a 1d array was expected. Please change the shape of y to (n_samples, ), for example using ravel().\n",
            "  from ipykernel import kernelapp as app\n",
            "/usr/local/lib/python3.6/dist-packages/ipykernel_launcher.py:15: DataConversionWarning: A column-vector y was passed when a 1d array was expected. Please change the shape of y to (n_samples, ), for example using ravel().\n",
            "  from ipykernel import kernelapp as app\n",
            "/usr/local/lib/python3.6/dist-packages/ipykernel_launcher.py:15: DataConversionWarning: A column-vector y was passed when a 1d array was expected. Please change the shape of y to (n_samples, ), for example using ravel().\n",
            "  from ipykernel import kernelapp as app\n",
            "/usr/local/lib/python3.6/dist-packages/ipykernel_launcher.py:15: DataConversionWarning: A column-vector y was passed when a 1d array was expected. Please change the shape of y to (n_samples, ), for example using ravel().\n",
            "  from ipykernel import kernelapp as app\n",
            "/usr/local/lib/python3.6/dist-packages/ipykernel_launcher.py:24: DataConversionWarning: A column-vector y was passed when a 1d array was expected. Please change the shape of y to (n_samples, ), for example using ravel().\n"
          ],
          "name": "stderr"
        }
      ]
    },
    {
      "cell_type": "markdown",
      "metadata": {
        "id": "zMEdOIlJQBin",
        "colab_type": "text"
      },
      "source": [
        "# Bonus\n",
        "\n",
        "# Apply gridsearch using decision tree on any hyperparameter(s) of your choice, you have to beat your previous obtained accuracies to get the bonus\n"
      ]
    },
    {
      "cell_type": "code",
      "metadata": {
        "id": "J-9TxVbXQCw7",
        "colab_type": "code",
        "outputId": "cf5eee4d-402a-4c53-a0b1-842ff39cc2c1",
        "colab": {
          "base_uri": "https://localhost:8080/",
          "height": 451
        }
      },
      "source": [
        "# Write your code here\n",
        "from sklearn.model_selection import GridSearchCV\n",
        "\n",
        "#min10\n",
        "params = {'max_depth':list(range(1,20)),'min_samples_split':list(range(2,10)),'max_features':['auto','log2',None],'criterion':['entropy']}\n",
        "grid_search_cv = GridSearchCV(DecisionTreeClassifier(), params, verbose=True,n_jobs = -1,cv=5)\n",
        "grid_search_cv.fit(train_data,train_label)"
      ],
      "execution_count": 100,
      "outputs": [
        {
          "output_type": "stream",
          "text": [
            "Fitting 5 folds for each of 456 candidates, totalling 2280 fits\n"
          ],
          "name": "stdout"
        },
        {
          "output_type": "stream",
          "text": [
            "[Parallel(n_jobs=-1)]: Using backend LokyBackend with 2 concurrent workers.\n",
            "[Parallel(n_jobs=-1)]: Done 956 tasks      | elapsed:    3.9s\n",
            "[Parallel(n_jobs=-1)]: Done 2280 out of 2280 | elapsed:    9.9s finished\n"
          ],
          "name": "stderr"
        },
        {
          "output_type": "execute_result",
          "data": {
            "text/plain": [
              "GridSearchCV(cv=5, error_score=nan,\n",
              "             estimator=DecisionTreeClassifier(ccp_alpha=0.0, class_weight=None,\n",
              "                                              criterion='gini', max_depth=None,\n",
              "                                              max_features=None,\n",
              "                                              max_leaf_nodes=None,\n",
              "                                              min_impurity_decrease=0.0,\n",
              "                                              min_impurity_split=None,\n",
              "                                              min_samples_leaf=1,\n",
              "                                              min_samples_split=2,\n",
              "                                              min_weight_fraction_leaf=0.0,\n",
              "                                              presort='deprecated',\n",
              "                                              random_state=None,\n",
              "                                              splitter='best'),\n",
              "             iid='deprecated', n_jobs=-1,\n",
              "             param_grid={'criterion': ['entropy'],\n",
              "                         'max_depth': [1, 2, 3, 4, 5, 6, 7, 8, 9, 10, 11, 12,\n",
              "                                       13, 14, 15, 16, 17, 18, 19],\n",
              "                         'max_features': ['auto', 'log2', None],\n",
              "                         'min_samples_split': [2, 3, 4, 5, 6, 7, 8, 9]},\n",
              "             pre_dispatch='2*n_jobs', refit=True, return_train_score=False,\n",
              "             scoring=None, verbose=True)"
            ]
          },
          "metadata": {
            "tags": []
          },
          "execution_count": 100
        }
      ]
    },
    {
      "cell_type": "code",
      "metadata": {
        "id": "qoGwZ77-JCeg",
        "colab_type": "code",
        "outputId": "dbeab998-7389-4cd9-b572-c9b66eb4de7f",
        "colab": {
          "base_uri": "https://localhost:8080/",
          "height": 121
        }
      },
      "source": [
        "grid_search_cv.best_estimator_"
      ],
      "execution_count": 101,
      "outputs": [
        {
          "output_type": "execute_result",
          "data": {
            "text/plain": [
              "DecisionTreeClassifier(ccp_alpha=0.0, class_weight=None, criterion='entropy',\n",
              "                       max_depth=8, max_features=None, max_leaf_nodes=None,\n",
              "                       min_impurity_decrease=0.0, min_impurity_split=None,\n",
              "                       min_samples_leaf=1, min_samples_split=3,\n",
              "                       min_weight_fraction_leaf=0.0, presort='deprecated',\n",
              "                       random_state=None, splitter='best')"
            ]
          },
          "metadata": {
            "tags": []
          },
          "execution_count": 101
        }
      ]
    },
    {
      "cell_type": "code",
      "metadata": {
        "id": "sMJWqsZos5wA",
        "colab_type": "code",
        "outputId": "45f00eb0-a89e-42fe-ce3f-f9d3b742df5a",
        "colab": {
          "base_uri": "https://localhost:8080/",
          "height": 87
        }
      },
      "source": [
        "grid_search_cv.best_params_"
      ],
      "execution_count": 102,
      "outputs": [
        {
          "output_type": "execute_result",
          "data": {
            "text/plain": [
              "{'criterion': 'entropy',\n",
              " 'max_depth': 8,\n",
              " 'max_features': None,\n",
              " 'min_samples_split': 3}"
            ]
          },
          "metadata": {
            "tags": []
          },
          "execution_count": 102
        }
      ]
    },
    {
      "cell_type": "code",
      "metadata": {
        "id": "yYGoRgWH99MO",
        "colab_type": "code",
        "outputId": "f603168e-e5d9-43e1-f4e2-750932f1d8aa",
        "colab": {
          "base_uri": "https://localhost:8080/",
          "height": 35
        }
      },
      "source": [
        "grid_search_cv.best_score_"
      ],
      "execution_count": 103,
      "outputs": [
        {
          "output_type": "execute_result",
          "data": {
            "text/plain": [
              "0.7162725897619616"
            ]
          },
          "metadata": {
            "tags": []
          },
          "execution_count": 103
        }
      ]
    },
    {
      "cell_type": "code",
      "metadata": {
        "id": "bIXDn4ifWkG-",
        "colab_type": "code",
        "colab": {}
      },
      "source": [
        "newTree=grid_search_cv.best_estimator_"
      ],
      "execution_count": 0,
      "outputs": []
    },
    {
      "cell_type": "code",
      "metadata": {
        "id": "itgdl0scJY_w",
        "colab_type": "code",
        "outputId": "955027ac-34ab-4636-de70-96cfcdfa887d",
        "colab": {
          "base_uri": "https://localhost:8080/",
          "height": 35
        }
      },
      "source": [
        "newTree.fit(train_data,train_label)\n",
        "test_pred = newTree.predict(test_data)\n",
        "TestAccDesBonus = accuracy_score(test_label,test_pred)\n",
        "print(\"Testing Accuracy = %.5f%%\" % (TestAccDesBonus * 100))"
      ],
      "execution_count": 105,
      "outputs": [
        {
          "output_type": "stream",
          "text": [
            "Testing Accuracy = 73.42995%\n"
          ],
          "name": "stdout"
        }
      ]
    },
    {
      "cell_type": "code",
      "metadata": {
        "id": "qJ-Gdqo7f-lp",
        "colab_type": "code",
        "outputId": "a6b38044-4447-40c0-8832-49864eaa8624",
        "colab": {
          "base_uri": "https://localhost:8080/",
          "height": 1000
        }
      },
      "source": [
        "import graphviz\n",
        "from sklearn.tree import export_graphviz\n",
        "# dot is a graph description language\n",
        "dot = export_graphviz(newTree, out_file=None, \n",
        "                           feature_names=train_data.keys()) \n",
        "\n",
        "# we create a graph from dot source using graphviz.Source\n",
        "graph = graphviz.Source(dot) \n",
        "graph"
      ],
      "execution_count": 106,
      "outputs": [
        {
          "output_type": "execute_result",
          "data": {
            "text/plain": [
              "<graphviz.files.Source at 0x7f44ac8892e8>"
            ],
            "image/svg+xml": "<?xml version=\"1.0\" encoding=\"UTF-8\" standalone=\"no\"?>\n<!DOCTYPE svg PUBLIC \"-//W3C//DTD SVG 1.1//EN\"\n \"http://www.w3.org/Graphics/SVG/1.1/DTD/svg11.dtd\">\n<!-- Generated by graphviz version 2.40.1 (20161225.0304)\n -->\n<!-- Title: Tree Pages: 1 -->\n<svg width=\"5072pt\" height=\"893pt\"\n viewBox=\"0.00 0.00 5071.50 893.00\" xmlns=\"http://www.w3.org/2000/svg\" xmlns:xlink=\"http://www.w3.org/1999/xlink\">\n<g id=\"graph0\" class=\"graph\" transform=\"scale(1 1) rotate(0) translate(4 889)\">\n<title>Tree</title>\n<polygon fill=\"#ffffff\" stroke=\"transparent\" points=\"-4,4 -4,-889 5067.5,-889 5067.5,4 -4,4\"/>\n<!-- 0 -->\n<g id=\"node1\" class=\"node\">\n<title>0</title>\n<polygon fill=\"none\" stroke=\"#000000\" points=\"3261.5,-885 3033.5,-885 3033.5,-817 3261.5,-817 3261.5,-885\"/>\n<text text-anchor=\"middle\" x=\"3147.5\" y=\"-869.8\" font-family=\"Times,serif\" font-size=\"14.00\" fill=\"#000000\">checking_status_no checking &lt;= 0.5</text>\n<text text-anchor=\"middle\" x=\"3147.5\" y=\"-854.8\" font-family=\"Times,serif\" font-size=\"14.00\" fill=\"#000000\">entropy = 0.881</text>\n<text text-anchor=\"middle\" x=\"3147.5\" y=\"-839.8\" font-family=\"Times,serif\" font-size=\"14.00\" fill=\"#000000\">samples = 793</text>\n<text text-anchor=\"middle\" x=\"3147.5\" y=\"-824.8\" font-family=\"Times,serif\" font-size=\"14.00\" fill=\"#000000\">value = [238, 555]</text>\n</g>\n<!-- 1 -->\n<g id=\"node2\" class=\"node\">\n<title>1</title>\n<polygon fill=\"none\" stroke=\"#000000\" points=\"2087,-781 1962,-781 1962,-713 2087,-713 2087,-781\"/>\n<text text-anchor=\"middle\" x=\"2024.5\" y=\"-765.8\" font-family=\"Times,serif\" font-size=\"14.00\" fill=\"#000000\">duration &lt;= 20.5</text>\n<text text-anchor=\"middle\" x=\"2024.5\" y=\"-750.8\" font-family=\"Times,serif\" font-size=\"14.00\" fill=\"#000000\">entropy = 0.98</text>\n<text text-anchor=\"middle\" x=\"2024.5\" y=\"-735.8\" font-family=\"Times,serif\" font-size=\"14.00\" fill=\"#000000\">samples = 487</text>\n<text text-anchor=\"middle\" x=\"2024.5\" y=\"-720.8\" font-family=\"Times,serif\" font-size=\"14.00\" fill=\"#000000\">value = [203, 284]</text>\n</g>\n<!-- 0&#45;&gt;1 -->\n<g id=\"edge1\" class=\"edge\">\n<title>0&#45;&gt;1</title>\n<path fill=\"none\" stroke=\"#000000\" d=\"M3033.3801,-840.4315C2802.9941,-819.0956 2288.0593,-771.408 2097.3599,-753.7475\"/>\n<polygon fill=\"#000000\" stroke=\"#000000\" points=\"2097.4472,-750.2407 2087.167,-752.8035 2096.8016,-757.2109 2097.4472,-750.2407\"/>\n<text text-anchor=\"middle\" x=\"2103.1392\" y=\"-768.336\" font-family=\"Times,serif\" font-size=\"14.00\" fill=\"#000000\">True</text>\n</g>\n<!-- 86 -->\n<g id=\"node87\" class=\"node\">\n<title>86</title>\n<polygon fill=\"none\" stroke=\"#000000\" points=\"3703,-781 3484,-781 3484,-713 3703,-713 3703,-781\"/>\n<text text-anchor=\"middle\" x=\"3593.5\" y=\"-765.8\" font-family=\"Times,serif\" font-size=\"14.00\" fill=\"#000000\">other_payment_plans_none &lt;= 0.5</text>\n<text text-anchor=\"middle\" x=\"3593.5\" y=\"-750.8\" font-family=\"Times,serif\" font-size=\"14.00\" fill=\"#000000\">entropy = 0.513</text>\n<text text-anchor=\"middle\" x=\"3593.5\" y=\"-735.8\" font-family=\"Times,serif\" font-size=\"14.00\" fill=\"#000000\">samples = 306</text>\n<text text-anchor=\"middle\" x=\"3593.5\" y=\"-720.8\" font-family=\"Times,serif\" font-size=\"14.00\" fill=\"#000000\">value = [35, 271]</text>\n</g>\n<!-- 0&#45;&gt;86 -->\n<g id=\"edge86\" class=\"edge\">\n<title>0&#45;&gt;86</title>\n<path fill=\"none\" stroke=\"#000000\" d=\"M3261.7769,-824.3525C3326.7092,-809.2113 3407.924,-790.2733 3473.7416,-774.9257\"/>\n<polygon fill=\"#000000\" stroke=\"#000000\" points=\"3474.8079,-778.2711 3483.7518,-772.5915 3473.2182,-771.4539 3474.8079,-778.2711\"/>\n<text text-anchor=\"middle\" x=\"3470.5504\" y=\"-790.1218\" font-family=\"Times,serif\" font-size=\"14.00\" fill=\"#000000\">False</text>\n</g>\n<!-- 2 -->\n<g id=\"node3\" class=\"node\">\n<title>2</title>\n<polygon fill=\"none\" stroke=\"#000000\" points=\"1120,-677 1003,-677 1003,-609 1120,-609 1120,-677\"/>\n<text text-anchor=\"middle\" x=\"1061.5\" y=\"-661.8\" font-family=\"Times,serif\" font-size=\"14.00\" fill=\"#000000\">id &lt;= 124.5</text>\n<text text-anchor=\"middle\" x=\"1061.5\" y=\"-646.8\" font-family=\"Times,serif\" font-size=\"14.00\" fill=\"#000000\">entropy = 0.907</text>\n<text text-anchor=\"middle\" x=\"1061.5\" y=\"-631.8\" font-family=\"Times,serif\" font-size=\"14.00\" fill=\"#000000\">samples = 276</text>\n<text text-anchor=\"middle\" x=\"1061.5\" y=\"-616.8\" font-family=\"Times,serif\" font-size=\"14.00\" fill=\"#000000\">value = [89, 187]</text>\n</g>\n<!-- 1&#45;&gt;2 -->\n<g id=\"edge2\" class=\"edge\">\n<title>1&#45;&gt;2</title>\n<path fill=\"none\" stroke=\"#000000\" d=\"M1961.6864,-740.2164C1789.2181,-721.5905 1309.3032,-669.7617 1130.1295,-650.4117\"/>\n<polygon fill=\"#000000\" stroke=\"#000000\" points=\"1130.3572,-646.916 1120.0392,-649.322 1129.6056,-653.8756 1130.3572,-646.916\"/>\n</g>\n<!-- 39 -->\n<g id=\"node40\" class=\"node\">\n<title>39</title>\n<polygon fill=\"none\" stroke=\"#000000\" points=\"2106.5,-677 1942.5,-677 1942.5,-609 2106.5,-609 2106.5,-677\"/>\n<text text-anchor=\"middle\" x=\"2024.5\" y=\"-661.8\" font-family=\"Times,serif\" font-size=\"14.00\" fill=\"#000000\">credit_amount &lt;= 2321.0</text>\n<text text-anchor=\"middle\" x=\"2024.5\" y=\"-646.8\" font-family=\"Times,serif\" font-size=\"14.00\" fill=\"#000000\">entropy = 0.995</text>\n<text text-anchor=\"middle\" x=\"2024.5\" y=\"-631.8\" font-family=\"Times,serif\" font-size=\"14.00\" fill=\"#000000\">samples = 211</text>\n<text text-anchor=\"middle\" x=\"2024.5\" y=\"-616.8\" font-family=\"Times,serif\" font-size=\"14.00\" fill=\"#000000\">value = [114, 97]</text>\n</g>\n<!-- 1&#45;&gt;39 -->\n<g id=\"edge39\" class=\"edge\">\n<title>1&#45;&gt;39</title>\n<path fill=\"none\" stroke=\"#000000\" d=\"M2024.5,-712.9465C2024.5,-704.776 2024.5,-695.9318 2024.5,-687.3697\"/>\n<polygon fill=\"#000000\" stroke=\"#000000\" points=\"2028.0001,-687.13 2024.5,-677.13 2021.0001,-687.13 2028.0001,-687.13\"/>\n</g>\n<!-- 3 -->\n<g id=\"node4\" class=\"node\">\n<title>3</title>\n<polygon fill=\"none\" stroke=\"#000000\" points=\"896,-573 673,-573 673,-505 896,-505 896,-573\"/>\n<text text-anchor=\"middle\" x=\"784.5\" y=\"-557.8\" font-family=\"Times,serif\" font-size=\"14.00\" fill=\"#000000\">other_payment_plans_stores &lt;= 0.5</text>\n<text text-anchor=\"middle\" x=\"784.5\" y=\"-542.8\" font-family=\"Times,serif\" font-size=\"14.00\" fill=\"#000000\">entropy = 0.433</text>\n<text text-anchor=\"middle\" x=\"784.5\" y=\"-527.8\" font-family=\"Times,serif\" font-size=\"14.00\" fill=\"#000000\">samples = 45</text>\n<text text-anchor=\"middle\" x=\"784.5\" y=\"-512.8\" font-family=\"Times,serif\" font-size=\"14.00\" fill=\"#000000\">value = [4, 41]</text>\n</g>\n<!-- 2&#45;&gt;3 -->\n<g id=\"edge3\" class=\"edge\">\n<title>2&#45;&gt;3</title>\n<path fill=\"none\" stroke=\"#000000\" d=\"M1002.7554,-620.9443C968.4254,-608.055 924.1782,-591.4424 884.5077,-576.548\"/>\n<polygon fill=\"#000000\" stroke=\"#000000\" points=\"885.6545,-573.2401 875.0624,-573.0018 883.194,-579.7934 885.6545,-573.2401\"/>\n</g>\n<!-- 14 -->\n<g id=\"node15\" class=\"node\">\n<title>14</title>\n<polygon fill=\"none\" stroke=\"#000000\" points=\"1159,-573 964,-573 964,-505 1159,-505 1159,-573\"/>\n<text text-anchor=\"middle\" x=\"1061.5\" y=\"-557.8\" font-family=\"Times,serif\" font-size=\"14.00\" fill=\"#000000\">other_parties_guarantor &lt;= 0.5</text>\n<text text-anchor=\"middle\" x=\"1061.5\" y=\"-542.8\" font-family=\"Times,serif\" font-size=\"14.00\" fill=\"#000000\">entropy = 0.949</text>\n<text text-anchor=\"middle\" x=\"1061.5\" y=\"-527.8\" font-family=\"Times,serif\" font-size=\"14.00\" fill=\"#000000\">samples = 231</text>\n<text text-anchor=\"middle\" x=\"1061.5\" y=\"-512.8\" font-family=\"Times,serif\" font-size=\"14.00\" fill=\"#000000\">value = [85, 146]</text>\n</g>\n<!-- 2&#45;&gt;14 -->\n<g id=\"edge14\" class=\"edge\">\n<title>2&#45;&gt;14</title>\n<path fill=\"none\" stroke=\"#000000\" d=\"M1061.5,-608.9465C1061.5,-600.776 1061.5,-591.9318 1061.5,-583.3697\"/>\n<polygon fill=\"#000000\" stroke=\"#000000\" points=\"1065.0001,-583.13 1061.5,-573.13 1058.0001,-583.13 1065.0001,-583.13\"/>\n</g>\n<!-- 4 -->\n<g id=\"node5\" class=\"node\">\n<title>4</title>\n<polygon fill=\"none\" stroke=\"#000000\" points=\"696,-469 449,-469 449,-401 696,-401 696,-469\"/>\n<text text-anchor=\"middle\" x=\"572.5\" y=\"-453.8\" font-family=\"Times,serif\" font-size=\"14.00\" fill=\"#000000\">credit_history_no credits/all paid &lt;= 0.5</text>\n<text text-anchor=\"middle\" x=\"572.5\" y=\"-438.8\" font-family=\"Times,serif\" font-size=\"14.00\" fill=\"#000000\">entropy = 0.359</text>\n<text text-anchor=\"middle\" x=\"572.5\" y=\"-423.8\" font-family=\"Times,serif\" font-size=\"14.00\" fill=\"#000000\">samples = 44</text>\n<text text-anchor=\"middle\" x=\"572.5\" y=\"-408.8\" font-family=\"Times,serif\" font-size=\"14.00\" fill=\"#000000\">value = [3, 41]</text>\n</g>\n<!-- 3&#45;&gt;4 -->\n<g id=\"edge4\" class=\"edge\">\n<title>3&#45;&gt;4</title>\n<path fill=\"none\" stroke=\"#000000\" d=\"M715.0833,-504.9465C694.6761,-494.9354 672.207,-483.9129 651.2603,-473.6371\"/>\n<polygon fill=\"#000000\" stroke=\"#000000\" points=\"652.5921,-470.392 642.0727,-469.13 649.5091,-476.6766 652.5921,-470.392\"/>\n</g>\n<!-- 13 -->\n<g id=\"node14\" class=\"node\">\n<title>13</title>\n<polygon fill=\"none\" stroke=\"#000000\" points=\"832,-461.5 737,-461.5 737,-408.5 832,-408.5 832,-461.5\"/>\n<text text-anchor=\"middle\" x=\"784.5\" y=\"-446.3\" font-family=\"Times,serif\" font-size=\"14.00\" fill=\"#000000\">entropy = 0.0</text>\n<text text-anchor=\"middle\" x=\"784.5\" y=\"-431.3\" font-family=\"Times,serif\" font-size=\"14.00\" fill=\"#000000\">samples = 1</text>\n<text text-anchor=\"middle\" x=\"784.5\" y=\"-416.3\" font-family=\"Times,serif\" font-size=\"14.00\" fill=\"#000000\">value = [1, 0]</text>\n</g>\n<!-- 3&#45;&gt;13 -->\n<g id=\"edge13\" class=\"edge\">\n<title>3&#45;&gt;13</title>\n<path fill=\"none\" stroke=\"#000000\" d=\"M784.5,-504.9465C784.5,-494.2621 784.5,-482.4254 784.5,-471.5742\"/>\n<polygon fill=\"#000000\" stroke=\"#000000\" points=\"788.0001,-471.5421 784.5,-461.5422 781.0001,-471.5422 788.0001,-471.5421\"/>\n</g>\n<!-- 5 -->\n<g id=\"node6\" class=\"node\">\n<title>5</title>\n<polygon fill=\"none\" stroke=\"#000000\" points=\"450.5,-365 302.5,-365 302.5,-297 450.5,-297 450.5,-365\"/>\n<text text-anchor=\"middle\" x=\"376.5\" y=\"-349.8\" font-family=\"Times,serif\" font-size=\"14.00\" fill=\"#000000\">residence_since &lt;= 1.5</text>\n<text text-anchor=\"middle\" x=\"376.5\" y=\"-334.8\" font-family=\"Times,serif\" font-size=\"14.00\" fill=\"#000000\">entropy = 0.271</text>\n<text text-anchor=\"middle\" x=\"376.5\" y=\"-319.8\" font-family=\"Times,serif\" font-size=\"14.00\" fill=\"#000000\">samples = 43</text>\n<text text-anchor=\"middle\" x=\"376.5\" y=\"-304.8\" font-family=\"Times,serif\" font-size=\"14.00\" fill=\"#000000\">value = [2, 41]</text>\n</g>\n<!-- 4&#45;&gt;5 -->\n<g id=\"edge5\" class=\"edge\">\n<title>4&#45;&gt;5</title>\n<path fill=\"none\" stroke=\"#000000\" d=\"M508.3223,-400.9465C489.6245,-391.0252 469.0544,-380.1105 449.8375,-369.9138\"/>\n<polygon fill=\"#000000\" stroke=\"#000000\" points=\"451.2959,-366.7255 440.8219,-365.13 448.0149,-372.9089 451.2959,-366.7255\"/>\n</g>\n<!-- 12 -->\n<g id=\"node13\" class=\"node\">\n<title>12</title>\n<polygon fill=\"none\" stroke=\"#000000\" points=\"620,-357.5 525,-357.5 525,-304.5 620,-304.5 620,-357.5\"/>\n<text text-anchor=\"middle\" x=\"572.5\" y=\"-342.3\" font-family=\"Times,serif\" font-size=\"14.00\" fill=\"#000000\">entropy = 0.0</text>\n<text text-anchor=\"middle\" x=\"572.5\" y=\"-327.3\" font-family=\"Times,serif\" font-size=\"14.00\" fill=\"#000000\">samples = 1</text>\n<text text-anchor=\"middle\" x=\"572.5\" y=\"-312.3\" font-family=\"Times,serif\" font-size=\"14.00\" fill=\"#000000\">value = [1, 0]</text>\n</g>\n<!-- 4&#45;&gt;12 -->\n<g id=\"edge12\" class=\"edge\">\n<title>4&#45;&gt;12</title>\n<path fill=\"none\" stroke=\"#000000\" d=\"M572.5,-400.9465C572.5,-390.2621 572.5,-378.4254 572.5,-367.5742\"/>\n<polygon fill=\"#000000\" stroke=\"#000000\" points=\"576.0001,-367.5421 572.5,-357.5422 569.0001,-367.5422 576.0001,-367.5421\"/>\n</g>\n<!-- 6 -->\n<g id=\"node7\" class=\"node\">\n<title>6</title>\n<polygon fill=\"none\" stroke=\"#000000\" points=\"307.5,-261 11.5,-261 11.5,-193 307.5,-193 307.5,-261\"/>\n<text text-anchor=\"middle\" x=\"159.5\" y=\"-245.8\" font-family=\"Times,serif\" font-size=\"14.00\" fill=\"#000000\">property_magnitude_no known property &lt;= 0.5</text>\n<text text-anchor=\"middle\" x=\"159.5\" y=\"-230.8\" font-family=\"Times,serif\" font-size=\"14.00\" fill=\"#000000\">entropy = 0.764</text>\n<text text-anchor=\"middle\" x=\"159.5\" y=\"-215.8\" font-family=\"Times,serif\" font-size=\"14.00\" fill=\"#000000\">samples = 9</text>\n<text text-anchor=\"middle\" x=\"159.5\" y=\"-200.8\" font-family=\"Times,serif\" font-size=\"14.00\" fill=\"#000000\">value = [2, 7]</text>\n</g>\n<!-- 5&#45;&gt;6 -->\n<g id=\"edge6\" class=\"edge\">\n<title>5&#45;&gt;6</title>\n<path fill=\"none\" stroke=\"#000000\" d=\"M305.4461,-296.9465C284.4639,-286.8906 261.3523,-275.814 239.8295,-265.4989\"/>\n<polygon fill=\"#000000\" stroke=\"#000000\" points=\"241.2441,-262.2957 230.7135,-261.13 238.2187,-268.6082 241.2441,-262.2957\"/>\n</g>\n<!-- 11 -->\n<g id=\"node12\" class=\"node\">\n<title>11</title>\n<polygon fill=\"none\" stroke=\"#000000\" points=\"427.5,-253.5 325.5,-253.5 325.5,-200.5 427.5,-200.5 427.5,-253.5\"/>\n<text text-anchor=\"middle\" x=\"376.5\" y=\"-238.3\" font-family=\"Times,serif\" font-size=\"14.00\" fill=\"#000000\">entropy = 0.0</text>\n<text text-anchor=\"middle\" x=\"376.5\" y=\"-223.3\" font-family=\"Times,serif\" font-size=\"14.00\" fill=\"#000000\">samples = 34</text>\n<text text-anchor=\"middle\" x=\"376.5\" y=\"-208.3\" font-family=\"Times,serif\" font-size=\"14.00\" fill=\"#000000\">value = [0, 34]</text>\n</g>\n<!-- 5&#45;&gt;11 -->\n<g id=\"edge11\" class=\"edge\">\n<title>5&#45;&gt;11</title>\n<path fill=\"none\" stroke=\"#000000\" d=\"M376.5,-296.9465C376.5,-286.2621 376.5,-274.4254 376.5,-263.5742\"/>\n<polygon fill=\"#000000\" stroke=\"#000000\" points=\"380.0001,-263.5421 376.5,-253.5422 373.0001,-263.5422 380.0001,-263.5421\"/>\n</g>\n<!-- 7 -->\n<g id=\"node8\" class=\"node\">\n<title>7</title>\n<polygon fill=\"none\" stroke=\"#000000\" points=\"158.5,-157 48.5,-157 48.5,-89 158.5,-89 158.5,-157\"/>\n<text text-anchor=\"middle\" x=\"103.5\" y=\"-141.8\" font-family=\"Times,serif\" font-size=\"14.00\" fill=\"#000000\">id &lt;= 12.0</text>\n<text text-anchor=\"middle\" x=\"103.5\" y=\"-126.8\" font-family=\"Times,serif\" font-size=\"14.00\" fill=\"#000000\">entropy = 0.544</text>\n<text text-anchor=\"middle\" x=\"103.5\" y=\"-111.8\" font-family=\"Times,serif\" font-size=\"14.00\" fill=\"#000000\">samples = 8</text>\n<text text-anchor=\"middle\" x=\"103.5\" y=\"-96.8\" font-family=\"Times,serif\" font-size=\"14.00\" fill=\"#000000\">value = [1, 7]</text>\n</g>\n<!-- 6&#45;&gt;7 -->\n<g id=\"edge7\" class=\"edge\">\n<title>6&#45;&gt;7</title>\n<path fill=\"none\" stroke=\"#000000\" d=\"M141.1635,-192.9465C136.5223,-184.3271 131.4773,-174.9579 126.6329,-165.9611\"/>\n<polygon fill=\"#000000\" stroke=\"#000000\" points=\"129.7004,-164.2754 121.8777,-157.13 123.5371,-167.5941 129.7004,-164.2754\"/>\n</g>\n<!-- 10 -->\n<g id=\"node11\" class=\"node\">\n<title>10</title>\n<polygon fill=\"none\" stroke=\"#000000\" points=\"272,-149.5 177,-149.5 177,-96.5 272,-96.5 272,-149.5\"/>\n<text text-anchor=\"middle\" x=\"224.5\" y=\"-134.3\" font-family=\"Times,serif\" font-size=\"14.00\" fill=\"#000000\">entropy = 0.0</text>\n<text text-anchor=\"middle\" x=\"224.5\" y=\"-119.3\" font-family=\"Times,serif\" font-size=\"14.00\" fill=\"#000000\">samples = 1</text>\n<text text-anchor=\"middle\" x=\"224.5\" y=\"-104.3\" font-family=\"Times,serif\" font-size=\"14.00\" fill=\"#000000\">value = [1, 0]</text>\n</g>\n<!-- 6&#45;&gt;10 -->\n<g id=\"edge10\" class=\"edge\">\n<title>6&#45;&gt;10</title>\n<path fill=\"none\" stroke=\"#000000\" d=\"M180.7834,-192.9465C187.7366,-181.8215 195.4705,-169.4473 202.4769,-158.237\"/>\n<polygon fill=\"#000000\" stroke=\"#000000\" points=\"205.5791,-159.8772 207.9111,-149.5422 199.6431,-156.1671 205.5791,-159.8772\"/>\n</g>\n<!-- 8 -->\n<g id=\"node9\" class=\"node\">\n<title>8</title>\n<polygon fill=\"none\" stroke=\"#000000\" points=\"95,-53 0,-53 0,0 95,0 95,-53\"/>\n<text text-anchor=\"middle\" x=\"47.5\" y=\"-37.8\" font-family=\"Times,serif\" font-size=\"14.00\" fill=\"#000000\">entropy = 0.0</text>\n<text text-anchor=\"middle\" x=\"47.5\" y=\"-22.8\" font-family=\"Times,serif\" font-size=\"14.00\" fill=\"#000000\">samples = 1</text>\n<text text-anchor=\"middle\" x=\"47.5\" y=\"-7.8\" font-family=\"Times,serif\" font-size=\"14.00\" fill=\"#000000\">value = [1, 0]</text>\n</g>\n<!-- 7&#45;&gt;8 -->\n<g id=\"edge8\" class=\"edge\">\n<title>7&#45;&gt;8</title>\n<path fill=\"none\" stroke=\"#000000\" d=\"M83.7565,-88.9777C78.7083,-80.2786 73.2669,-70.9018 68.1734,-62.1247\"/>\n<polygon fill=\"#000000\" stroke=\"#000000\" points=\"71.0689,-60.1409 63.0224,-53.2485 65.0145,-63.6544 71.0689,-60.1409\"/>\n</g>\n<!-- 9 -->\n<g id=\"node10\" class=\"node\">\n<title>9</title>\n<polygon fill=\"none\" stroke=\"#000000\" points=\"208,-53 113,-53 113,0 208,0 208,-53\"/>\n<text text-anchor=\"middle\" x=\"160.5\" y=\"-37.8\" font-family=\"Times,serif\" font-size=\"14.00\" fill=\"#000000\">entropy = 0.0</text>\n<text text-anchor=\"middle\" x=\"160.5\" y=\"-22.8\" font-family=\"Times,serif\" font-size=\"14.00\" fill=\"#000000\">samples = 7</text>\n<text text-anchor=\"middle\" x=\"160.5\" y=\"-7.8\" font-family=\"Times,serif\" font-size=\"14.00\" fill=\"#000000\">value = [0, 7]</text>\n</g>\n<!-- 7&#45;&gt;9 -->\n<g id=\"edge9\" class=\"edge\">\n<title>7&#45;&gt;9</title>\n<path fill=\"none\" stroke=\"#000000\" d=\"M123.5961,-88.9777C128.7344,-80.2786 134.273,-70.9018 139.4575,-62.1247\"/>\n<polygon fill=\"#000000\" stroke=\"#000000\" points=\"142.6281,-63.6387 144.7004,-53.2485 136.601,-60.0786 142.6281,-63.6387\"/>\n</g>\n<!-- 15 -->\n<g id=\"node16\" class=\"node\">\n<title>15</title>\n<polygon fill=\"none\" stroke=\"#000000\" points=\"1015.5,-469 851.5,-469 851.5,-401 1015.5,-401 1015.5,-469\"/>\n<text text-anchor=\"middle\" x=\"933.5\" y=\"-453.8\" font-family=\"Times,serif\" font-size=\"14.00\" fill=\"#000000\">credit_amount &lt;= 1289.5</text>\n<text text-anchor=\"middle\" x=\"933.5\" y=\"-438.8\" font-family=\"Times,serif\" font-size=\"14.00\" fill=\"#000000\">entropy = 0.97</text>\n<text text-anchor=\"middle\" x=\"933.5\" y=\"-423.8\" font-family=\"Times,serif\" font-size=\"14.00\" fill=\"#000000\">samples = 211</text>\n<text text-anchor=\"middle\" x=\"933.5\" y=\"-408.8\" font-family=\"Times,serif\" font-size=\"14.00\" fill=\"#000000\">value = [84, 127]</text>\n</g>\n<!-- 14&#45;&gt;15 -->\n<g id=\"edge15\" class=\"edge\">\n<title>14&#45;&gt;15</title>\n<path fill=\"none\" stroke=\"#000000\" d=\"M1019.588,-504.9465C1007.985,-495.519 995.2779,-485.1946 983.2741,-475.4415\"/>\n<polygon fill=\"#000000\" stroke=\"#000000\" points=\"985.4744,-472.7196 975.5061,-469.13 981.0602,-478.1524 985.4744,-472.7196\"/>\n</g>\n<!-- 36 -->\n<g id=\"node37\" class=\"node\">\n<title>36</title>\n<polygon fill=\"none\" stroke=\"#000000\" points=\"1191,-469 1034,-469 1034,-401 1191,-401 1191,-469\"/>\n<text text-anchor=\"middle\" x=\"1112.5\" y=\"-453.8\" font-family=\"Times,serif\" font-size=\"14.00\" fill=\"#000000\">purpose_new car &lt;= 0.5</text>\n<text text-anchor=\"middle\" x=\"1112.5\" y=\"-438.8\" font-family=\"Times,serif\" font-size=\"14.00\" fill=\"#000000\">entropy = 0.286</text>\n<text text-anchor=\"middle\" x=\"1112.5\" y=\"-423.8\" font-family=\"Times,serif\" font-size=\"14.00\" fill=\"#000000\">samples = 20</text>\n<text text-anchor=\"middle\" x=\"1112.5\" y=\"-408.8\" font-family=\"Times,serif\" font-size=\"14.00\" fill=\"#000000\">value = [1, 19]</text>\n</g>\n<!-- 14&#45;&gt;36 -->\n<g id=\"edge36\" class=\"edge\">\n<title>14&#45;&gt;36</title>\n<path fill=\"none\" stroke=\"#000000\" d=\"M1078.1993,-504.9465C1082.3821,-496.4169 1086.925,-487.153 1091.2946,-478.2424\"/>\n<polygon fill=\"#000000\" stroke=\"#000000\" points=\"1094.5027,-479.6496 1095.7632,-469.13 1088.2177,-476.5675 1094.5027,-479.6496\"/>\n</g>\n<!-- 16 -->\n<g id=\"node17\" class=\"node\">\n<title>16</title>\n<polygon fill=\"none\" stroke=\"#000000\" points=\"768.5,-365 654.5,-365 654.5,-297 768.5,-297 768.5,-365\"/>\n<text text-anchor=\"middle\" x=\"711.5\" y=\"-349.8\" font-family=\"Times,serif\" font-size=\"14.00\" fill=\"#000000\">duration &lt;= 11.0</text>\n<text text-anchor=\"middle\" x=\"711.5\" y=\"-334.8\" font-family=\"Times,serif\" font-size=\"14.00\" fill=\"#000000\">entropy = 1.0</text>\n<text text-anchor=\"middle\" x=\"711.5\" y=\"-319.8\" font-family=\"Times,serif\" font-size=\"14.00\" fill=\"#000000\">samples = 86</text>\n<text text-anchor=\"middle\" x=\"711.5\" y=\"-304.8\" font-family=\"Times,serif\" font-size=\"14.00\" fill=\"#000000\">value = [44, 42]</text>\n</g>\n<!-- 15&#45;&gt;16 -->\n<g id=\"edge16\" class=\"edge\">\n<title>15&#45;&gt;16</title>\n<path fill=\"none\" stroke=\"#000000\" d=\"M860.8089,-400.9465C834.0001,-388.3874 803.7931,-374.2364 777.5986,-361.9651\"/>\n<polygon fill=\"#000000\" stroke=\"#000000\" points=\"779.0532,-358.7816 768.5128,-357.7087 776.0836,-365.1205 779.0532,-358.7816\"/>\n</g>\n<!-- 27 -->\n<g id=\"node28\" class=\"node\">\n<title>27</title>\n<polygon fill=\"none\" stroke=\"#000000\" points=\"1029.5,-365 865.5,-365 865.5,-297 1029.5,-297 1029.5,-365\"/>\n<text text-anchor=\"middle\" x=\"947.5\" y=\"-349.8\" font-family=\"Times,serif\" font-size=\"14.00\" fill=\"#000000\">credit_amount &lt;= 8724.5</text>\n<text text-anchor=\"middle\" x=\"947.5\" y=\"-334.8\" font-family=\"Times,serif\" font-size=\"14.00\" fill=\"#000000\">entropy = 0.904</text>\n<text text-anchor=\"middle\" x=\"947.5\" y=\"-319.8\" font-family=\"Times,serif\" font-size=\"14.00\" fill=\"#000000\">samples = 125</text>\n<text text-anchor=\"middle\" x=\"947.5\" y=\"-304.8\" font-family=\"Times,serif\" font-size=\"14.00\" fill=\"#000000\">value = [40, 85]</text>\n</g>\n<!-- 15&#45;&gt;27 -->\n<g id=\"edge27\" class=\"edge\">\n<title>15&#45;&gt;27</title>\n<path fill=\"none\" stroke=\"#000000\" d=\"M938.0841,-400.9465C939.1961,-392.6863 940.4007,-383.7374 941.5651,-375.0875\"/>\n<polygon fill=\"#000000\" stroke=\"#000000\" points=\"945.0401,-375.5076 942.9056,-365.13 938.1027,-374.5736 945.0401,-375.5076\"/>\n</g>\n<!-- 17 -->\n<g id=\"node18\" class=\"node\">\n<title>17</title>\n<polygon fill=\"none\" stroke=\"#000000\" points=\"603,-261 446,-261 446,-193 603,-193 603,-261\"/>\n<text text-anchor=\"middle\" x=\"524.5\" y=\"-245.8\" font-family=\"Times,serif\" font-size=\"14.00\" fill=\"#000000\">purpose_radio/tv &lt;= 0.5</text>\n<text text-anchor=\"middle\" x=\"524.5\" y=\"-230.8\" font-family=\"Times,serif\" font-size=\"14.00\" fill=\"#000000\">entropy = 0.888</text>\n<text text-anchor=\"middle\" x=\"524.5\" y=\"-215.8\" font-family=\"Times,serif\" font-size=\"14.00\" fill=\"#000000\">samples = 36</text>\n<text text-anchor=\"middle\" x=\"524.5\" y=\"-200.8\" font-family=\"Times,serif\" font-size=\"14.00\" fill=\"#000000\">value = [11, 25]</text>\n</g>\n<!-- 16&#45;&gt;17 -->\n<g id=\"edge17\" class=\"edge\">\n<title>16&#45;&gt;17</title>\n<path fill=\"none\" stroke=\"#000000\" d=\"M654.3777,-299.2315C635.5627,-288.7675 614.4194,-277.0086 594.7433,-266.0658\"/>\n<polygon fill=\"#000000\" stroke=\"#000000\" points=\"596.2603,-262.9047 585.8198,-261.103 592.858,-269.0222 596.2603,-262.9047\"/>\n</g>\n<!-- 22 -->\n<g id=\"node23\" class=\"node\">\n<title>22</title>\n<polygon fill=\"none\" stroke=\"#000000\" points=\"790,-261 633,-261 633,-193 790,-193 790,-261\"/>\n<text text-anchor=\"middle\" x=\"711.5\" y=\"-245.8\" font-family=\"Times,serif\" font-size=\"14.00\" fill=\"#000000\">credit_amount &lt;= 597.0</text>\n<text text-anchor=\"middle\" x=\"711.5\" y=\"-230.8\" font-family=\"Times,serif\" font-size=\"14.00\" fill=\"#000000\">entropy = 0.925</text>\n<text text-anchor=\"middle\" x=\"711.5\" y=\"-215.8\" font-family=\"Times,serif\" font-size=\"14.00\" fill=\"#000000\">samples = 50</text>\n<text text-anchor=\"middle\" x=\"711.5\" y=\"-200.8\" font-family=\"Times,serif\" font-size=\"14.00\" fill=\"#000000\">value = [33, 17]</text>\n</g>\n<!-- 16&#45;&gt;22 -->\n<g id=\"edge22\" class=\"edge\">\n<title>16&#45;&gt;22</title>\n<path fill=\"none\" stroke=\"#000000\" d=\"M711.5,-296.9465C711.5,-288.776 711.5,-279.9318 711.5,-271.3697\"/>\n<polygon fill=\"#000000\" stroke=\"#000000\" points=\"715.0001,-271.13 711.5,-261.13 708.0001,-271.13 715.0001,-271.13\"/>\n</g>\n<!-- 18 -->\n<g id=\"node19\" class=\"node\">\n<title>18</title>\n<polygon fill=\"none\" stroke=\"#000000\" points=\"454.5,-157 344.5,-157 344.5,-89 454.5,-89 454.5,-157\"/>\n<text text-anchor=\"middle\" x=\"399.5\" y=\"-141.8\" font-family=\"Times,serif\" font-size=\"14.00\" fill=\"#000000\">age &lt;= 36.0</text>\n<text text-anchor=\"middle\" x=\"399.5\" y=\"-126.8\" font-family=\"Times,serif\" font-size=\"14.00\" fill=\"#000000\">entropy = 0.983</text>\n<text text-anchor=\"middle\" x=\"399.5\" y=\"-111.8\" font-family=\"Times,serif\" font-size=\"14.00\" fill=\"#000000\">samples = 26</text>\n<text text-anchor=\"middle\" x=\"399.5\" y=\"-96.8\" font-family=\"Times,serif\" font-size=\"14.00\" fill=\"#000000\">value = [11, 15]</text>\n</g>\n<!-- 17&#45;&gt;18 -->\n<g id=\"edge18\" class=\"edge\">\n<title>17&#45;&gt;18</title>\n<path fill=\"none\" stroke=\"#000000\" d=\"M483.5703,-192.9465C472.3472,-183.6088 460.0663,-173.3911 448.4427,-163.7203\"/>\n<polygon fill=\"#000000\" stroke=\"#000000\" points=\"450.4474,-160.8353 440.5216,-157.13 445.9704,-166.2164 450.4474,-160.8353\"/>\n</g>\n<!-- 21 -->\n<g id=\"node22\" class=\"node\">\n<title>21</title>\n<polygon fill=\"none\" stroke=\"#000000\" points=\"574.5,-149.5 472.5,-149.5 472.5,-96.5 574.5,-96.5 574.5,-149.5\"/>\n<text text-anchor=\"middle\" x=\"523.5\" y=\"-134.3\" font-family=\"Times,serif\" font-size=\"14.00\" fill=\"#000000\">entropy = 0.0</text>\n<text text-anchor=\"middle\" x=\"523.5\" y=\"-119.3\" font-family=\"Times,serif\" font-size=\"14.00\" fill=\"#000000\">samples = 10</text>\n<text text-anchor=\"middle\" x=\"523.5\" y=\"-104.3\" font-family=\"Times,serif\" font-size=\"14.00\" fill=\"#000000\">value = [0, 10]</text>\n</g>\n<!-- 17&#45;&gt;21 -->\n<g id=\"edge21\" class=\"edge\">\n<title>17&#45;&gt;21</title>\n<path fill=\"none\" stroke=\"#000000\" d=\"M524.1726,-192.9465C524.0698,-182.2621 523.956,-170.4254 523.8517,-159.5742\"/>\n<polygon fill=\"#000000\" stroke=\"#000000\" points=\"527.3513,-159.508 523.7552,-149.5422 520.3516,-159.5754 527.3513,-159.508\"/>\n</g>\n<!-- 19 -->\n<g id=\"node20\" class=\"node\">\n<title>19</title>\n<polygon fill=\"none\" stroke=\"#000000\" points=\"391,-53 288,-53 288,0 391,0 391,-53\"/>\n<text text-anchor=\"middle\" x=\"339.5\" y=\"-37.8\" font-family=\"Times,serif\" font-size=\"14.00\" fill=\"#000000\">entropy = 0.94</text>\n<text text-anchor=\"middle\" x=\"339.5\" y=\"-22.8\" font-family=\"Times,serif\" font-size=\"14.00\" fill=\"#000000\">samples = 14</text>\n<text text-anchor=\"middle\" x=\"339.5\" y=\"-7.8\" font-family=\"Times,serif\" font-size=\"14.00\" fill=\"#000000\">value = [9, 5]</text>\n</g>\n<!-- 18&#45;&gt;19 -->\n<g id=\"edge19\" class=\"edge\">\n<title>18&#45;&gt;19</title>\n<path fill=\"none\" stroke=\"#000000\" d=\"M378.3462,-88.9777C372.8805,-80.187 366.9846,-70.7044 361.4778,-61.8477\"/>\n<polygon fill=\"#000000\" stroke=\"#000000\" points=\"364.3837,-59.8927 356.1312,-53.2485 358.4391,-63.5889 364.3837,-59.8927\"/>\n</g>\n<!-- 20 -->\n<g id=\"node21\" class=\"node\">\n<title>20</title>\n<polygon fill=\"none\" stroke=\"#000000\" points=\"512,-53 409,-53 409,0 512,0 512,-53\"/>\n<text text-anchor=\"middle\" x=\"460.5\" y=\"-37.8\" font-family=\"Times,serif\" font-size=\"14.00\" fill=\"#000000\">entropy = 0.65</text>\n<text text-anchor=\"middle\" x=\"460.5\" y=\"-22.8\" font-family=\"Times,serif\" font-size=\"14.00\" fill=\"#000000\">samples = 12</text>\n<text text-anchor=\"middle\" x=\"460.5\" y=\"-7.8\" font-family=\"Times,serif\" font-size=\"14.00\" fill=\"#000000\">value = [2, 10]</text>\n</g>\n<!-- 18&#45;&gt;20 -->\n<g id=\"edge20\" class=\"edge\">\n<title>18&#45;&gt;20</title>\n<path fill=\"none\" stroke=\"#000000\" d=\"M421.0063,-88.9777C426.5631,-80.187 432.5573,-70.7044 438.1559,-61.8477\"/>\n<polygon fill=\"#000000\" stroke=\"#000000\" points=\"441.2069,-63.5714 443.5916,-53.2485 435.2899,-59.8312 441.2069,-63.5714\"/>\n</g>\n<!-- 23 -->\n<g id=\"node24\" class=\"node\">\n<title>23</title>\n<polygon fill=\"none\" stroke=\"#000000\" points=\"688,-149.5 593,-149.5 593,-96.5 688,-96.5 688,-149.5\"/>\n<text text-anchor=\"middle\" x=\"640.5\" y=\"-134.3\" font-family=\"Times,serif\" font-size=\"14.00\" fill=\"#000000\">entropy = 0.0</text>\n<text text-anchor=\"middle\" x=\"640.5\" y=\"-119.3\" font-family=\"Times,serif\" font-size=\"14.00\" fill=\"#000000\">samples = 3</text>\n<text text-anchor=\"middle\" x=\"640.5\" y=\"-104.3\" font-family=\"Times,serif\" font-size=\"14.00\" fill=\"#000000\">value = [0, 3]</text>\n</g>\n<!-- 22&#45;&gt;23 -->\n<g id=\"edge23\" class=\"edge\">\n<title>22&#45;&gt;23</title>\n<path fill=\"none\" stroke=\"#000000\" d=\"M688.2519,-192.9465C680.5818,-181.7113 672.0418,-169.2021 664.3289,-157.9043\"/>\n<polygon fill=\"#000000\" stroke=\"#000000\" points=\"667.1491,-155.8277 658.6201,-149.5422 661.3678,-159.7745 667.1491,-155.8277\"/>\n</g>\n<!-- 24 -->\n<g id=\"node25\" class=\"node\">\n<title>24</title>\n<polygon fill=\"none\" stroke=\"#000000\" points=\"863,-157 706,-157 706,-89 863,-89 863,-157\"/>\n<text text-anchor=\"middle\" x=\"784.5\" y=\"-141.8\" font-family=\"Times,serif\" font-size=\"14.00\" fill=\"#000000\">credit_amount &lt;= 696.0</text>\n<text text-anchor=\"middle\" x=\"784.5\" y=\"-126.8\" font-family=\"Times,serif\" font-size=\"14.00\" fill=\"#000000\">entropy = 0.879</text>\n<text text-anchor=\"middle\" x=\"784.5\" y=\"-111.8\" font-family=\"Times,serif\" font-size=\"14.00\" fill=\"#000000\">samples = 47</text>\n<text text-anchor=\"middle\" x=\"784.5\" y=\"-96.8\" font-family=\"Times,serif\" font-size=\"14.00\" fill=\"#000000\">value = [33, 14]</text>\n</g>\n<!-- 22&#45;&gt;24 -->\n<g id=\"edge24\" class=\"edge\">\n<title>22&#45;&gt;24</title>\n<path fill=\"none\" stroke=\"#000000\" d=\"M735.4029,-192.9465C741.5791,-184.1475 748.3038,-174.5672 754.739,-165.3993\"/>\n<polygon fill=\"#000000\" stroke=\"#000000\" points=\"757.6629,-167.3258 760.5434,-157.13 751.9334,-163.3041 757.6629,-167.3258\"/>\n</g>\n<!-- 25 -->\n<g id=\"node26\" class=\"node\">\n<title>25</title>\n<polygon fill=\"none\" stroke=\"#000000\" points=\"705,-53 610,-53 610,0 705,0 705,-53\"/>\n<text text-anchor=\"middle\" x=\"657.5\" y=\"-37.8\" font-family=\"Times,serif\" font-size=\"14.00\" fill=\"#000000\">entropy = 0.0</text>\n<text text-anchor=\"middle\" x=\"657.5\" y=\"-22.8\" font-family=\"Times,serif\" font-size=\"14.00\" fill=\"#000000\">samples = 7</text>\n<text text-anchor=\"middle\" x=\"657.5\" y=\"-7.8\" font-family=\"Times,serif\" font-size=\"14.00\" fill=\"#000000\">value = [7, 0]</text>\n</g>\n<!-- 24&#45;&gt;25 -->\n<g id=\"edge25\" class=\"edge\">\n<title>24&#45;&gt;25</title>\n<path fill=\"none\" stroke=\"#000000\" d=\"M739.7246,-88.9777C727.0708,-79.3629 713.3277,-68.9203 700.7647,-59.3743\"/>\n<polygon fill=\"#000000\" stroke=\"#000000\" points=\"702.7824,-56.5118 692.7027,-53.2485 698.5474,-62.0853 702.7824,-56.5118\"/>\n</g>\n<!-- 26 -->\n<g id=\"node27\" class=\"node\">\n<title>26</title>\n<polygon fill=\"none\" stroke=\"#000000\" points=\"833.5,-53 723.5,-53 723.5,0 833.5,0 833.5,-53\"/>\n<text text-anchor=\"middle\" x=\"778.5\" y=\"-37.8\" font-family=\"Times,serif\" font-size=\"14.00\" fill=\"#000000\">entropy = 0.934</text>\n<text text-anchor=\"middle\" x=\"778.5\" y=\"-22.8\" font-family=\"Times,serif\" font-size=\"14.00\" fill=\"#000000\">samples = 40</text>\n<text text-anchor=\"middle\" x=\"778.5\" y=\"-7.8\" font-family=\"Times,serif\" font-size=\"14.00\" fill=\"#000000\">value = [26, 14]</text>\n</g>\n<!-- 24&#45;&gt;26 -->\n<g id=\"edge26\" class=\"edge\">\n<title>24&#45;&gt;26</title>\n<path fill=\"none\" stroke=\"#000000\" d=\"M782.3846,-88.9777C781.8665,-80.6449 781.3098,-71.6903 780.7841,-63.2364\"/>\n<polygon fill=\"#000000\" stroke=\"#000000\" points=\"784.277,-63.012 780.1631,-53.2485 777.2905,-63.4464 784.277,-63.012\"/>\n</g>\n<!-- 28 -->\n<g id=\"node29\" class=\"node\">\n<title>28</title>\n<polygon fill=\"none\" stroke=\"#000000\" points=\"1046,-261 849,-261 849,-193 1046,-193 1046,-261\"/>\n<text text-anchor=\"middle\" x=\"947.5\" y=\"-245.8\" font-family=\"Times,serif\" font-size=\"14.00\" fill=\"#000000\">checking_status_&gt;=200 &lt;= 0.5</text>\n<text text-anchor=\"middle\" x=\"947.5\" y=\"-230.8\" font-family=\"Times,serif\" font-size=\"14.00\" fill=\"#000000\">entropy = 0.885</text>\n<text text-anchor=\"middle\" x=\"947.5\" y=\"-215.8\" font-family=\"Times,serif\" font-size=\"14.00\" fill=\"#000000\">samples = 122</text>\n<text text-anchor=\"middle\" x=\"947.5\" y=\"-200.8\" font-family=\"Times,serif\" font-size=\"14.00\" fill=\"#000000\">value = [37, 85]</text>\n</g>\n<!-- 27&#45;&gt;28 -->\n<g id=\"edge28\" class=\"edge\">\n<title>27&#45;&gt;28</title>\n<path fill=\"none\" stroke=\"#000000\" d=\"M947.5,-296.9465C947.5,-288.776 947.5,-279.9318 947.5,-271.3697\"/>\n<polygon fill=\"#000000\" stroke=\"#000000\" points=\"951.0001,-271.13 947.5,-261.13 944.0001,-271.13 951.0001,-271.13\"/>\n</g>\n<!-- 35 -->\n<g id=\"node36\" class=\"node\">\n<title>35</title>\n<polygon fill=\"none\" stroke=\"#000000\" points=\"1159,-253.5 1064,-253.5 1064,-200.5 1159,-200.5 1159,-253.5\"/>\n<text text-anchor=\"middle\" x=\"1111.5\" y=\"-238.3\" font-family=\"Times,serif\" font-size=\"14.00\" fill=\"#000000\">entropy = 0.0</text>\n<text text-anchor=\"middle\" x=\"1111.5\" y=\"-223.3\" font-family=\"Times,serif\" font-size=\"14.00\" fill=\"#000000\">samples = 3</text>\n<text text-anchor=\"middle\" x=\"1111.5\" y=\"-208.3\" font-family=\"Times,serif\" font-size=\"14.00\" fill=\"#000000\">value = [3, 0]</text>\n</g>\n<!-- 27&#45;&gt;35 -->\n<g id=\"edge35\" class=\"edge\">\n<title>27&#45;&gt;35</title>\n<path fill=\"none\" stroke=\"#000000\" d=\"M1001.1997,-296.9465C1020.4801,-284.72 1042.1396,-270.9847 1061.1272,-258.9437\"/>\n<polygon fill=\"#000000\" stroke=\"#000000\" points=\"1063.0744,-261.8534 1069.645,-253.5422 1059.3255,-255.9418 1063.0744,-261.8534\"/>\n</g>\n<!-- 29 -->\n<g id=\"node30\" class=\"node\">\n<title>29</title>\n<polygon fill=\"none\" stroke=\"#000000\" points=\"1002.5,-157 892.5,-157 892.5,-89 1002.5,-89 1002.5,-157\"/>\n<text text-anchor=\"middle\" x=\"947.5\" y=\"-141.8\" font-family=\"Times,serif\" font-size=\"14.00\" fill=\"#000000\">id &lt;= 762.5</text>\n<text text-anchor=\"middle\" x=\"947.5\" y=\"-126.8\" font-family=\"Times,serif\" font-size=\"14.00\" fill=\"#000000\">entropy = 0.928</text>\n<text text-anchor=\"middle\" x=\"947.5\" y=\"-111.8\" font-family=\"Times,serif\" font-size=\"14.00\" fill=\"#000000\">samples = 102</text>\n<text text-anchor=\"middle\" x=\"947.5\" y=\"-96.8\" font-family=\"Times,serif\" font-size=\"14.00\" fill=\"#000000\">value = [35, 67]</text>\n</g>\n<!-- 28&#45;&gt;29 -->\n<g id=\"edge29\" class=\"edge\">\n<title>28&#45;&gt;29</title>\n<path fill=\"none\" stroke=\"#000000\" d=\"M947.5,-192.9465C947.5,-184.776 947.5,-175.9318 947.5,-167.3697\"/>\n<polygon fill=\"#000000\" stroke=\"#000000\" points=\"951.0001,-167.13 947.5,-157.13 944.0001,-167.13 951.0001,-167.13\"/>\n</g>\n<!-- 32 -->\n<g id=\"node33\" class=\"node\">\n<title>32</title>\n<polygon fill=\"none\" stroke=\"#000000\" points=\"1271,-157 1024,-157 1024,-89 1271,-89 1271,-157\"/>\n<text text-anchor=\"middle\" x=\"1147.5\" y=\"-141.8\" font-family=\"Times,serif\" font-size=\"14.00\" fill=\"#000000\">credit_history_no credits/all paid &lt;= 0.5</text>\n<text text-anchor=\"middle\" x=\"1147.5\" y=\"-126.8\" font-family=\"Times,serif\" font-size=\"14.00\" fill=\"#000000\">entropy = 0.469</text>\n<text text-anchor=\"middle\" x=\"1147.5\" y=\"-111.8\" font-family=\"Times,serif\" font-size=\"14.00\" fill=\"#000000\">samples = 20</text>\n<text text-anchor=\"middle\" x=\"1147.5\" y=\"-96.8\" font-family=\"Times,serif\" font-size=\"14.00\" fill=\"#000000\">value = [2, 18]</text>\n</g>\n<!-- 28&#45;&gt;32 -->\n<g id=\"edge32\" class=\"edge\">\n<title>28&#45;&gt;32</title>\n<path fill=\"none\" stroke=\"#000000\" d=\"M1012.9875,-192.9465C1032.1532,-182.9803 1053.2467,-172.0117 1072.9319,-161.7754\"/>\n<polygon fill=\"#000000\" stroke=\"#000000\" points=\"1074.608,-164.8488 1081.8654,-157.13 1071.3785,-158.6383 1074.608,-164.8488\"/>\n</g>\n<!-- 30 -->\n<g id=\"node31\" class=\"node\">\n<title>30</title>\n<polygon fill=\"none\" stroke=\"#000000\" points=\"961.5,-53 851.5,-53 851.5,0 961.5,0 961.5,-53\"/>\n<text text-anchor=\"middle\" x=\"906.5\" y=\"-37.8\" font-family=\"Times,serif\" font-size=\"14.00\" fill=\"#000000\">entropy = 0.946</text>\n<text text-anchor=\"middle\" x=\"906.5\" y=\"-22.8\" font-family=\"Times,serif\" font-size=\"14.00\" fill=\"#000000\">samples = 96</text>\n<text text-anchor=\"middle\" x=\"906.5\" y=\"-7.8\" font-family=\"Times,serif\" font-size=\"14.00\" fill=\"#000000\">value = [35, 61]</text>\n</g>\n<!-- 29&#45;&gt;30 -->\n<g id=\"edge30\" class=\"edge\">\n<title>29&#45;&gt;30</title>\n<path fill=\"none\" stroke=\"#000000\" d=\"M933.0449,-88.9777C929.4267,-80.4617 925.5326,-71.2963 921.8717,-62.6798\"/>\n<polygon fill=\"#000000\" stroke=\"#000000\" points=\"924.9964,-61.0836 917.8646,-53.2485 918.5538,-63.8209 924.9964,-61.0836\"/>\n</g>\n<!-- 31 -->\n<g id=\"node32\" class=\"node\">\n<title>31</title>\n<polygon fill=\"none\" stroke=\"#000000\" points=\"1075,-53 980,-53 980,0 1075,0 1075,-53\"/>\n<text text-anchor=\"middle\" x=\"1027.5\" y=\"-37.8\" font-family=\"Times,serif\" font-size=\"14.00\" fill=\"#000000\">entropy = 0.0</text>\n<text text-anchor=\"middle\" x=\"1027.5\" y=\"-22.8\" font-family=\"Times,serif\" font-size=\"14.00\" fill=\"#000000\">samples = 6</text>\n<text text-anchor=\"middle\" x=\"1027.5\" y=\"-7.8\" font-family=\"Times,serif\" font-size=\"14.00\" fill=\"#000000\">value = [0, 6]</text>\n</g>\n<!-- 29&#45;&gt;31 -->\n<g id=\"edge31\" class=\"edge\">\n<title>29&#45;&gt;31</title>\n<path fill=\"none\" stroke=\"#000000\" d=\"M975.705,-88.9777C983.2204,-79.9123 991.3458,-70.111 998.883,-61.0192\"/>\n<polygon fill=\"#000000\" stroke=\"#000000\" points=\"1001.6374,-63.1808 1005.3251,-53.2485 996.2484,-58.7133 1001.6374,-63.1808\"/>\n</g>\n<!-- 33 -->\n<g id=\"node34\" class=\"node\">\n<title>33</title>\n<polygon fill=\"none\" stroke=\"#000000\" points=\"1203.5,-53 1093.5,-53 1093.5,0 1203.5,0 1203.5,-53\"/>\n<text text-anchor=\"middle\" x=\"1148.5\" y=\"-37.8\" font-family=\"Times,serif\" font-size=\"14.00\" fill=\"#000000\">entropy = 0.297</text>\n<text text-anchor=\"middle\" x=\"1148.5\" y=\"-22.8\" font-family=\"Times,serif\" font-size=\"14.00\" fill=\"#000000\">samples = 19</text>\n<text text-anchor=\"middle\" x=\"1148.5\" y=\"-7.8\" font-family=\"Times,serif\" font-size=\"14.00\" fill=\"#000000\">value = [1, 18]</text>\n</g>\n<!-- 32&#45;&gt;33 -->\n<g id=\"edge33\" class=\"edge\">\n<title>32&#45;&gt;33</title>\n<path fill=\"none\" stroke=\"#000000\" d=\"M1147.8526,-88.9777C1147.938,-80.7364 1148.0297,-71.887 1148.1164,-63.5153\"/>\n<polygon fill=\"#000000\" stroke=\"#000000\" points=\"1151.6189,-63.2842 1148.2228,-53.2485 1144.6193,-63.2116 1151.6189,-63.2842\"/>\n</g>\n<!-- 34 -->\n<g id=\"node35\" class=\"node\">\n<title>34</title>\n<polygon fill=\"none\" stroke=\"#000000\" points=\"1317,-53 1222,-53 1222,0 1317,0 1317,-53\"/>\n<text text-anchor=\"middle\" x=\"1269.5\" y=\"-37.8\" font-family=\"Times,serif\" font-size=\"14.00\" fill=\"#000000\">entropy = 0.0</text>\n<text text-anchor=\"middle\" x=\"1269.5\" y=\"-22.8\" font-family=\"Times,serif\" font-size=\"14.00\" fill=\"#000000\">samples = 1</text>\n<text text-anchor=\"middle\" x=\"1269.5\" y=\"-7.8\" font-family=\"Times,serif\" font-size=\"14.00\" fill=\"#000000\">value = [1, 0]</text>\n</g>\n<!-- 32&#45;&gt;34 -->\n<g id=\"edge34\" class=\"edge\">\n<title>32&#45;&gt;34</title>\n<path fill=\"none\" stroke=\"#000000\" d=\"M1190.5126,-88.9777C1202.5524,-79.4545 1215.6188,-69.1191 1227.5935,-59.6473\"/>\n<polygon fill=\"#000000\" stroke=\"#000000\" points=\"1230.0115,-62.1973 1235.6833,-53.2485 1225.6689,-56.7072 1230.0115,-62.1973\"/>\n</g>\n<!-- 37 -->\n<g id=\"node38\" class=\"node\">\n<title>37</title>\n<polygon fill=\"none\" stroke=\"#000000\" points=\"1156.5,-357.5 1054.5,-357.5 1054.5,-304.5 1156.5,-304.5 1156.5,-357.5\"/>\n<text text-anchor=\"middle\" x=\"1105.5\" y=\"-342.3\" font-family=\"Times,serif\" font-size=\"14.00\" fill=\"#000000\">entropy = 0.0</text>\n<text text-anchor=\"middle\" x=\"1105.5\" y=\"-327.3\" font-family=\"Times,serif\" font-size=\"14.00\" fill=\"#000000\">samples = 18</text>\n<text text-anchor=\"middle\" x=\"1105.5\" y=\"-312.3\" font-family=\"Times,serif\" font-size=\"14.00\" fill=\"#000000\">value = [0, 18]</text>\n</g>\n<!-- 36&#45;&gt;37 -->\n<g id=\"edge37\" class=\"edge\">\n<title>36&#45;&gt;37</title>\n<path fill=\"none\" stroke=\"#000000\" d=\"M1110.2079,-400.9465C1109.4888,-390.2621 1108.6921,-378.4254 1107.9617,-367.5742\"/>\n<polygon fill=\"#000000\" stroke=\"#000000\" points=\"1111.4502,-367.2845 1107.2865,-357.5422 1104.466,-367.7547 1111.4502,-367.2845\"/>\n</g>\n<!-- 38 -->\n<g id=\"node39\" class=\"node\">\n<title>38</title>\n<polygon fill=\"none\" stroke=\"#000000\" points=\"1270,-357.5 1175,-357.5 1175,-304.5 1270,-304.5 1270,-357.5\"/>\n<text text-anchor=\"middle\" x=\"1222.5\" y=\"-342.3\" font-family=\"Times,serif\" font-size=\"14.00\" fill=\"#000000\">entropy = 1.0</text>\n<text text-anchor=\"middle\" x=\"1222.5\" y=\"-327.3\" font-family=\"Times,serif\" font-size=\"14.00\" fill=\"#000000\">samples = 2</text>\n<text text-anchor=\"middle\" x=\"1222.5\" y=\"-312.3\" font-family=\"Times,serif\" font-size=\"14.00\" fill=\"#000000\">value = [1, 1]</text>\n</g>\n<!-- 36&#45;&gt;38 -->\n<g id=\"edge38\" class=\"edge\">\n<title>36&#45;&gt;38</title>\n<path fill=\"none\" stroke=\"#000000\" d=\"M1148.5181,-400.9465C1160.8675,-389.2707 1174.6722,-376.219 1186.9817,-364.5809\"/>\n<polygon fill=\"#000000\" stroke=\"#000000\" points=\"1189.5646,-366.9556 1194.4266,-357.5422 1184.7555,-361.869 1189.5646,-366.9556\"/>\n</g>\n<!-- 40 -->\n<g id=\"node41\" class=\"node\">\n<title>40</title>\n<polygon fill=\"none\" stroke=\"#000000\" points=\"1780,-573 1561,-573 1561,-505 1780,-505 1780,-573\"/>\n<text text-anchor=\"middle\" x=\"1670.5\" y=\"-557.8\" font-family=\"Times,serif\" font-size=\"14.00\" fill=\"#000000\">other_payment_plans_none &lt;= 0.5</text>\n<text text-anchor=\"middle\" x=\"1670.5\" y=\"-542.8\" font-family=\"Times,serif\" font-size=\"14.00\" fill=\"#000000\">entropy = 0.777</text>\n<text text-anchor=\"middle\" x=\"1670.5\" y=\"-527.8\" font-family=\"Times,serif\" font-size=\"14.00\" fill=\"#000000\">samples = 48</text>\n<text text-anchor=\"middle\" x=\"1670.5\" y=\"-512.8\" font-family=\"Times,serif\" font-size=\"14.00\" fill=\"#000000\">value = [37, 11]</text>\n</g>\n<!-- 39&#45;&gt;40 -->\n<g id=\"edge40\" class=\"edge\">\n<title>39&#45;&gt;40</title>\n<path fill=\"none\" stroke=\"#000000\" d=\"M1942.3955,-618.8789C1897.1114,-605.5751 1840.0617,-588.8147 1789.9275,-574.086\"/>\n<polygon fill=\"#000000\" stroke=\"#000000\" points=\"1790.9064,-570.7258 1780.3253,-571.2651 1788.9333,-577.442 1790.9064,-570.7258\"/>\n</g>\n<!-- 55 -->\n<g id=\"node56\" class=\"node\">\n<title>55</title>\n<polygon fill=\"none\" stroke=\"#000000\" points=\"2201,-573 2086,-573 2086,-505 2201,-505 2201,-573\"/>\n<text text-anchor=\"middle\" x=\"2143.5\" y=\"-557.8\" font-family=\"Times,serif\" font-size=\"14.00\" fill=\"#000000\">duration &lt;= 31.5</text>\n<text text-anchor=\"middle\" x=\"2143.5\" y=\"-542.8\" font-family=\"Times,serif\" font-size=\"14.00\" fill=\"#000000\">entropy = 0.998</text>\n<text text-anchor=\"middle\" x=\"2143.5\" y=\"-527.8\" font-family=\"Times,serif\" font-size=\"14.00\" fill=\"#000000\">samples = 163</text>\n<text text-anchor=\"middle\" x=\"2143.5\" y=\"-512.8\" font-family=\"Times,serif\" font-size=\"14.00\" fill=\"#000000\">value = [77, 86]</text>\n</g>\n<!-- 39&#45;&gt;55 -->\n<g id=\"edge55\" class=\"edge\">\n<title>39&#45;&gt;55</title>\n<path fill=\"none\" stroke=\"#000000\" d=\"M2063.4651,-608.9465C2074.1495,-599.6088 2085.8409,-589.3911 2096.9066,-579.7203\"/>\n<polygon fill=\"#000000\" stroke=\"#000000\" points=\"2099.2209,-582.346 2104.4474,-573.13 2094.6145,-577.0752 2099.2209,-582.346\"/>\n</g>\n<!-- 41 -->\n<g id=\"node42\" class=\"node\">\n<title>41</title>\n<polygon fill=\"none\" stroke=\"#000000\" points=\"1565.5,-461.5 1463.5,-461.5 1463.5,-408.5 1565.5,-408.5 1565.5,-461.5\"/>\n<text text-anchor=\"middle\" x=\"1514.5\" y=\"-446.3\" font-family=\"Times,serif\" font-size=\"14.00\" fill=\"#000000\">entropy = 0.0</text>\n<text text-anchor=\"middle\" x=\"1514.5\" y=\"-431.3\" font-family=\"Times,serif\" font-size=\"14.00\" fill=\"#000000\">samples = 12</text>\n<text text-anchor=\"middle\" x=\"1514.5\" y=\"-416.3\" font-family=\"Times,serif\" font-size=\"14.00\" fill=\"#000000\">value = [12, 0]</text>\n</g>\n<!-- 40&#45;&gt;41 -->\n<g id=\"edge41\" class=\"edge\">\n<title>40&#45;&gt;41</title>\n<path fill=\"none\" stroke=\"#000000\" d=\"M1619.4198,-504.9465C1601.2452,-492.8301 1580.848,-479.232 1562.9044,-467.2696\"/>\n<polygon fill=\"#000000\" stroke=\"#000000\" points=\"1564.5752,-464.177 1554.3132,-461.5422 1560.6923,-470.0014 1564.5752,-464.177\"/>\n</g>\n<!-- 42 -->\n<g id=\"node43\" class=\"node\">\n<title>42</title>\n<polygon fill=\"none\" stroke=\"#000000\" points=\"1757,-469 1584,-469 1584,-401 1757,-401 1757,-469\"/>\n<text text-anchor=\"middle\" x=\"1670.5\" y=\"-453.8\" font-family=\"Times,serif\" font-size=\"14.00\" fill=\"#000000\">checking_status_&lt;0 &lt;= 0.5</text>\n<text text-anchor=\"middle\" x=\"1670.5\" y=\"-438.8\" font-family=\"Times,serif\" font-size=\"14.00\" fill=\"#000000\">entropy = 0.888</text>\n<text text-anchor=\"middle\" x=\"1670.5\" y=\"-423.8\" font-family=\"Times,serif\" font-size=\"14.00\" fill=\"#000000\">samples = 36</text>\n<text text-anchor=\"middle\" x=\"1670.5\" y=\"-408.8\" font-family=\"Times,serif\" font-size=\"14.00\" fill=\"#000000\">value = [25, 11]</text>\n</g>\n<!-- 40&#45;&gt;42 -->\n<g id=\"edge42\" class=\"edge\">\n<title>40&#45;&gt;42</title>\n<path fill=\"none\" stroke=\"#000000\" d=\"M1670.5,-504.9465C1670.5,-496.776 1670.5,-487.9318 1670.5,-479.3697\"/>\n<polygon fill=\"#000000\" stroke=\"#000000\" points=\"1674.0001,-479.13 1670.5,-469.13 1667.0001,-479.13 1674.0001,-479.13\"/>\n</g>\n<!-- 43 -->\n<g id=\"node44\" class=\"node\">\n<title>43</title>\n<polygon fill=\"none\" stroke=\"#000000\" points=\"1527,-365 1432,-365 1432,-297 1527,-297 1527,-365\"/>\n<text text-anchor=\"middle\" x=\"1479.5\" y=\"-349.8\" font-family=\"Times,serif\" font-size=\"14.00\" fill=\"#000000\">id &lt;= 231.5</text>\n<text text-anchor=\"middle\" x=\"1479.5\" y=\"-334.8\" font-family=\"Times,serif\" font-size=\"14.00\" fill=\"#000000\">entropy = 1.0</text>\n<text text-anchor=\"middle\" x=\"1479.5\" y=\"-319.8\" font-family=\"Times,serif\" font-size=\"14.00\" fill=\"#000000\">samples = 16</text>\n<text text-anchor=\"middle\" x=\"1479.5\" y=\"-304.8\" font-family=\"Times,serif\" font-size=\"14.00\" fill=\"#000000\">value = [8, 8]</text>\n</g>\n<!-- 42&#45;&gt;43 -->\n<g id=\"edge43\" class=\"edge\">\n<title>42&#45;&gt;43</title>\n<path fill=\"none\" stroke=\"#000000\" d=\"M1607.9595,-400.9465C1584.7162,-388.2905 1558.5039,-374.0178 1535.8473,-361.6813\"/>\n<polygon fill=\"#000000\" stroke=\"#000000\" points=\"1537.4842,-358.5874 1527.028,-356.8791 1534.1367,-364.7351 1537.4842,-358.5874\"/>\n</g>\n<!-- 50 -->\n<g id=\"node51\" class=\"node\">\n<title>50</title>\n<polygon fill=\"none\" stroke=\"#000000\" points=\"1722,-365 1619,-365 1619,-297 1722,-297 1722,-365\"/>\n<text text-anchor=\"middle\" x=\"1670.5\" y=\"-349.8\" font-family=\"Times,serif\" font-size=\"14.00\" fill=\"#000000\">age &lt;= 50.0</text>\n<text text-anchor=\"middle\" x=\"1670.5\" y=\"-334.8\" font-family=\"Times,serif\" font-size=\"14.00\" fill=\"#000000\">entropy = 0.61</text>\n<text text-anchor=\"middle\" x=\"1670.5\" y=\"-319.8\" font-family=\"Times,serif\" font-size=\"14.00\" fill=\"#000000\">samples = 20</text>\n<text text-anchor=\"middle\" x=\"1670.5\" y=\"-304.8\" font-family=\"Times,serif\" font-size=\"14.00\" fill=\"#000000\">value = [17, 3]</text>\n</g>\n<!-- 42&#45;&gt;50 -->\n<g id=\"edge50\" class=\"edge\">\n<title>42&#45;&gt;50</title>\n<path fill=\"none\" stroke=\"#000000\" d=\"M1670.5,-400.9465C1670.5,-392.776 1670.5,-383.9318 1670.5,-375.3697\"/>\n<polygon fill=\"#000000\" stroke=\"#000000\" points=\"1674.0001,-375.13 1670.5,-365.13 1667.0001,-375.13 1674.0001,-375.13\"/>\n</g>\n<!-- 44 -->\n<g id=\"node45\" class=\"node\">\n<title>44</title>\n<polygon fill=\"none\" stroke=\"#000000\" points=\"1404,-253.5 1309,-253.5 1309,-200.5 1404,-200.5 1404,-253.5\"/>\n<text text-anchor=\"middle\" x=\"1356.5\" y=\"-238.3\" font-family=\"Times,serif\" font-size=\"14.00\" fill=\"#000000\">entropy = 0.0</text>\n<text text-anchor=\"middle\" x=\"1356.5\" y=\"-223.3\" font-family=\"Times,serif\" font-size=\"14.00\" fill=\"#000000\">samples = 4</text>\n<text text-anchor=\"middle\" x=\"1356.5\" y=\"-208.3\" font-family=\"Times,serif\" font-size=\"14.00\" fill=\"#000000\">value = [4, 0]</text>\n</g>\n<!-- 43&#45;&gt;44 -->\n<g id=\"edge44\" class=\"edge\">\n<title>43&#45;&gt;44</title>\n<path fill=\"none\" stroke=\"#000000\" d=\"M1439.2252,-296.9465C1425.2861,-285.1606 1409.6888,-271.9726 1395.8268,-260.2519\"/>\n<polygon fill=\"#000000\" stroke=\"#000000\" points=\"1397.7873,-257.3262 1387.8912,-253.5422 1393.2676,-262.6715 1397.7873,-257.3262\"/>\n</g>\n<!-- 45 -->\n<g id=\"node46\" class=\"node\">\n<title>45</title>\n<polygon fill=\"none\" stroke=\"#000000\" points=\"1537,-261 1422,-261 1422,-193 1537,-193 1537,-261\"/>\n<text text-anchor=\"middle\" x=\"1479.5\" y=\"-245.8\" font-family=\"Times,serif\" font-size=\"14.00\" fill=\"#000000\">duration &lt;= 22.5</text>\n<text text-anchor=\"middle\" x=\"1479.5\" y=\"-230.8\" font-family=\"Times,serif\" font-size=\"14.00\" fill=\"#000000\">entropy = 0.918</text>\n<text text-anchor=\"middle\" x=\"1479.5\" y=\"-215.8\" font-family=\"Times,serif\" font-size=\"14.00\" fill=\"#000000\">samples = 12</text>\n<text text-anchor=\"middle\" x=\"1479.5\" y=\"-200.8\" font-family=\"Times,serif\" font-size=\"14.00\" fill=\"#000000\">value = [4, 8]</text>\n</g>\n<!-- 43&#45;&gt;45 -->\n<g id=\"edge45\" class=\"edge\">\n<title>43&#45;&gt;45</title>\n<path fill=\"none\" stroke=\"#000000\" d=\"M1479.5,-296.9465C1479.5,-288.776 1479.5,-279.9318 1479.5,-271.3697\"/>\n<polygon fill=\"#000000\" stroke=\"#000000\" points=\"1483.0001,-271.13 1479.5,-261.13 1476.0001,-271.13 1483.0001,-271.13\"/>\n</g>\n<!-- 46 -->\n<g id=\"node47\" class=\"node\">\n<title>46</title>\n<polygon fill=\"none\" stroke=\"#000000\" points=\"1384,-149.5 1289,-149.5 1289,-96.5 1384,-96.5 1384,-149.5\"/>\n<text text-anchor=\"middle\" x=\"1336.5\" y=\"-134.3\" font-family=\"Times,serif\" font-size=\"14.00\" fill=\"#000000\">entropy = 0.0</text>\n<text text-anchor=\"middle\" x=\"1336.5\" y=\"-119.3\" font-family=\"Times,serif\" font-size=\"14.00\" fill=\"#000000\">samples = 2</text>\n<text text-anchor=\"middle\" x=\"1336.5\" y=\"-104.3\" font-family=\"Times,serif\" font-size=\"14.00\" fill=\"#000000\">value = [2, 0]</text>\n</g>\n<!-- 45&#45;&gt;46 -->\n<g id=\"edge46\" class=\"edge\">\n<title>45&#45;&gt;46</title>\n<path fill=\"none\" stroke=\"#000000\" d=\"M1432.6765,-192.9465C1416.1679,-180.9403 1397.6588,-167.4791 1381.3198,-155.5962\"/>\n<polygon fill=\"#000000\" stroke=\"#000000\" points=\"1383.1415,-152.5933 1372.9955,-149.5422 1379.0242,-158.2545 1383.1415,-152.5933\"/>\n</g>\n<!-- 47 -->\n<g id=\"node48\" class=\"node\">\n<title>47</title>\n<polygon fill=\"none\" stroke=\"#000000\" points=\"1557,-157 1402,-157 1402,-89 1557,-89 1557,-157\"/>\n<text text-anchor=\"middle\" x=\"1479.5\" y=\"-141.8\" font-family=\"Times,serif\" font-size=\"14.00\" fill=\"#000000\">employment_&lt;1 &lt;= 0.5</text>\n<text text-anchor=\"middle\" x=\"1479.5\" y=\"-126.8\" font-family=\"Times,serif\" font-size=\"14.00\" fill=\"#000000\">entropy = 0.722</text>\n<text text-anchor=\"middle\" x=\"1479.5\" y=\"-111.8\" font-family=\"Times,serif\" font-size=\"14.00\" fill=\"#000000\">samples = 10</text>\n<text text-anchor=\"middle\" x=\"1479.5\" y=\"-96.8\" font-family=\"Times,serif\" font-size=\"14.00\" fill=\"#000000\">value = [2, 8]</text>\n</g>\n<!-- 45&#45;&gt;47 -->\n<g id=\"edge47\" class=\"edge\">\n<title>45&#45;&gt;47</title>\n<path fill=\"none\" stroke=\"#000000\" d=\"M1479.5,-192.9465C1479.5,-184.776 1479.5,-175.9318 1479.5,-167.3697\"/>\n<polygon fill=\"#000000\" stroke=\"#000000\" points=\"1483.0001,-167.13 1479.5,-157.13 1476.0001,-167.13 1483.0001,-167.13\"/>\n</g>\n<!-- 48 -->\n<g id=\"node49\" class=\"node\">\n<title>48</title>\n<polygon fill=\"none\" stroke=\"#000000\" points=\"1479,-53 1384,-53 1384,0 1479,0 1479,-53\"/>\n<text text-anchor=\"middle\" x=\"1431.5\" y=\"-37.8\" font-family=\"Times,serif\" font-size=\"14.00\" fill=\"#000000\">entropy = 0.0</text>\n<text text-anchor=\"middle\" x=\"1431.5\" y=\"-22.8\" font-family=\"Times,serif\" font-size=\"14.00\" fill=\"#000000\">samples = 7</text>\n<text text-anchor=\"middle\" x=\"1431.5\" y=\"-7.8\" font-family=\"Times,serif\" font-size=\"14.00\" fill=\"#000000\">value = [0, 7]</text>\n</g>\n<!-- 47&#45;&gt;48 -->\n<g id=\"edge48\" class=\"edge\">\n<title>47&#45;&gt;48</title>\n<path fill=\"none\" stroke=\"#000000\" d=\"M1462.577,-88.9777C1458.2955,-80.3702 1453.684,-71.0992 1449.358,-62.402\"/>\n<polygon fill=\"#000000\" stroke=\"#000000\" points=\"1452.3923,-60.6433 1444.8049,-53.2485 1446.1248,-63.7608 1452.3923,-60.6433\"/>\n</g>\n<!-- 49 -->\n<g id=\"node50\" class=\"node\">\n<title>49</title>\n<polygon fill=\"none\" stroke=\"#000000\" points=\"1607.5,-53 1497.5,-53 1497.5,0 1607.5,0 1607.5,-53\"/>\n<text text-anchor=\"middle\" x=\"1552.5\" y=\"-37.8\" font-family=\"Times,serif\" font-size=\"14.00\" fill=\"#000000\">entropy = 0.918</text>\n<text text-anchor=\"middle\" x=\"1552.5\" y=\"-22.8\" font-family=\"Times,serif\" font-size=\"14.00\" fill=\"#000000\">samples = 3</text>\n<text text-anchor=\"middle\" x=\"1552.5\" y=\"-7.8\" font-family=\"Times,serif\" font-size=\"14.00\" fill=\"#000000\">value = [2, 1]</text>\n</g>\n<!-- 47&#45;&gt;49 -->\n<g id=\"edge49\" class=\"edge\">\n<title>47&#45;&gt;49</title>\n<path fill=\"none\" stroke=\"#000000\" d=\"M1505.2371,-88.9777C1512.0256,-80.0039 1519.3596,-70.3089 1526.1784,-61.295\"/>\n<polygon fill=\"#000000\" stroke=\"#000000\" points=\"1529.0237,-63.3352 1532.2654,-53.2485 1523.441,-59.1121 1529.0237,-63.3352\"/>\n</g>\n<!-- 51 -->\n<g id=\"node52\" class=\"node\">\n<title>51</title>\n<polygon fill=\"none\" stroke=\"#000000\" points=\"1659.5,-253.5 1557.5,-253.5 1557.5,-200.5 1659.5,-200.5 1659.5,-253.5\"/>\n<text text-anchor=\"middle\" x=\"1608.5\" y=\"-238.3\" font-family=\"Times,serif\" font-size=\"14.00\" fill=\"#000000\">entropy = 0.0</text>\n<text text-anchor=\"middle\" x=\"1608.5\" y=\"-223.3\" font-family=\"Times,serif\" font-size=\"14.00\" fill=\"#000000\">samples = 16</text>\n<text text-anchor=\"middle\" x=\"1608.5\" y=\"-208.3\" font-family=\"Times,serif\" font-size=\"14.00\" fill=\"#000000\">value = [16, 0]</text>\n</g>\n<!-- 50&#45;&gt;51 -->\n<g id=\"edge51\" class=\"edge\">\n<title>50&#45;&gt;51</title>\n<path fill=\"none\" stroke=\"#000000\" d=\"M1650.1989,-296.9465C1643.5666,-285.8215 1636.1897,-273.4473 1629.5067,-262.237\"/>\n<polygon fill=\"#000000\" stroke=\"#000000\" points=\"1632.4502,-260.3394 1624.3232,-253.5422 1626.4376,-263.9239 1632.4502,-260.3394\"/>\n</g>\n<!-- 52 -->\n<g id=\"node53\" class=\"node\">\n<title>52</title>\n<polygon fill=\"none\" stroke=\"#000000\" points=\"1787.5,-261 1677.5,-261 1677.5,-193 1787.5,-193 1787.5,-261\"/>\n<text text-anchor=\"middle\" x=\"1732.5\" y=\"-245.8\" font-family=\"Times,serif\" font-size=\"14.00\" fill=\"#000000\">id &lt;= 49.0</text>\n<text text-anchor=\"middle\" x=\"1732.5\" y=\"-230.8\" font-family=\"Times,serif\" font-size=\"14.00\" fill=\"#000000\">entropy = 0.811</text>\n<text text-anchor=\"middle\" x=\"1732.5\" y=\"-215.8\" font-family=\"Times,serif\" font-size=\"14.00\" fill=\"#000000\">samples = 4</text>\n<text text-anchor=\"middle\" x=\"1732.5\" y=\"-200.8\" font-family=\"Times,serif\" font-size=\"14.00\" fill=\"#000000\">value = [1, 3]</text>\n</g>\n<!-- 50&#45;&gt;52 -->\n<g id=\"edge52\" class=\"edge\">\n<title>50&#45;&gt;52</title>\n<path fill=\"none\" stroke=\"#000000\" d=\"M1690.8011,-296.9465C1695.9396,-288.3271 1701.5251,-278.9579 1706.8886,-269.9611\"/>\n<polygon fill=\"#000000\" stroke=\"#000000\" points=\"1710.0389,-271.5117 1712.1533,-261.13 1704.0263,-267.9272 1710.0389,-271.5117\"/>\n</g>\n<!-- 53 -->\n<g id=\"node54\" class=\"node\">\n<title>53</title>\n<polygon fill=\"none\" stroke=\"#000000\" points=\"1670,-149.5 1575,-149.5 1575,-96.5 1670,-96.5 1670,-149.5\"/>\n<text text-anchor=\"middle\" x=\"1622.5\" y=\"-134.3\" font-family=\"Times,serif\" font-size=\"14.00\" fill=\"#000000\">entropy = 0.0</text>\n<text text-anchor=\"middle\" x=\"1622.5\" y=\"-119.3\" font-family=\"Times,serif\" font-size=\"14.00\" fill=\"#000000\">samples = 1</text>\n<text text-anchor=\"middle\" x=\"1622.5\" y=\"-104.3\" font-family=\"Times,serif\" font-size=\"14.00\" fill=\"#000000\">value = [1, 0]</text>\n</g>\n<!-- 52&#45;&gt;53 -->\n<g id=\"edge53\" class=\"edge\">\n<title>52&#45;&gt;53</title>\n<path fill=\"none\" stroke=\"#000000\" d=\"M1696.4819,-192.9465C1684.1325,-181.2707 1670.3278,-168.219 1658.0183,-156.5809\"/>\n<polygon fill=\"#000000\" stroke=\"#000000\" points=\"1660.2445,-153.869 1650.5734,-149.5422 1655.4354,-158.9556 1660.2445,-153.869\"/>\n</g>\n<!-- 54 -->\n<g id=\"node55\" class=\"node\">\n<title>54</title>\n<polygon fill=\"none\" stroke=\"#000000\" points=\"1783,-149.5 1688,-149.5 1688,-96.5 1783,-96.5 1783,-149.5\"/>\n<text text-anchor=\"middle\" x=\"1735.5\" y=\"-134.3\" font-family=\"Times,serif\" font-size=\"14.00\" fill=\"#000000\">entropy = 0.0</text>\n<text text-anchor=\"middle\" x=\"1735.5\" y=\"-119.3\" font-family=\"Times,serif\" font-size=\"14.00\" fill=\"#000000\">samples = 3</text>\n<text text-anchor=\"middle\" x=\"1735.5\" y=\"-104.3\" font-family=\"Times,serif\" font-size=\"14.00\" fill=\"#000000\">value = [0, 3]</text>\n</g>\n<!-- 52&#45;&gt;54 -->\n<g id=\"edge54\" class=\"edge\">\n<title>52&#45;&gt;54</title>\n<path fill=\"none\" stroke=\"#000000\" d=\"M1733.4823,-192.9465C1733.7905,-182.2621 1734.132,-170.4254 1734.445,-159.5742\"/>\n<polygon fill=\"#000000\" stroke=\"#000000\" points=\"1737.9445,-159.639 1734.7344,-149.5422 1730.9474,-159.4371 1737.9445,-159.639\"/>\n</g>\n<!-- 56 -->\n<g id=\"node57\" class=\"node\">\n<title>56</title>\n<polygon fill=\"none\" stroke=\"#000000\" points=\"2229.5,-469 2057.5,-469 2057.5,-401 2229.5,-401 2229.5,-469\"/>\n<text text-anchor=\"middle\" x=\"2143.5\" y=\"-453.8\" font-family=\"Times,serif\" font-size=\"14.00\" fill=\"#000000\">credit_amount &lt;= 10975.5</text>\n<text text-anchor=\"middle\" x=\"2143.5\" y=\"-438.8\" font-family=\"Times,serif\" font-size=\"14.00\" fill=\"#000000\">entropy = 0.922</text>\n<text text-anchor=\"middle\" x=\"2143.5\" y=\"-423.8\" font-family=\"Times,serif\" font-size=\"14.00\" fill=\"#000000\">samples = 80</text>\n<text text-anchor=\"middle\" x=\"2143.5\" y=\"-408.8\" font-family=\"Times,serif\" font-size=\"14.00\" fill=\"#000000\">value = [27, 53]</text>\n</g>\n<!-- 55&#45;&gt;56 -->\n<g id=\"edge56\" class=\"edge\">\n<title>55&#45;&gt;56</title>\n<path fill=\"none\" stroke=\"#000000\" d=\"M2143.5,-504.9465C2143.5,-496.776 2143.5,-487.9318 2143.5,-479.3697\"/>\n<polygon fill=\"#000000\" stroke=\"#000000\" points=\"2147.0001,-479.13 2143.5,-469.13 2140.0001,-479.13 2147.0001,-479.13\"/>\n</g>\n<!-- 67 -->\n<g id=\"node68\" class=\"node\">\n<title>67</title>\n<polygon fill=\"none\" stroke=\"#000000\" points=\"2771.5,-469 2517.5,-469 2517.5,-401 2771.5,-401 2771.5,-469\"/>\n<text text-anchor=\"middle\" x=\"2644.5\" y=\"-453.8\" font-family=\"Times,serif\" font-size=\"14.00\" fill=\"#000000\">savings_status_no known savings &lt;= 0.5</text>\n<text text-anchor=\"middle\" x=\"2644.5\" y=\"-438.8\" font-family=\"Times,serif\" font-size=\"14.00\" fill=\"#000000\">entropy = 0.97</text>\n<text text-anchor=\"middle\" x=\"2644.5\" y=\"-423.8\" font-family=\"Times,serif\" font-size=\"14.00\" fill=\"#000000\">samples = 83</text>\n<text text-anchor=\"middle\" x=\"2644.5\" y=\"-408.8\" font-family=\"Times,serif\" font-size=\"14.00\" fill=\"#000000\">value = [50, 33]</text>\n</g>\n<!-- 55&#45;&gt;67 -->\n<g id=\"edge67\" class=\"edge\">\n<title>55&#45;&gt;67</title>\n<path fill=\"none\" stroke=\"#000000\" d=\"M2201.4605,-526.9683C2275.8067,-511.5351 2407.1307,-484.2743 2507.5623,-463.4262\"/>\n<polygon fill=\"#000000\" stroke=\"#000000\" points=\"2508.4095,-466.825 2517.4893,-461.3655 2506.9867,-459.9711 2508.4095,-466.825\"/>\n</g>\n<!-- 57 -->\n<g id=\"node58\" class=\"node\">\n<title>57</title>\n<polygon fill=\"none\" stroke=\"#000000\" points=\"2150,-365 1991,-365 1991,-297 2150,-297 2150,-365\"/>\n<text text-anchor=\"middle\" x=\"2070.5\" y=\"-349.8\" font-family=\"Times,serif\" font-size=\"14.00\" fill=\"#000000\">purpose_used car &lt;= 0.5</text>\n<text text-anchor=\"middle\" x=\"2070.5\" y=\"-334.8\" font-family=\"Times,serif\" font-size=\"14.00\" fill=\"#000000\">entropy = 0.873</text>\n<text text-anchor=\"middle\" x=\"2070.5\" y=\"-319.8\" font-family=\"Times,serif\" font-size=\"14.00\" fill=\"#000000\">samples = 75</text>\n<text text-anchor=\"middle\" x=\"2070.5\" y=\"-304.8\" font-family=\"Times,serif\" font-size=\"14.00\" fill=\"#000000\">value = [22, 53]</text>\n</g>\n<!-- 56&#45;&gt;57 -->\n<g id=\"edge57\" class=\"edge\">\n<title>56&#45;&gt;57</title>\n<path fill=\"none\" stroke=\"#000000\" d=\"M2119.5971,-400.9465C2113.4209,-392.1475 2106.6962,-382.5672 2100.261,-373.3993\"/>\n<polygon fill=\"#000000\" stroke=\"#000000\" points=\"2103.0666,-371.3041 2094.4566,-365.13 2097.3371,-375.3258 2103.0666,-371.3041\"/>\n</g>\n<!-- 66 -->\n<g id=\"node67\" class=\"node\">\n<title>66</title>\n<polygon fill=\"none\" stroke=\"#000000\" points=\"2263,-357.5 2168,-357.5 2168,-304.5 2263,-304.5 2263,-357.5\"/>\n<text text-anchor=\"middle\" x=\"2215.5\" y=\"-342.3\" font-family=\"Times,serif\" font-size=\"14.00\" fill=\"#000000\">entropy = 0.0</text>\n<text text-anchor=\"middle\" x=\"2215.5\" y=\"-327.3\" font-family=\"Times,serif\" font-size=\"14.00\" fill=\"#000000\">samples = 5</text>\n<text text-anchor=\"middle\" x=\"2215.5\" y=\"-312.3\" font-family=\"Times,serif\" font-size=\"14.00\" fill=\"#000000\">value = [5, 0]</text>\n</g>\n<!-- 56&#45;&gt;66 -->\n<g id=\"edge66\" class=\"edge\">\n<title>56&#45;&gt;66</title>\n<path fill=\"none\" stroke=\"#000000\" d=\"M2167.0755,-400.9465C2174.8537,-389.7113 2183.5139,-377.2021 2191.3355,-365.9043\"/>\n<polygon fill=\"#000000\" stroke=\"#000000\" points=\"2194.3102,-367.7564 2197.1247,-357.5422 2188.5548,-363.7719 2194.3102,-367.7564\"/>\n</g>\n<!-- 58 -->\n<g id=\"node59\" class=\"node\">\n<title>58</title>\n<polygon fill=\"none\" stroke=\"#000000\" points=\"2075,-261 1918,-261 1918,-193 2075,-193 2075,-261\"/>\n<text text-anchor=\"middle\" x=\"1996.5\" y=\"-245.8\" font-family=\"Times,serif\" font-size=\"14.00\" fill=\"#000000\">purpose_radio/tv &lt;= 0.5</text>\n<text text-anchor=\"middle\" x=\"1996.5\" y=\"-230.8\" font-family=\"Times,serif\" font-size=\"14.00\" fill=\"#000000\">entropy = 0.938</text>\n<text text-anchor=\"middle\" x=\"1996.5\" y=\"-215.8\" font-family=\"Times,serif\" font-size=\"14.00\" fill=\"#000000\">samples = 62</text>\n<text text-anchor=\"middle\" x=\"1996.5\" y=\"-200.8\" font-family=\"Times,serif\" font-size=\"14.00\" fill=\"#000000\">value = [22, 40]</text>\n</g>\n<!-- 57&#45;&gt;58 -->\n<g id=\"edge58\" class=\"edge\">\n<title>57&#45;&gt;58</title>\n<path fill=\"none\" stroke=\"#000000\" d=\"M2046.2696,-296.9465C2040.0088,-288.1475 2033.192,-278.5672 2026.6687,-269.3993\"/>\n<polygon fill=\"#000000\" stroke=\"#000000\" points=\"2029.4342,-267.2488 2020.7848,-261.13 2023.7306,-271.3071 2029.4342,-267.2488\"/>\n</g>\n<!-- 65 -->\n<g id=\"node66\" class=\"node\">\n<title>65</title>\n<polygon fill=\"none\" stroke=\"#000000\" points=\"2195.5,-253.5 2093.5,-253.5 2093.5,-200.5 2195.5,-200.5 2195.5,-253.5\"/>\n<text text-anchor=\"middle\" x=\"2144.5\" y=\"-238.3\" font-family=\"Times,serif\" font-size=\"14.00\" fill=\"#000000\">entropy = 0.0</text>\n<text text-anchor=\"middle\" x=\"2144.5\" y=\"-223.3\" font-family=\"Times,serif\" font-size=\"14.00\" fill=\"#000000\">samples = 13</text>\n<text text-anchor=\"middle\" x=\"2144.5\" y=\"-208.3\" font-family=\"Times,serif\" font-size=\"14.00\" fill=\"#000000\">value = [0, 13]</text>\n</g>\n<!-- 57&#45;&gt;65 -->\n<g id=\"edge65\" class=\"edge\">\n<title>57&#45;&gt;65</title>\n<path fill=\"none\" stroke=\"#000000\" d=\"M2094.7304,-296.9465C2102.7246,-285.7113 2111.6254,-273.2021 2119.6642,-261.9043\"/>\n<polygon fill=\"#000000\" stroke=\"#000000\" points=\"2122.6684,-263.7192 2125.6142,-253.5422 2116.9649,-259.6609 2122.6684,-263.7192\"/>\n</g>\n<!-- 59 -->\n<g id=\"node60\" class=\"node\">\n<title>59</title>\n<polygon fill=\"none\" stroke=\"#000000\" points=\"2012,-157 1801,-157 1801,-89 2012,-89 2012,-157\"/>\n<text text-anchor=\"middle\" x=\"1906.5\" y=\"-141.8\" font-family=\"Times,serif\" font-size=\"14.00\" fill=\"#000000\">employment_unemployed &lt;= 0.5</text>\n<text text-anchor=\"middle\" x=\"1906.5\" y=\"-126.8\" font-family=\"Times,serif\" font-size=\"14.00\" fill=\"#000000\">entropy = 0.981</text>\n<text text-anchor=\"middle\" x=\"1906.5\" y=\"-111.8\" font-family=\"Times,serif\" font-size=\"14.00\" fill=\"#000000\">samples = 50</text>\n<text text-anchor=\"middle\" x=\"1906.5\" y=\"-96.8\" font-family=\"Times,serif\" font-size=\"14.00\" fill=\"#000000\">value = [21, 29]</text>\n</g>\n<!-- 58&#45;&gt;59 -->\n<g id=\"edge59\" class=\"edge\">\n<title>58&#45;&gt;59</title>\n<path fill=\"none\" stroke=\"#000000\" d=\"M1967.0306,-192.9465C1959.2607,-183.968 1950.7868,-174.1758 1942.7064,-164.8385\"/>\n<polygon fill=\"#000000\" stroke=\"#000000\" points=\"1945.226,-162.4014 1936.0356,-157.13 1939.9328,-166.982 1945.226,-162.4014\"/>\n</g>\n<!-- 62 -->\n<g id=\"node63\" class=\"node\">\n<title>62</title>\n<polygon fill=\"none\" stroke=\"#000000\" points=\"2140.5,-157 2030.5,-157 2030.5,-89 2140.5,-89 2140.5,-157\"/>\n<text text-anchor=\"middle\" x=\"2085.5\" y=\"-141.8\" font-family=\"Times,serif\" font-size=\"14.00\" fill=\"#000000\">age &lt;= 22.5</text>\n<text text-anchor=\"middle\" x=\"2085.5\" y=\"-126.8\" font-family=\"Times,serif\" font-size=\"14.00\" fill=\"#000000\">entropy = 0.414</text>\n<text text-anchor=\"middle\" x=\"2085.5\" y=\"-111.8\" font-family=\"Times,serif\" font-size=\"14.00\" fill=\"#000000\">samples = 12</text>\n<text text-anchor=\"middle\" x=\"2085.5\" y=\"-96.8\" font-family=\"Times,serif\" font-size=\"14.00\" fill=\"#000000\">value = [1, 11]</text>\n</g>\n<!-- 58&#45;&gt;62 -->\n<g id=\"edge62\" class=\"edge\">\n<title>58&#45;&gt;62</title>\n<path fill=\"none\" stroke=\"#000000\" d=\"M2025.6419,-192.9465C2033.3255,-183.968 2041.7053,-174.1758 2049.6959,-164.8385\"/>\n<polygon fill=\"#000000\" stroke=\"#000000\" points=\"2052.4499,-167.0034 2056.2926,-157.13 2047.1315,-162.4521 2052.4499,-167.0034\"/>\n</g>\n<!-- 60 -->\n<g id=\"node61\" class=\"node\">\n<title>60</title>\n<polygon fill=\"none\" stroke=\"#000000\" points=\"1808.5,-53 1698.5,-53 1698.5,0 1808.5,0 1808.5,-53\"/>\n<text text-anchor=\"middle\" x=\"1753.5\" y=\"-37.8\" font-family=\"Times,serif\" font-size=\"14.00\" fill=\"#000000\">entropy = 0.96</text>\n<text text-anchor=\"middle\" x=\"1753.5\" y=\"-22.8\" font-family=\"Times,serif\" font-size=\"14.00\" fill=\"#000000\">samples = 47</text>\n<text text-anchor=\"middle\" x=\"1753.5\" y=\"-7.8\" font-family=\"Times,serif\" font-size=\"14.00\" fill=\"#000000\">value = [18, 29]</text>\n</g>\n<!-- 59&#45;&gt;60 -->\n<g id=\"edge60\" class=\"edge\">\n<title>59&#45;&gt;60</title>\n<path fill=\"none\" stroke=\"#000000\" d=\"M1852.5579,-88.9777C1837.0233,-79.1798 1820.1258,-68.5222 1804.7587,-58.8298\"/>\n<polygon fill=\"#000000\" stroke=\"#000000\" points=\"1806.2349,-55.6229 1795.9095,-53.2485 1802.5005,-61.5436 1806.2349,-55.6229\"/>\n</g>\n<!-- 61 -->\n<g id=\"node62\" class=\"node\">\n<title>61</title>\n<polygon fill=\"none\" stroke=\"#000000\" points=\"1922,-53 1827,-53 1827,0 1922,0 1922,-53\"/>\n<text text-anchor=\"middle\" x=\"1874.5\" y=\"-37.8\" font-family=\"Times,serif\" font-size=\"14.00\" fill=\"#000000\">entropy = 0.0</text>\n<text text-anchor=\"middle\" x=\"1874.5\" y=\"-22.8\" font-family=\"Times,serif\" font-size=\"14.00\" fill=\"#000000\">samples = 3</text>\n<text text-anchor=\"middle\" x=\"1874.5\" y=\"-7.8\" font-family=\"Times,serif\" font-size=\"14.00\" fill=\"#000000\">value = [3, 0]</text>\n</g>\n<!-- 59&#45;&gt;61 -->\n<g id=\"edge61\" class=\"edge\">\n<title>59&#45;&gt;61</title>\n<path fill=\"none\" stroke=\"#000000\" d=\"M1895.218,-88.9777C1892.4244,-80.5533 1889.4201,-71.4934 1886.5897,-62.9579\"/>\n<polygon fill=\"#000000\" stroke=\"#000000\" points=\"1889.8397,-61.6386 1883.37,-53.2485 1883.1954,-63.8419 1889.8397,-61.6386\"/>\n</g>\n<!-- 63 -->\n<g id=\"node64\" class=\"node\">\n<title>63</title>\n<polygon fill=\"none\" stroke=\"#000000\" points=\"2035,-53 1940,-53 1940,0 2035,0 2035,-53\"/>\n<text text-anchor=\"middle\" x=\"1987.5\" y=\"-37.8\" font-family=\"Times,serif\" font-size=\"14.00\" fill=\"#000000\">entropy = 0.0</text>\n<text text-anchor=\"middle\" x=\"1987.5\" y=\"-22.8\" font-family=\"Times,serif\" font-size=\"14.00\" fill=\"#000000\">samples = 1</text>\n<text text-anchor=\"middle\" x=\"1987.5\" y=\"-7.8\" font-family=\"Times,serif\" font-size=\"14.00\" fill=\"#000000\">value = [1, 0]</text>\n</g>\n<!-- 62&#45;&gt;63 -->\n<g id=\"edge63\" class=\"edge\">\n<title>62&#45;&gt;63</title>\n<path fill=\"none\" stroke=\"#000000\" d=\"M2050.9489,-88.9777C2041.5566,-79.7292 2031.3864,-69.7147 2021.9971,-60.4691\"/>\n<polygon fill=\"#000000\" stroke=\"#000000\" points=\"2024.2454,-57.7709 2014.6643,-53.2485 2019.3339,-62.7587 2024.2454,-57.7709\"/>\n</g>\n<!-- 64 -->\n<g id=\"node65\" class=\"node\">\n<title>64</title>\n<polygon fill=\"none\" stroke=\"#000000\" points=\"2154,-53 2053,-53 2053,0 2154,0 2154,-53\"/>\n<text text-anchor=\"middle\" x=\"2103.5\" y=\"-37.8\" font-family=\"Times,serif\" font-size=\"14.00\" fill=\"#000000\">entropy = 0.0</text>\n<text text-anchor=\"middle\" x=\"2103.5\" y=\"-22.8\" font-family=\"Times,serif\" font-size=\"14.00\" fill=\"#000000\">samples = 11</text>\n<text text-anchor=\"middle\" x=\"2103.5\" y=\"-7.8\" font-family=\"Times,serif\" font-size=\"14.00\" fill=\"#000000\">value = [0, 11]</text>\n</g>\n<!-- 62&#45;&gt;64 -->\n<g id=\"edge64\" class=\"edge\">\n<title>62&#45;&gt;64</title>\n<path fill=\"none\" stroke=\"#000000\" d=\"M2091.8461,-88.9777C2093.4004,-80.6449 2095.0707,-71.6903 2096.6476,-63.2364\"/>\n<polygon fill=\"#000000\" stroke=\"#000000\" points=\"2100.1176,-63.7207 2098.5106,-53.2485 2093.2363,-62.4371 2100.1176,-63.7207\"/>\n</g>\n<!-- 68 -->\n<g id=\"node69\" class=\"node\">\n<title>68</title>\n<polygon fill=\"none\" stroke=\"#000000\" points=\"2702,-365 2587,-365 2587,-297 2702,-297 2702,-365\"/>\n<text text-anchor=\"middle\" x=\"2644.5\" y=\"-349.8\" font-family=\"Times,serif\" font-size=\"14.00\" fill=\"#000000\">duration &lt;= 47.5</text>\n<text text-anchor=\"middle\" x=\"2644.5\" y=\"-334.8\" font-family=\"Times,serif\" font-size=\"14.00\" fill=\"#000000\">entropy = 0.918</text>\n<text text-anchor=\"middle\" x=\"2644.5\" y=\"-319.8\" font-family=\"Times,serif\" font-size=\"14.00\" fill=\"#000000\">samples = 72</text>\n<text text-anchor=\"middle\" x=\"2644.5\" y=\"-304.8\" font-family=\"Times,serif\" font-size=\"14.00\" fill=\"#000000\">value = [48, 24]</text>\n</g>\n<!-- 67&#45;&gt;68 -->\n<g id=\"edge68\" class=\"edge\">\n<title>67&#45;&gt;68</title>\n<path fill=\"none\" stroke=\"#000000\" d=\"M2644.5,-400.9465C2644.5,-392.776 2644.5,-383.9318 2644.5,-375.3697\"/>\n<polygon fill=\"#000000\" stroke=\"#000000\" points=\"2648.0001,-375.13 2644.5,-365.13 2641.0001,-375.13 2648.0001,-375.13\"/>\n</g>\n<!-- 81 -->\n<g id=\"node82\" class=\"node\">\n<title>81</title>\n<polygon fill=\"none\" stroke=\"#000000\" points=\"3020,-365 2905,-365 2905,-297 3020,-297 3020,-365\"/>\n<text text-anchor=\"middle\" x=\"2962.5\" y=\"-349.8\" font-family=\"Times,serif\" font-size=\"14.00\" fill=\"#000000\">duration &lt;= 45.0</text>\n<text text-anchor=\"middle\" x=\"2962.5\" y=\"-334.8\" font-family=\"Times,serif\" font-size=\"14.00\" fill=\"#000000\">entropy = 0.684</text>\n<text text-anchor=\"middle\" x=\"2962.5\" y=\"-319.8\" font-family=\"Times,serif\" font-size=\"14.00\" fill=\"#000000\">samples = 11</text>\n<text text-anchor=\"middle\" x=\"2962.5\" y=\"-304.8\" font-family=\"Times,serif\" font-size=\"14.00\" fill=\"#000000\">value = [2, 9]</text>\n</g>\n<!-- 67&#45;&gt;81 -->\n<g id=\"edge81\" class=\"edge\">\n<title>67&#45;&gt;81</title>\n<path fill=\"none\" stroke=\"#000000\" d=\"M2748.6251,-400.9465C2796.6866,-385.2283 2852.3726,-367.0165 2894.8733,-353.1169\"/>\n<polygon fill=\"#000000\" stroke=\"#000000\" points=\"2896.1386,-356.3856 2904.5552,-349.9505 2893.9626,-349.7324 2896.1386,-356.3856\"/>\n</g>\n<!-- 69 -->\n<g id=\"node70\" class=\"node\">\n<title>69</title>\n<polygon fill=\"none\" stroke=\"#000000\" points=\"2514.5,-261 2404.5,-261 2404.5,-193 2514.5,-193 2514.5,-261\"/>\n<text text-anchor=\"middle\" x=\"2459.5\" y=\"-245.8\" font-family=\"Times,serif\" font-size=\"14.00\" fill=\"#000000\">age &lt;= 29.5</text>\n<text text-anchor=\"middle\" x=\"2459.5\" y=\"-230.8\" font-family=\"Times,serif\" font-size=\"14.00\" fill=\"#000000\">entropy = 0.996</text>\n<text text-anchor=\"middle\" x=\"2459.5\" y=\"-215.8\" font-family=\"Times,serif\" font-size=\"14.00\" fill=\"#000000\">samples = 43</text>\n<text text-anchor=\"middle\" x=\"2459.5\" y=\"-200.8\" font-family=\"Times,serif\" font-size=\"14.00\" fill=\"#000000\">value = [23, 20]</text>\n</g>\n<!-- 68&#45;&gt;69 -->\n<g id=\"edge69\" class=\"edge\">\n<title>68&#45;&gt;69</title>\n<path fill=\"none\" stroke=\"#000000\" d=\"M2586.9789,-298.6638C2566.9291,-287.3926 2544.3078,-274.6758 2523.7468,-263.1171\"/>\n<polygon fill=\"#000000\" stroke=\"#000000\" points=\"2525.2014,-259.9197 2514.7692,-258.0703 2521.7711,-266.0216 2525.2014,-259.9197\"/>\n</g>\n<!-- 76 -->\n<g id=\"node77\" class=\"node\">\n<title>76</title>\n<polygon fill=\"none\" stroke=\"#000000\" points=\"2787.5,-261 2569.5,-261 2569.5,-193 2787.5,-193 2787.5,-261\"/>\n<text text-anchor=\"middle\" x=\"2678.5\" y=\"-245.8\" font-family=\"Times,serif\" font-size=\"14.00\" fill=\"#000000\">personal_status_male single &lt;= 0.5</text>\n<text text-anchor=\"middle\" x=\"2678.5\" y=\"-230.8\" font-family=\"Times,serif\" font-size=\"14.00\" fill=\"#000000\">entropy = 0.579</text>\n<text text-anchor=\"middle\" x=\"2678.5\" y=\"-215.8\" font-family=\"Times,serif\" font-size=\"14.00\" fill=\"#000000\">samples = 29</text>\n<text text-anchor=\"middle\" x=\"2678.5\" y=\"-200.8\" font-family=\"Times,serif\" font-size=\"14.00\" fill=\"#000000\">value = [25, 4]</text>\n</g>\n<!-- 68&#45;&gt;76 -->\n<g id=\"edge76\" class=\"edge\">\n<title>68&#45;&gt;76</title>\n<path fill=\"none\" stroke=\"#000000\" d=\"M2655.6329,-296.9465C2658.3627,-288.5965 2661.3226,-279.5427 2664.1789,-270.8056\"/>\n<polygon fill=\"#000000\" stroke=\"#000000\" points=\"2667.5614,-271.7226 2667.3421,-261.13 2660.9079,-269.5473 2667.5614,-271.7226\"/>\n</g>\n<!-- 70 -->\n<g id=\"node71\" class=\"node\">\n<title>70</title>\n<polygon fill=\"none\" stroke=\"#000000\" points=\"2291.5,-157 2181.5,-157 2181.5,-89 2291.5,-89 2291.5,-157\"/>\n<text text-anchor=\"middle\" x=\"2236.5\" y=\"-141.8\" font-family=\"Times,serif\" font-size=\"14.00\" fill=\"#000000\">id &lt;= 224.5</text>\n<text text-anchor=\"middle\" x=\"2236.5\" y=\"-126.8\" font-family=\"Times,serif\" font-size=\"14.00\" fill=\"#000000\">entropy = 0.787</text>\n<text text-anchor=\"middle\" x=\"2236.5\" y=\"-111.8\" font-family=\"Times,serif\" font-size=\"14.00\" fill=\"#000000\">samples = 17</text>\n<text text-anchor=\"middle\" x=\"2236.5\" y=\"-96.8\" font-family=\"Times,serif\" font-size=\"14.00\" fill=\"#000000\">value = [13, 4]</text>\n</g>\n<!-- 69&#45;&gt;70 -->\n<g id=\"edge70\" class=\"edge\">\n<title>69&#45;&gt;70</title>\n<path fill=\"none\" stroke=\"#000000\" d=\"M2404.2226,-203.8505C2373.4361,-190.6619 2334.5585,-173.5163 2300.5,-157 2300.408,-156.9554 2300.316,-156.9107 2300.2239,-156.866\"/>\n<polygon fill=\"#000000\" stroke=\"#000000\" points=\"2302.041,-153.8602 2291.526,-152.5626 2298.9368,-160.1343 2302.041,-153.8602\"/>\n</g>\n<!-- 73 -->\n<g id=\"node74\" class=\"node\">\n<title>73</title>\n<polygon fill=\"none\" stroke=\"#000000\" points=\"2609.5,-157 2309.5,-157 2309.5,-89 2609.5,-89 2609.5,-157\"/>\n<text text-anchor=\"middle\" x=\"2459.5\" y=\"-141.8\" font-family=\"Times,serif\" font-size=\"14.00\" fill=\"#000000\">credit_history_critical/other existing credit &lt;= 0.5</text>\n<text text-anchor=\"middle\" x=\"2459.5\" y=\"-126.8\" font-family=\"Times,serif\" font-size=\"14.00\" fill=\"#000000\">entropy = 0.961</text>\n<text text-anchor=\"middle\" x=\"2459.5\" y=\"-111.8\" font-family=\"Times,serif\" font-size=\"14.00\" fill=\"#000000\">samples = 26</text>\n<text text-anchor=\"middle\" x=\"2459.5\" y=\"-96.8\" font-family=\"Times,serif\" font-size=\"14.00\" fill=\"#000000\">value = [10, 16]</text>\n</g>\n<!-- 69&#45;&gt;73 -->\n<g id=\"edge73\" class=\"edge\">\n<title>69&#45;&gt;73</title>\n<path fill=\"none\" stroke=\"#000000\" d=\"M2459.5,-192.9465C2459.5,-184.776 2459.5,-175.9318 2459.5,-167.3697\"/>\n<polygon fill=\"#000000\" stroke=\"#000000\" points=\"2463.0001,-167.13 2459.5,-157.13 2456.0001,-167.13 2463.0001,-167.13\"/>\n</g>\n<!-- 71 -->\n<g id=\"node72\" class=\"node\">\n<title>71</title>\n<polygon fill=\"none\" stroke=\"#000000\" points=\"2282.5,-53 2172.5,-53 2172.5,0 2282.5,0 2282.5,-53\"/>\n<text text-anchor=\"middle\" x=\"2227.5\" y=\"-37.8\" font-family=\"Times,serif\" font-size=\"14.00\" fill=\"#000000\">entropy = 0.991</text>\n<text text-anchor=\"middle\" x=\"2227.5\" y=\"-22.8\" font-family=\"Times,serif\" font-size=\"14.00\" fill=\"#000000\">samples = 9</text>\n<text text-anchor=\"middle\" x=\"2227.5\" y=\"-7.8\" font-family=\"Times,serif\" font-size=\"14.00\" fill=\"#000000\">value = [5, 4]</text>\n</g>\n<!-- 70&#45;&gt;71 -->\n<g id=\"edge71\" class=\"edge\">\n<title>70&#45;&gt;71</title>\n<path fill=\"none\" stroke=\"#000000\" d=\"M2233.3269,-88.9777C2232.5498,-80.6449 2231.7146,-71.6903 2230.9262,-63.2364\"/>\n<polygon fill=\"#000000\" stroke=\"#000000\" points=\"2234.4083,-62.8802 2229.9947,-53.2485 2227.4385,-63.5303 2234.4083,-62.8802\"/>\n</g>\n<!-- 72 -->\n<g id=\"node73\" class=\"node\">\n<title>72</title>\n<polygon fill=\"none\" stroke=\"#000000\" points=\"2396,-53 2301,-53 2301,0 2396,0 2396,-53\"/>\n<text text-anchor=\"middle\" x=\"2348.5\" y=\"-37.8\" font-family=\"Times,serif\" font-size=\"14.00\" fill=\"#000000\">entropy = 0.0</text>\n<text text-anchor=\"middle\" x=\"2348.5\" y=\"-22.8\" font-family=\"Times,serif\" font-size=\"14.00\" fill=\"#000000\">samples = 8</text>\n<text text-anchor=\"middle\" x=\"2348.5\" y=\"-7.8\" font-family=\"Times,serif\" font-size=\"14.00\" fill=\"#000000\">value = [8, 0]</text>\n</g>\n<!-- 70&#45;&gt;72 -->\n<g id=\"edge72\" class=\"edge\">\n<title>70&#45;&gt;72</title>\n<path fill=\"none\" stroke=\"#000000\" d=\"M2275.987,-88.9777C2286.9336,-79.546 2298.8047,-69.3178 2309.7111,-59.9208\"/>\n<polygon fill=\"#000000\" stroke=\"#000000\" points=\"2312.1639,-62.4274 2317.4551,-53.2485 2307.5947,-57.1244 2312.1639,-62.4274\"/>\n</g>\n<!-- 74 -->\n<g id=\"node75\" class=\"node\">\n<title>74</title>\n<polygon fill=\"none\" stroke=\"#000000\" points=\"2524.5,-53 2414.5,-53 2414.5,0 2524.5,0 2524.5,-53\"/>\n<text text-anchor=\"middle\" x=\"2469.5\" y=\"-37.8\" font-family=\"Times,serif\" font-size=\"14.00\" fill=\"#000000\">entropy = 0.998</text>\n<text text-anchor=\"middle\" x=\"2469.5\" y=\"-22.8\" font-family=\"Times,serif\" font-size=\"14.00\" fill=\"#000000\">samples = 21</text>\n<text text-anchor=\"middle\" x=\"2469.5\" y=\"-7.8\" font-family=\"Times,serif\" font-size=\"14.00\" fill=\"#000000\">value = [10, 11]</text>\n</g>\n<!-- 73&#45;&gt;74 -->\n<g id=\"edge74\" class=\"edge\">\n<title>73&#45;&gt;74</title>\n<path fill=\"none\" stroke=\"#000000\" d=\"M2463.0256,-88.9777C2463.8891,-80.6449 2464.8171,-71.6903 2465.6931,-63.2364\"/>\n<polygon fill=\"#000000\" stroke=\"#000000\" points=\"2469.1787,-63.556 2466.7281,-53.2485 2462.2159,-62.8344 2469.1787,-63.556\"/>\n</g>\n<!-- 75 -->\n<g id=\"node76\" class=\"node\">\n<title>75</title>\n<polygon fill=\"none\" stroke=\"#000000\" points=\"2638,-53 2543,-53 2543,0 2638,0 2638,-53\"/>\n<text text-anchor=\"middle\" x=\"2590.5\" y=\"-37.8\" font-family=\"Times,serif\" font-size=\"14.00\" fill=\"#000000\">entropy = 0.0</text>\n<text text-anchor=\"middle\" x=\"2590.5\" y=\"-22.8\" font-family=\"Times,serif\" font-size=\"14.00\" fill=\"#000000\">samples = 5</text>\n<text text-anchor=\"middle\" x=\"2590.5\" y=\"-7.8\" font-family=\"Times,serif\" font-size=\"14.00\" fill=\"#000000\">value = [0, 5]</text>\n</g>\n<!-- 73&#45;&gt;75 -->\n<g id=\"edge75\" class=\"edge\">\n<title>73&#45;&gt;75</title>\n<path fill=\"none\" stroke=\"#000000\" d=\"M2505.6857,-88.9777C2518.7379,-79.3629 2532.9139,-68.9203 2545.8727,-59.3743\"/>\n<polygon fill=\"#000000\" stroke=\"#000000\" points=\"2548.2131,-61.9974 2554.1886,-53.2485 2544.0614,-56.3615 2548.2131,-61.9974\"/>\n</g>\n<!-- 77 -->\n<g id=\"node78\" class=\"node\">\n<title>77</title>\n<polygon fill=\"none\" stroke=\"#000000\" points=\"2729.5,-149.5 2627.5,-149.5 2627.5,-96.5 2729.5,-96.5 2729.5,-149.5\"/>\n<text text-anchor=\"middle\" x=\"2678.5\" y=\"-134.3\" font-family=\"Times,serif\" font-size=\"14.00\" fill=\"#000000\">entropy = 0.0</text>\n<text text-anchor=\"middle\" x=\"2678.5\" y=\"-119.3\" font-family=\"Times,serif\" font-size=\"14.00\" fill=\"#000000\">samples = 12</text>\n<text text-anchor=\"middle\" x=\"2678.5\" y=\"-104.3\" font-family=\"Times,serif\" font-size=\"14.00\" fill=\"#000000\">value = [12, 0]</text>\n</g>\n<!-- 76&#45;&gt;77 -->\n<g id=\"edge77\" class=\"edge\">\n<title>76&#45;&gt;77</title>\n<path fill=\"none\" stroke=\"#000000\" d=\"M2678.5,-192.9465C2678.5,-182.2621 2678.5,-170.4254 2678.5,-159.5742\"/>\n<polygon fill=\"#000000\" stroke=\"#000000\" points=\"2682.0001,-159.5421 2678.5,-149.5422 2675.0001,-159.5422 2682.0001,-159.5421\"/>\n</g>\n<!-- 78 -->\n<g id=\"node79\" class=\"node\">\n<title>78</title>\n<polygon fill=\"none\" stroke=\"#000000\" points=\"2897,-157 2748,-157 2748,-89 2897,-89 2897,-157\"/>\n<text text-anchor=\"middle\" x=\"2822.5\" y=\"-141.8\" font-family=\"Times,serif\" font-size=\"14.00\" fill=\"#000000\">existing_credits &lt;= 1.5</text>\n<text text-anchor=\"middle\" x=\"2822.5\" y=\"-126.8\" font-family=\"Times,serif\" font-size=\"14.00\" fill=\"#000000\">entropy = 0.787</text>\n<text text-anchor=\"middle\" x=\"2822.5\" y=\"-111.8\" font-family=\"Times,serif\" font-size=\"14.00\" fill=\"#000000\">samples = 17</text>\n<text text-anchor=\"middle\" x=\"2822.5\" y=\"-96.8\" font-family=\"Times,serif\" font-size=\"14.00\" fill=\"#000000\">value = [13, 4]</text>\n</g>\n<!-- 76&#45;&gt;78 -->\n<g id=\"edge78\" class=\"edge\">\n<title>76&#45;&gt;78</title>\n<path fill=\"none\" stroke=\"#000000\" d=\"M2725.651,-192.9465C2738.8287,-183.4293 2753.2722,-172.9978 2766.8897,-163.163\"/>\n<polygon fill=\"#000000\" stroke=\"#000000\" points=\"2769.1855,-165.8223 2775.2431,-157.13 2765.087,-160.1476 2769.1855,-165.8223\"/>\n</g>\n<!-- 79 -->\n<g id=\"node80\" class=\"node\">\n<title>79</title>\n<polygon fill=\"none\" stroke=\"#000000\" points=\"2826.5,-53 2716.5,-53 2716.5,0 2826.5,0 2826.5,-53\"/>\n<text text-anchor=\"middle\" x=\"2771.5\" y=\"-37.8\" font-family=\"Times,serif\" font-size=\"14.00\" fill=\"#000000\">entropy = 0.946</text>\n<text text-anchor=\"middle\" x=\"2771.5\" y=\"-22.8\" font-family=\"Times,serif\" font-size=\"14.00\" fill=\"#000000\">samples = 11</text>\n<text text-anchor=\"middle\" x=\"2771.5\" y=\"-7.8\" font-family=\"Times,serif\" font-size=\"14.00\" fill=\"#000000\">value = [7, 4]</text>\n</g>\n<!-- 78&#45;&gt;79 -->\n<g id=\"edge79\" class=\"edge\">\n<title>78&#45;&gt;79</title>\n<path fill=\"none\" stroke=\"#000000\" d=\"M2804.5193,-88.9777C2799.9218,-80.2786 2794.9663,-70.9018 2790.3275,-62.1247\"/>\n<polygon fill=\"#000000\" stroke=\"#000000\" points=\"2793.4035,-60.4543 2785.6365,-53.2485 2787.2147,-63.7251 2793.4035,-60.4543\"/>\n</g>\n<!-- 80 -->\n<g id=\"node81\" class=\"node\">\n<title>80</title>\n<polygon fill=\"none\" stroke=\"#000000\" points=\"2940,-53 2845,-53 2845,0 2940,0 2940,-53\"/>\n<text text-anchor=\"middle\" x=\"2892.5\" y=\"-37.8\" font-family=\"Times,serif\" font-size=\"14.00\" fill=\"#000000\">entropy = 0.0</text>\n<text text-anchor=\"middle\" x=\"2892.5\" y=\"-22.8\" font-family=\"Times,serif\" font-size=\"14.00\" fill=\"#000000\">samples = 6</text>\n<text text-anchor=\"middle\" x=\"2892.5\" y=\"-7.8\" font-family=\"Times,serif\" font-size=\"14.00\" fill=\"#000000\">value = [6, 0]</text>\n</g>\n<!-- 78&#45;&gt;80 -->\n<g id=\"edge80\" class=\"edge\">\n<title>78&#45;&gt;80</title>\n<path fill=\"none\" stroke=\"#000000\" d=\"M2847.1794,-88.9777C2853.6225,-80.0954 2860.578,-70.5067 2867.0598,-61.5711\"/>\n<polygon fill=\"#000000\" stroke=\"#000000\" points=\"2870.0583,-63.3982 2873.097,-53.2485 2864.3921,-59.288 2870.0583,-63.3982\"/>\n</g>\n<!-- 82 -->\n<g id=\"node83\" class=\"node\">\n<title>82</title>\n<polygon fill=\"none\" stroke=\"#000000\" points=\"3010,-261 2915,-261 2915,-193 3010,-193 3010,-261\"/>\n<text text-anchor=\"middle\" x=\"2962.5\" y=\"-245.8\" font-family=\"Times,serif\" font-size=\"14.00\" fill=\"#000000\">id &lt;= 650.0</text>\n<text text-anchor=\"middle\" x=\"2962.5\" y=\"-230.8\" font-family=\"Times,serif\" font-size=\"14.00\" fill=\"#000000\">entropy = 1.0</text>\n<text text-anchor=\"middle\" x=\"2962.5\" y=\"-215.8\" font-family=\"Times,serif\" font-size=\"14.00\" fill=\"#000000\">samples = 4</text>\n<text text-anchor=\"middle\" x=\"2962.5\" y=\"-200.8\" font-family=\"Times,serif\" font-size=\"14.00\" fill=\"#000000\">value = [2, 2]</text>\n</g>\n<!-- 81&#45;&gt;82 -->\n<g id=\"edge82\" class=\"edge\">\n<title>81&#45;&gt;82</title>\n<path fill=\"none\" stroke=\"#000000\" d=\"M2962.5,-296.9465C2962.5,-288.776 2962.5,-279.9318 2962.5,-271.3697\"/>\n<polygon fill=\"#000000\" stroke=\"#000000\" points=\"2966.0001,-271.13 2962.5,-261.13 2959.0001,-271.13 2966.0001,-271.13\"/>\n</g>\n<!-- 85 -->\n<g id=\"node86\" class=\"node\">\n<title>85</title>\n<polygon fill=\"none\" stroke=\"#000000\" points=\"3123,-253.5 3028,-253.5 3028,-200.5 3123,-200.5 3123,-253.5\"/>\n<text text-anchor=\"middle\" x=\"3075.5\" y=\"-238.3\" font-family=\"Times,serif\" font-size=\"14.00\" fill=\"#000000\">entropy = 0.0</text>\n<text text-anchor=\"middle\" x=\"3075.5\" y=\"-223.3\" font-family=\"Times,serif\" font-size=\"14.00\" fill=\"#000000\">samples = 7</text>\n<text text-anchor=\"middle\" x=\"3075.5\" y=\"-208.3\" font-family=\"Times,serif\" font-size=\"14.00\" fill=\"#000000\">value = [0, 7]</text>\n</g>\n<!-- 81&#45;&gt;85 -->\n<g id=\"edge85\" class=\"edge\">\n<title>81&#45;&gt;85</title>\n<path fill=\"none\" stroke=\"#000000\" d=\"M2999.5004,-296.9465C3012.1866,-285.2707 3026.3678,-272.219 3039.013,-260.5809\"/>\n<polygon fill=\"#000000\" stroke=\"#000000\" points=\"3041.6731,-262.8895 3046.6609,-253.5422 3036.9327,-257.7389 3041.6731,-262.8895\"/>\n</g>\n<!-- 83 -->\n<g id=\"node84\" class=\"node\">\n<title>83</title>\n<polygon fill=\"none\" stroke=\"#000000\" points=\"3010,-149.5 2915,-149.5 2915,-96.5 3010,-96.5 3010,-149.5\"/>\n<text text-anchor=\"middle\" x=\"2962.5\" y=\"-134.3\" font-family=\"Times,serif\" font-size=\"14.00\" fill=\"#000000\">entropy = 0.0</text>\n<text text-anchor=\"middle\" x=\"2962.5\" y=\"-119.3\" font-family=\"Times,serif\" font-size=\"14.00\" fill=\"#000000\">samples = 2</text>\n<text text-anchor=\"middle\" x=\"2962.5\" y=\"-104.3\" font-family=\"Times,serif\" font-size=\"14.00\" fill=\"#000000\">value = [2, 0]</text>\n</g>\n<!-- 82&#45;&gt;83 -->\n<g id=\"edge83\" class=\"edge\">\n<title>82&#45;&gt;83</title>\n<path fill=\"none\" stroke=\"#000000\" d=\"M2962.5,-192.9465C2962.5,-182.2621 2962.5,-170.4254 2962.5,-159.5742\"/>\n<polygon fill=\"#000000\" stroke=\"#000000\" points=\"2966.0001,-159.5421 2962.5,-149.5422 2959.0001,-159.5422 2966.0001,-159.5421\"/>\n</g>\n<!-- 84 -->\n<g id=\"node85\" class=\"node\">\n<title>84</title>\n<polygon fill=\"none\" stroke=\"#000000\" points=\"3123,-149.5 3028,-149.5 3028,-96.5 3123,-96.5 3123,-149.5\"/>\n<text text-anchor=\"middle\" x=\"3075.5\" y=\"-134.3\" font-family=\"Times,serif\" font-size=\"14.00\" fill=\"#000000\">entropy = 0.0</text>\n<text text-anchor=\"middle\" x=\"3075.5\" y=\"-119.3\" font-family=\"Times,serif\" font-size=\"14.00\" fill=\"#000000\">samples = 2</text>\n<text text-anchor=\"middle\" x=\"3075.5\" y=\"-104.3\" font-family=\"Times,serif\" font-size=\"14.00\" fill=\"#000000\">value = [0, 2]</text>\n</g>\n<!-- 82&#45;&gt;84 -->\n<g id=\"edge84\" class=\"edge\">\n<title>82&#45;&gt;84</title>\n<path fill=\"none\" stroke=\"#000000\" d=\"M2999.5004,-192.9465C3012.1866,-181.2707 3026.3678,-168.219 3039.013,-156.5809\"/>\n<polygon fill=\"#000000\" stroke=\"#000000\" points=\"3041.6731,-158.8895 3046.6609,-149.5422 3036.9327,-153.7389 3041.6731,-158.8895\"/>\n</g>\n<!-- 87 -->\n<g id=\"node88\" class=\"node\">\n<title>87</title>\n<polygon fill=\"none\" stroke=\"#000000\" points=\"3672,-677 3515,-677 3515,-609 3672,-609 3672,-677\"/>\n<text text-anchor=\"middle\" x=\"3593.5\" y=\"-661.8\" font-family=\"Times,serif\" font-size=\"14.00\" fill=\"#000000\">purpose_radio/tv &lt;= 0.5</text>\n<text text-anchor=\"middle\" x=\"3593.5\" y=\"-646.8\" font-family=\"Times,serif\" font-size=\"14.00\" fill=\"#000000\">entropy = 0.889</text>\n<text text-anchor=\"middle\" x=\"3593.5\" y=\"-631.8\" font-family=\"Times,serif\" font-size=\"14.00\" fill=\"#000000\">samples = 49</text>\n<text text-anchor=\"middle\" x=\"3593.5\" y=\"-616.8\" font-family=\"Times,serif\" font-size=\"14.00\" fill=\"#000000\">value = [15, 34]</text>\n</g>\n<!-- 86&#45;&gt;87 -->\n<g id=\"edge87\" class=\"edge\">\n<title>86&#45;&gt;87</title>\n<path fill=\"none\" stroke=\"#000000\" d=\"M3593.5,-712.9465C3593.5,-704.776 3593.5,-695.9318 3593.5,-687.3697\"/>\n<polygon fill=\"#000000\" stroke=\"#000000\" points=\"3597.0001,-687.13 3593.5,-677.13 3590.0001,-687.13 3597.0001,-687.13\"/>\n</g>\n<!-- 104 -->\n<g id=\"node105\" class=\"node\">\n<title>104</title>\n<polygon fill=\"none\" stroke=\"#000000\" points=\"4141,-677 4024,-677 4024,-609 4141,-609 4141,-677\"/>\n<text text-anchor=\"middle\" x=\"4082.5\" y=\"-661.8\" font-family=\"Times,serif\" font-size=\"14.00\" fill=\"#000000\">age &lt;= 30.5</text>\n<text text-anchor=\"middle\" x=\"4082.5\" y=\"-646.8\" font-family=\"Times,serif\" font-size=\"14.00\" fill=\"#000000\">entropy = 0.394</text>\n<text text-anchor=\"middle\" x=\"4082.5\" y=\"-631.8\" font-family=\"Times,serif\" font-size=\"14.00\" fill=\"#000000\">samples = 257</text>\n<text text-anchor=\"middle\" x=\"4082.5\" y=\"-616.8\" font-family=\"Times,serif\" font-size=\"14.00\" fill=\"#000000\">value = [20, 237]</text>\n</g>\n<!-- 86&#45;&gt;104 -->\n<g id=\"edge104\" class=\"edge\">\n<title>86&#45;&gt;104</title>\n<path fill=\"none\" stroke=\"#000000\" d=\"M3703.2411,-723.6604C3798.43,-703.4157 3933.2487,-674.7426 4013.8727,-657.5956\"/>\n<polygon fill=\"#000000\" stroke=\"#000000\" points=\"4014.8597,-660.964 4023.9128,-655.4603 4013.4034,-654.1172 4014.8597,-660.964\"/>\n</g>\n<!-- 88 -->\n<g id=\"node89\" class=\"node\">\n<title>88</title>\n<polygon fill=\"none\" stroke=\"#000000\" points=\"3594,-573 3367,-573 3367,-505 3594,-505 3594,-573\"/>\n<text text-anchor=\"middle\" x=\"3480.5\" y=\"-557.8\" font-family=\"Times,serif\" font-size=\"14.00\" fill=\"#000000\">purpose_furniture/equipment &lt;= 0.5</text>\n<text text-anchor=\"middle\" x=\"3480.5\" y=\"-542.8\" font-family=\"Times,serif\" font-size=\"14.00\" fill=\"#000000\">entropy = 0.977</text>\n<text text-anchor=\"middle\" x=\"3480.5\" y=\"-527.8\" font-family=\"Times,serif\" font-size=\"14.00\" fill=\"#000000\">samples = 34</text>\n<text text-anchor=\"middle\" x=\"3480.5\" y=\"-512.8\" font-family=\"Times,serif\" font-size=\"14.00\" fill=\"#000000\">value = [14, 20]</text>\n</g>\n<!-- 87&#45;&gt;88 -->\n<g id=\"edge88\" class=\"edge\">\n<title>87&#45;&gt;88</title>\n<path fill=\"none\" stroke=\"#000000\" d=\"M3556.4996,-608.9465C3546.4514,-599.6986 3535.4653,-589.5876 3525.0474,-579.9994\"/>\n<polygon fill=\"#000000\" stroke=\"#000000\" points=\"3527.3118,-577.3267 3517.5836,-573.13 3522.5714,-582.4773 3527.3118,-577.3267\"/>\n</g>\n<!-- 101 -->\n<g id=\"node102\" class=\"node\">\n<title>101</title>\n<polygon fill=\"none\" stroke=\"#000000\" points=\"3798.5,-573 3612.5,-573 3612.5,-505 3798.5,-505 3798.5,-573\"/>\n<text text-anchor=\"middle\" x=\"3705.5\" y=\"-557.8\" font-family=\"Times,serif\" font-size=\"14.00\" fill=\"#000000\">job_unskilled resident &lt;= 0.5</text>\n<text text-anchor=\"middle\" x=\"3705.5\" y=\"-542.8\" font-family=\"Times,serif\" font-size=\"14.00\" fill=\"#000000\">entropy = 0.353</text>\n<text text-anchor=\"middle\" x=\"3705.5\" y=\"-527.8\" font-family=\"Times,serif\" font-size=\"14.00\" fill=\"#000000\">samples = 15</text>\n<text text-anchor=\"middle\" x=\"3705.5\" y=\"-512.8\" font-family=\"Times,serif\" font-size=\"14.00\" fill=\"#000000\">value = [1, 14]</text>\n</g>\n<!-- 87&#45;&gt;101 -->\n<g id=\"edge101\" class=\"edge\">\n<title>87&#45;&gt;101</title>\n<path fill=\"none\" stroke=\"#000000\" d=\"M3630.173,-608.9465C3640.1323,-599.6986 3651.0211,-589.5876 3661.3468,-579.9994\"/>\n<polygon fill=\"#000000\" stroke=\"#000000\" points=\"3663.7982,-582.4993 3668.7446,-573.13 3659.0351,-577.3698 3663.7982,-582.4993\"/>\n</g>\n<!-- 89 -->\n<g id=\"node90\" class=\"node\">\n<title>89</title>\n<polygon fill=\"none\" stroke=\"#000000\" points=\"3441.5,-469 3331.5,-469 3331.5,-401 3441.5,-401 3441.5,-469\"/>\n<text text-anchor=\"middle\" x=\"3386.5\" y=\"-453.8\" font-family=\"Times,serif\" font-size=\"14.00\" fill=\"#000000\">duration &lt;= 9.0</text>\n<text text-anchor=\"middle\" x=\"3386.5\" y=\"-438.8\" font-family=\"Times,serif\" font-size=\"14.00\" fill=\"#000000\">entropy = 0.997</text>\n<text text-anchor=\"middle\" x=\"3386.5\" y=\"-423.8\" font-family=\"Times,serif\" font-size=\"14.00\" fill=\"#000000\">samples = 30</text>\n<text text-anchor=\"middle\" x=\"3386.5\" y=\"-408.8\" font-family=\"Times,serif\" font-size=\"14.00\" fill=\"#000000\">value = [14, 16]</text>\n</g>\n<!-- 88&#45;&gt;89 -->\n<g id=\"edge89\" class=\"edge\">\n<title>88&#45;&gt;89</title>\n<path fill=\"none\" stroke=\"#000000\" d=\"M3449.7209,-504.9465C3441.5245,-495.8782 3432.578,-485.9799 3424.0625,-476.5585\"/>\n<polygon fill=\"#000000\" stroke=\"#000000\" points=\"3426.6503,-474.2019 3417.3483,-469.13 3421.4571,-478.8957 3426.6503,-474.2019\"/>\n</g>\n<!-- 100 -->\n<g id=\"node101\" class=\"node\">\n<title>100</title>\n<polygon fill=\"none\" stroke=\"#000000\" points=\"3555,-461.5 3460,-461.5 3460,-408.5 3555,-408.5 3555,-461.5\"/>\n<text text-anchor=\"middle\" x=\"3507.5\" y=\"-446.3\" font-family=\"Times,serif\" font-size=\"14.00\" fill=\"#000000\">entropy = 0.0</text>\n<text text-anchor=\"middle\" x=\"3507.5\" y=\"-431.3\" font-family=\"Times,serif\" font-size=\"14.00\" fill=\"#000000\">samples = 4</text>\n<text text-anchor=\"middle\" x=\"3507.5\" y=\"-416.3\" font-family=\"Times,serif\" font-size=\"14.00\" fill=\"#000000\">value = [0, 4]</text>\n</g>\n<!-- 88&#45;&gt;100 -->\n<g id=\"edge100\" class=\"edge\">\n<title>88&#45;&gt;100</title>\n<path fill=\"none\" stroke=\"#000000\" d=\"M3489.3408,-504.9465C3492.1433,-494.1519 3495.251,-482.1813 3498.0918,-471.2389\"/>\n<polygon fill=\"#000000\" stroke=\"#000000\" points=\"3501.484,-472.1008 3500.6092,-461.5422 3494.7086,-470.3418 3501.484,-472.1008\"/>\n</g>\n<!-- 90 -->\n<g id=\"node91\" class=\"node\">\n<title>90</title>\n<polygon fill=\"none\" stroke=\"#000000\" points=\"3349,-357.5 3254,-357.5 3254,-304.5 3349,-304.5 3349,-357.5\"/>\n<text text-anchor=\"middle\" x=\"3301.5\" y=\"-342.3\" font-family=\"Times,serif\" font-size=\"14.00\" fill=\"#000000\">entropy = 0.0</text>\n<text text-anchor=\"middle\" x=\"3301.5\" y=\"-327.3\" font-family=\"Times,serif\" font-size=\"14.00\" fill=\"#000000\">samples = 3</text>\n<text text-anchor=\"middle\" x=\"3301.5\" y=\"-312.3\" font-family=\"Times,serif\" font-size=\"14.00\" fill=\"#000000\">value = [0, 3]</text>\n</g>\n<!-- 89&#45;&gt;90 -->\n<g id=\"edge90\" class=\"edge\">\n<title>89&#45;&gt;90</title>\n<path fill=\"none\" stroke=\"#000000\" d=\"M3358.6678,-400.9465C3349.3952,-389.6012 3339.0608,-376.9567 3329.7563,-365.5724\"/>\n<polygon fill=\"#000000\" stroke=\"#000000\" points=\"3332.2315,-363.0701 3323.1931,-357.5422 3326.8115,-367.5 3332.2315,-363.0701\"/>\n</g>\n<!-- 91 -->\n<g id=\"node92\" class=\"node\">\n<title>91</title>\n<polygon fill=\"none\" stroke=\"#000000\" points=\"3477.5,-365 3367.5,-365 3367.5,-297 3477.5,-297 3477.5,-365\"/>\n<text text-anchor=\"middle\" x=\"3422.5\" y=\"-349.8\" font-family=\"Times,serif\" font-size=\"14.00\" fill=\"#000000\">age &lt;= 44.5</text>\n<text text-anchor=\"middle\" x=\"3422.5\" y=\"-334.8\" font-family=\"Times,serif\" font-size=\"14.00\" fill=\"#000000\">entropy = 0.999</text>\n<text text-anchor=\"middle\" x=\"3422.5\" y=\"-319.8\" font-family=\"Times,serif\" font-size=\"14.00\" fill=\"#000000\">samples = 27</text>\n<text text-anchor=\"middle\" x=\"3422.5\" y=\"-304.8\" font-family=\"Times,serif\" font-size=\"14.00\" fill=\"#000000\">value = [14, 13]</text>\n</g>\n<!-- 89&#45;&gt;91 -->\n<g id=\"edge91\" class=\"edge\">\n<title>89&#45;&gt;91</title>\n<path fill=\"none\" stroke=\"#000000\" d=\"M3398.2877,-400.9465C3401.1781,-392.5965 3404.3121,-383.5427 3407.3365,-374.8056\"/>\n<polygon fill=\"#000000\" stroke=\"#000000\" points=\"3410.7221,-375.7248 3410.6858,-365.13 3404.1071,-373.435 3410.7221,-375.7248\"/>\n</g>\n<!-- 92 -->\n<g id=\"node93\" class=\"node\">\n<title>92</title>\n<polygon fill=\"none\" stroke=\"#000000\" points=\"3402.5,-261 3292.5,-261 3292.5,-193 3402.5,-193 3402.5,-261\"/>\n<text text-anchor=\"middle\" x=\"3347.5\" y=\"-245.8\" font-family=\"Times,serif\" font-size=\"14.00\" fill=\"#000000\">age &lt;= 36.5</text>\n<text text-anchor=\"middle\" x=\"3347.5\" y=\"-230.8\" font-family=\"Times,serif\" font-size=\"14.00\" fill=\"#000000\">entropy = 0.959</text>\n<text text-anchor=\"middle\" x=\"3347.5\" y=\"-215.8\" font-family=\"Times,serif\" font-size=\"14.00\" fill=\"#000000\">samples = 21</text>\n<text text-anchor=\"middle\" x=\"3347.5\" y=\"-200.8\" font-family=\"Times,serif\" font-size=\"14.00\" fill=\"#000000\">value = [13, 8]</text>\n</g>\n<!-- 91&#45;&gt;92 -->\n<g id=\"edge92\" class=\"edge\">\n<title>91&#45;&gt;92</title>\n<path fill=\"none\" stroke=\"#000000\" d=\"M3397.9422,-296.9465C3391.5968,-288.1475 3384.6879,-278.5672 3378.0764,-269.3993\"/>\n<polygon fill=\"#000000\" stroke=\"#000000\" points=\"3380.8011,-267.1937 3372.113,-261.13 3375.1234,-271.2882 3380.8011,-267.1937\"/>\n</g>\n<!-- 97 -->\n<g id=\"node98\" class=\"node\">\n<title>97</title>\n<polygon fill=\"none\" stroke=\"#000000\" points=\"3660,-261 3421,-261 3421,-193 3660,-193 3660,-261\"/>\n<text text-anchor=\"middle\" x=\"3540.5\" y=\"-245.8\" font-family=\"Times,serif\" font-size=\"14.00\" fill=\"#000000\">property_magnitude_real estate &lt;= 0.5</text>\n<text text-anchor=\"middle\" x=\"3540.5\" y=\"-230.8\" font-family=\"Times,serif\" font-size=\"14.00\" fill=\"#000000\">entropy = 0.65</text>\n<text text-anchor=\"middle\" x=\"3540.5\" y=\"-215.8\" font-family=\"Times,serif\" font-size=\"14.00\" fill=\"#000000\">samples = 6</text>\n<text text-anchor=\"middle\" x=\"3540.5\" y=\"-200.8\" font-family=\"Times,serif\" font-size=\"14.00\" fill=\"#000000\">value = [1, 5]</text>\n</g>\n<!-- 91&#45;&gt;97 -->\n<g id=\"edge97\" class=\"edge\">\n<title>91&#45;&gt;97</title>\n<path fill=\"none\" stroke=\"#000000\" d=\"M3461.1376,-296.9465C3471.6304,-287.6986 3483.1026,-277.5876 3493.9814,-267.9994\"/>\n<polygon fill=\"#000000\" stroke=\"#000000\" points=\"3496.5877,-270.3678 3501.7756,-261.13 3491.9593,-265.1163 3496.5877,-270.3678\"/>\n</g>\n<!-- 93 -->\n<g id=\"node94\" class=\"node\">\n<title>93</title>\n<polygon fill=\"none\" stroke=\"#000000\" points=\"3290,-157 3141,-157 3141,-89 3290,-89 3290,-157\"/>\n<text text-anchor=\"middle\" x=\"3215.5\" y=\"-141.8\" font-family=\"Times,serif\" font-size=\"14.00\" fill=\"#000000\">existing_credits &lt;= 1.5</text>\n<text text-anchor=\"middle\" x=\"3215.5\" y=\"-126.8\" font-family=\"Times,serif\" font-size=\"14.00\" fill=\"#000000\">entropy = 0.985</text>\n<text text-anchor=\"middle\" x=\"3215.5\" y=\"-111.8\" font-family=\"Times,serif\" font-size=\"14.00\" fill=\"#000000\">samples = 14</text>\n<text text-anchor=\"middle\" x=\"3215.5\" y=\"-96.8\" font-family=\"Times,serif\" font-size=\"14.00\" fill=\"#000000\">value = [6, 8]</text>\n</g>\n<!-- 92&#45;&gt;93 -->\n<g id=\"edge93\" class=\"edge\">\n<title>92&#45;&gt;93</title>\n<path fill=\"none\" stroke=\"#000000\" d=\"M3304.2783,-192.9465C3292.3126,-183.519 3279.2085,-173.1946 3266.8296,-163.4415\"/>\n<polygon fill=\"#000000\" stroke=\"#000000\" points=\"3268.8398,-160.5695 3258.8188,-157.13 3264.5077,-166.068 3268.8398,-160.5695\"/>\n</g>\n<!-- 96 -->\n<g id=\"node97\" class=\"node\">\n<title>96</title>\n<polygon fill=\"none\" stroke=\"#000000\" points=\"3403,-149.5 3308,-149.5 3308,-96.5 3403,-96.5 3403,-149.5\"/>\n<text text-anchor=\"middle\" x=\"3355.5\" y=\"-134.3\" font-family=\"Times,serif\" font-size=\"14.00\" fill=\"#000000\">entropy = 0.0</text>\n<text text-anchor=\"middle\" x=\"3355.5\" y=\"-119.3\" font-family=\"Times,serif\" font-size=\"14.00\" fill=\"#000000\">samples = 7</text>\n<text text-anchor=\"middle\" x=\"3355.5\" y=\"-104.3\" font-family=\"Times,serif\" font-size=\"14.00\" fill=\"#000000\">value = [7, 0]</text>\n</g>\n<!-- 92&#45;&gt;96 -->\n<g id=\"edge96\" class=\"edge\">\n<title>92&#45;&gt;96</title>\n<path fill=\"none\" stroke=\"#000000\" d=\"M3350.1195,-192.9465C3350.9414,-182.2621 3351.8519,-170.4254 3352.6866,-159.5742\"/>\n<polygon fill=\"#000000\" stroke=\"#000000\" points=\"3356.1809,-159.7812 3353.4583,-149.5422 3349.2015,-159.2442 3356.1809,-159.7812\"/>\n</g>\n<!-- 94 -->\n<g id=\"node95\" class=\"node\">\n<title>94</title>\n<polygon fill=\"none\" stroke=\"#000000\" points=\"3203,-53 3108,-53 3108,0 3203,0 3203,-53\"/>\n<text text-anchor=\"middle\" x=\"3155.5\" y=\"-37.8\" font-family=\"Times,serif\" font-size=\"14.00\" fill=\"#000000\">entropy = 0.0</text>\n<text text-anchor=\"middle\" x=\"3155.5\" y=\"-22.8\" font-family=\"Times,serif\" font-size=\"14.00\" fill=\"#000000\">samples = 6</text>\n<text text-anchor=\"middle\" x=\"3155.5\" y=\"-7.8\" font-family=\"Times,serif\" font-size=\"14.00\" fill=\"#000000\">value = [0, 6]</text>\n</g>\n<!-- 93&#45;&gt;94 -->\n<g id=\"edge94\" class=\"edge\">\n<title>93&#45;&gt;94</title>\n<path fill=\"none\" stroke=\"#000000\" d=\"M3194.3462,-88.9777C3188.8805,-80.187 3182.9846,-70.7044 3177.4778,-61.8477\"/>\n<polygon fill=\"#000000\" stroke=\"#000000\" points=\"3180.3837,-59.8927 3172.1312,-53.2485 3174.4391,-63.5889 3180.3837,-59.8927\"/>\n</g>\n<!-- 95 -->\n<g id=\"node96\" class=\"node\">\n<title>95</title>\n<polygon fill=\"none\" stroke=\"#000000\" points=\"3331.5,-53 3221.5,-53 3221.5,0 3331.5,0 3331.5,-53\"/>\n<text text-anchor=\"middle\" x=\"3276.5\" y=\"-37.8\" font-family=\"Times,serif\" font-size=\"14.00\" fill=\"#000000\">entropy = 0.811</text>\n<text text-anchor=\"middle\" x=\"3276.5\" y=\"-22.8\" font-family=\"Times,serif\" font-size=\"14.00\" fill=\"#000000\">samples = 8</text>\n<text text-anchor=\"middle\" x=\"3276.5\" y=\"-7.8\" font-family=\"Times,serif\" font-size=\"14.00\" fill=\"#000000\">value = [6, 2]</text>\n</g>\n<!-- 93&#45;&gt;95 -->\n<g id=\"edge95\" class=\"edge\">\n<title>93&#45;&gt;95</title>\n<path fill=\"none\" stroke=\"#000000\" d=\"M3237.0063,-88.9777C3242.5631,-80.187 3248.5573,-70.7044 3254.1559,-61.8477\"/>\n<polygon fill=\"#000000\" stroke=\"#000000\" points=\"3257.2069,-63.5714 3259.5916,-53.2485 3251.2899,-59.8312 3257.2069,-63.5714\"/>\n</g>\n<!-- 98 -->\n<g id=\"node99\" class=\"node\">\n<title>98</title>\n<polygon fill=\"none\" stroke=\"#000000\" points=\"3516,-149.5 3421,-149.5 3421,-96.5 3516,-96.5 3516,-149.5\"/>\n<text text-anchor=\"middle\" x=\"3468.5\" y=\"-134.3\" font-family=\"Times,serif\" font-size=\"14.00\" fill=\"#000000\">entropy = 0.0</text>\n<text text-anchor=\"middle\" x=\"3468.5\" y=\"-119.3\" font-family=\"Times,serif\" font-size=\"14.00\" fill=\"#000000\">samples = 5</text>\n<text text-anchor=\"middle\" x=\"3468.5\" y=\"-104.3\" font-family=\"Times,serif\" font-size=\"14.00\" fill=\"#000000\">value = [0, 5]</text>\n</g>\n<!-- 97&#45;&gt;98 -->\n<g id=\"edge98\" class=\"edge\">\n<title>97&#45;&gt;98</title>\n<path fill=\"none\" stroke=\"#000000\" d=\"M3516.9245,-192.9465C3509.1463,-181.7113 3500.4861,-169.2021 3492.6645,-157.9043\"/>\n<polygon fill=\"#000000\" stroke=\"#000000\" points=\"3495.4452,-155.7719 3486.8753,-149.5422 3489.6898,-159.7564 3495.4452,-155.7719\"/>\n</g>\n<!-- 99 -->\n<g id=\"node100\" class=\"node\">\n<title>99</title>\n<polygon fill=\"none\" stroke=\"#000000\" points=\"3629,-149.5 3534,-149.5 3534,-96.5 3629,-96.5 3629,-149.5\"/>\n<text text-anchor=\"middle\" x=\"3581.5\" y=\"-134.3\" font-family=\"Times,serif\" font-size=\"14.00\" fill=\"#000000\">entropy = 0.0</text>\n<text text-anchor=\"middle\" x=\"3581.5\" y=\"-119.3\" font-family=\"Times,serif\" font-size=\"14.00\" fill=\"#000000\">samples = 1</text>\n<text text-anchor=\"middle\" x=\"3581.5\" y=\"-104.3\" font-family=\"Times,serif\" font-size=\"14.00\" fill=\"#000000\">value = [1, 0]</text>\n</g>\n<!-- 97&#45;&gt;99 -->\n<g id=\"edge99\" class=\"edge\">\n<title>97&#45;&gt;99</title>\n<path fill=\"none\" stroke=\"#000000\" d=\"M3553.9249,-192.9465C3558.2239,-182.0418 3562.9961,-169.9368 3567.3454,-158.9043\"/>\n<polygon fill=\"#000000\" stroke=\"#000000\" points=\"3570.6247,-160.129 3571.0363,-149.5422 3564.1125,-157.5617 3570.6247,-160.129\"/>\n</g>\n<!-- 102 -->\n<g id=\"node103\" class=\"node\">\n<title>102</title>\n<polygon fill=\"none\" stroke=\"#000000\" points=\"3729.5,-461.5 3627.5,-461.5 3627.5,-408.5 3729.5,-408.5 3729.5,-461.5\"/>\n<text text-anchor=\"middle\" x=\"3678.5\" y=\"-446.3\" font-family=\"Times,serif\" font-size=\"14.00\" fill=\"#000000\">entropy = 0.0</text>\n<text text-anchor=\"middle\" x=\"3678.5\" y=\"-431.3\" font-family=\"Times,serif\" font-size=\"14.00\" fill=\"#000000\">samples = 13</text>\n<text text-anchor=\"middle\" x=\"3678.5\" y=\"-416.3\" font-family=\"Times,serif\" font-size=\"14.00\" fill=\"#000000\">value = [0, 13]</text>\n</g>\n<!-- 101&#45;&gt;102 -->\n<g id=\"edge102\" class=\"edge\">\n<title>101&#45;&gt;102</title>\n<path fill=\"none\" stroke=\"#000000\" d=\"M3696.6592,-504.9465C3693.8567,-494.1519 3690.749,-482.1813 3687.9082,-471.2389\"/>\n<polygon fill=\"#000000\" stroke=\"#000000\" points=\"3691.2914,-470.3418 3685.3908,-461.5422 3684.516,-472.1008 3691.2914,-470.3418\"/>\n</g>\n<!-- 103 -->\n<g id=\"node104\" class=\"node\">\n<title>103</title>\n<polygon fill=\"none\" stroke=\"#000000\" points=\"3843,-461.5 3748,-461.5 3748,-408.5 3843,-408.5 3843,-461.5\"/>\n<text text-anchor=\"middle\" x=\"3795.5\" y=\"-446.3\" font-family=\"Times,serif\" font-size=\"14.00\" fill=\"#000000\">entropy = 1.0</text>\n<text text-anchor=\"middle\" x=\"3795.5\" y=\"-431.3\" font-family=\"Times,serif\" font-size=\"14.00\" fill=\"#000000\">samples = 2</text>\n<text text-anchor=\"middle\" x=\"3795.5\" y=\"-416.3\" font-family=\"Times,serif\" font-size=\"14.00\" fill=\"#000000\">value = [1, 1]</text>\n</g>\n<!-- 101&#45;&gt;103 -->\n<g id=\"edge103\" class=\"edge\">\n<title>101&#45;&gt;103</title>\n<path fill=\"none\" stroke=\"#000000\" d=\"M3734.9694,-504.9465C3744.8828,-493.491 3755.9424,-480.711 3765.8682,-469.2412\"/>\n<polygon fill=\"#000000\" stroke=\"#000000\" points=\"3768.6336,-471.3942 3772.5308,-461.5422 3763.3404,-466.8135 3768.6336,-471.3942\"/>\n</g>\n<!-- 105 -->\n<g id=\"node106\" class=\"node\">\n<title>105</title>\n<polygon fill=\"none\" stroke=\"#000000\" points=\"4137.5,-573 4027.5,-573 4027.5,-505 4137.5,-505 4137.5,-573\"/>\n<text text-anchor=\"middle\" x=\"4082.5\" y=\"-557.8\" font-family=\"Times,serif\" font-size=\"14.00\" fill=\"#000000\">id &lt;= 499.5</text>\n<text text-anchor=\"middle\" x=\"4082.5\" y=\"-542.8\" font-family=\"Times,serif\" font-size=\"14.00\" fill=\"#000000\">entropy = 0.642</text>\n<text text-anchor=\"middle\" x=\"4082.5\" y=\"-527.8\" font-family=\"Times,serif\" font-size=\"14.00\" fill=\"#000000\">samples = 92</text>\n<text text-anchor=\"middle\" x=\"4082.5\" y=\"-512.8\" font-family=\"Times,serif\" font-size=\"14.00\" fill=\"#000000\">value = [15, 77]</text>\n</g>\n<!-- 104&#45;&gt;105 -->\n<g id=\"edge105\" class=\"edge\">\n<title>104&#45;&gt;105</title>\n<path fill=\"none\" stroke=\"#000000\" d=\"M4082.5,-608.9465C4082.5,-600.776 4082.5,-591.9318 4082.5,-583.3697\"/>\n<polygon fill=\"#000000\" stroke=\"#000000\" points=\"4086.0001,-583.13 4082.5,-573.13 4079.0001,-583.13 4086.0001,-583.13\"/>\n</g>\n<!-- 124 -->\n<g id=\"node125\" class=\"node\">\n<title>124</title>\n<polygon fill=\"none\" stroke=\"#000000\" points=\"4527.5,-573 4363.5,-573 4363.5,-505 4527.5,-505 4527.5,-573\"/>\n<text text-anchor=\"middle\" x=\"4445.5\" y=\"-557.8\" font-family=\"Times,serif\" font-size=\"14.00\" fill=\"#000000\">credit_amount &lt;= 4558.5</text>\n<text text-anchor=\"middle\" x=\"4445.5\" y=\"-542.8\" font-family=\"Times,serif\" font-size=\"14.00\" fill=\"#000000\">entropy = 0.196</text>\n<text text-anchor=\"middle\" x=\"4445.5\" y=\"-527.8\" font-family=\"Times,serif\" font-size=\"14.00\" fill=\"#000000\">samples = 165</text>\n<text text-anchor=\"middle\" x=\"4445.5\" y=\"-512.8\" font-family=\"Times,serif\" font-size=\"14.00\" fill=\"#000000\">value = [5, 160]</text>\n</g>\n<!-- 104&#45;&gt;124 -->\n<g id=\"edge124\" class=\"edge\">\n<title>104&#45;&gt;124</title>\n<path fill=\"none\" stroke=\"#000000\" d=\"M4141.2257,-626.175C4198.6969,-609.7094 4287.086,-584.3858 4353.8173,-565.2672\"/>\n<polygon fill=\"#000000\" stroke=\"#000000\" points=\"4354.8502,-568.6122 4363.4995,-562.4933 4352.9222,-561.8829 4354.8502,-568.6122\"/>\n</g>\n<!-- 106 -->\n<g id=\"node107\" class=\"node\">\n<title>106</title>\n<polygon fill=\"none\" stroke=\"#000000\" points=\"4043.5,-469 3933.5,-469 3933.5,-401 4043.5,-401 4043.5,-469\"/>\n<text text-anchor=\"middle\" x=\"3988.5\" y=\"-453.8\" font-family=\"Times,serif\" font-size=\"14.00\" fill=\"#000000\">id &lt;= 358.5</text>\n<text text-anchor=\"middle\" x=\"3988.5\" y=\"-438.8\" font-family=\"Times,serif\" font-size=\"14.00\" fill=\"#000000\">entropy = 0.409</text>\n<text text-anchor=\"middle\" x=\"3988.5\" y=\"-423.8\" font-family=\"Times,serif\" font-size=\"14.00\" fill=\"#000000\">samples = 61</text>\n<text text-anchor=\"middle\" x=\"3988.5\" y=\"-408.8\" font-family=\"Times,serif\" font-size=\"14.00\" fill=\"#000000\">value = [5, 56]</text>\n</g>\n<!-- 105&#45;&gt;106 -->\n<g id=\"edge106\" class=\"edge\">\n<title>105&#45;&gt;106</title>\n<path fill=\"none\" stroke=\"#000000\" d=\"M4051.7209,-504.9465C4043.5245,-495.8782 4034.578,-485.9799 4026.0625,-476.5585\"/>\n<polygon fill=\"#000000\" stroke=\"#000000\" points=\"4028.6503,-474.2019 4019.3483,-469.13 4023.4571,-478.8957 4028.6503,-474.2019\"/>\n</g>\n<!-- 115 -->\n<g id=\"node116\" class=\"node\">\n<title>115</title>\n<polygon fill=\"none\" stroke=\"#000000\" points=\"4219,-469 4062,-469 4062,-401 4219,-401 4219,-469\"/>\n<text text-anchor=\"middle\" x=\"4140.5\" y=\"-453.8\" font-family=\"Times,serif\" font-size=\"14.00\" fill=\"#000000\">purpose_radio/tv &lt;= 0.5</text>\n<text text-anchor=\"middle\" x=\"4140.5\" y=\"-438.8\" font-family=\"Times,serif\" font-size=\"14.00\" fill=\"#000000\">entropy = 0.907</text>\n<text text-anchor=\"middle\" x=\"4140.5\" y=\"-423.8\" font-family=\"Times,serif\" font-size=\"14.00\" fill=\"#000000\">samples = 31</text>\n<text text-anchor=\"middle\" x=\"4140.5\" y=\"-408.8\" font-family=\"Times,serif\" font-size=\"14.00\" fill=\"#000000\">value = [10, 21]</text>\n</g>\n<!-- 105&#45;&gt;115 -->\n<g id=\"edge115\" class=\"edge\">\n<title>105&#45;&gt;115</title>\n<path fill=\"none\" stroke=\"#000000\" d=\"M4101.4914,-504.9465C4106.2983,-496.3271 4111.5235,-486.9579 4116.5409,-477.9611\"/>\n<polygon fill=\"#000000\" stroke=\"#000000\" points=\"4119.652,-479.5684 4121.466,-469.13 4113.5385,-476.1589 4119.652,-479.5684\"/>\n</g>\n<!-- 107 -->\n<g id=\"node108\" class=\"node\">\n<title>107</title>\n<polygon fill=\"none\" stroke=\"#000000\" points=\"3925.5,-365 3815.5,-365 3815.5,-297 3925.5,-297 3925.5,-365\"/>\n<text text-anchor=\"middle\" x=\"3870.5\" y=\"-349.8\" font-family=\"Times,serif\" font-size=\"14.00\" fill=\"#000000\">id &lt;= 176.5</text>\n<text text-anchor=\"middle\" x=\"3870.5\" y=\"-334.8\" font-family=\"Times,serif\" font-size=\"14.00\" fill=\"#000000\">entropy = 0.581</text>\n<text text-anchor=\"middle\" x=\"3870.5\" y=\"-319.8\" font-family=\"Times,serif\" font-size=\"14.00\" fill=\"#000000\">samples = 36</text>\n<text text-anchor=\"middle\" x=\"3870.5\" y=\"-304.8\" font-family=\"Times,serif\" font-size=\"14.00\" fill=\"#000000\">value = [5, 31]</text>\n</g>\n<!-- 106&#45;&gt;107 -->\n<g id=\"edge107\" class=\"edge\">\n<title>106&#45;&gt;107</title>\n<path fill=\"none\" stroke=\"#000000\" d=\"M3949.8624,-400.9465C3939.3696,-391.6986 3927.8974,-381.5876 3917.0186,-371.9994\"/>\n<polygon fill=\"#000000\" stroke=\"#000000\" points=\"3919.0407,-369.1163 3909.2244,-365.13 3914.4123,-374.3678 3919.0407,-369.1163\"/>\n</g>\n<!-- 114 -->\n<g id=\"node115\" class=\"node\">\n<title>114</title>\n<polygon fill=\"none\" stroke=\"#000000\" points=\"4045.5,-357.5 3943.5,-357.5 3943.5,-304.5 4045.5,-304.5 4045.5,-357.5\"/>\n<text text-anchor=\"middle\" x=\"3994.5\" y=\"-342.3\" font-family=\"Times,serif\" font-size=\"14.00\" fill=\"#000000\">entropy = 0.0</text>\n<text text-anchor=\"middle\" x=\"3994.5\" y=\"-327.3\" font-family=\"Times,serif\" font-size=\"14.00\" fill=\"#000000\">samples = 25</text>\n<text text-anchor=\"middle\" x=\"3994.5\" y=\"-312.3\" font-family=\"Times,serif\" font-size=\"14.00\" fill=\"#000000\">value = [0, 25]</text>\n</g>\n<!-- 106&#45;&gt;114 -->\n<g id=\"edge114\" class=\"edge\">\n<title>106&#45;&gt;114</title>\n<path fill=\"none\" stroke=\"#000000\" d=\"M3990.4646,-400.9465C3991.081,-390.2621 3991.7639,-378.4254 3992.3899,-367.5742\"/>\n<polygon fill=\"#000000\" stroke=\"#000000\" points=\"3995.8869,-367.7272 3992.9687,-357.5422 3988.8985,-367.3239 3995.8869,-367.7272\"/>\n</g>\n<!-- 108 -->\n<g id=\"node109\" class=\"node\">\n<title>108</title>\n<polygon fill=\"none\" stroke=\"#000000\" points=\"3781.5,-253.5 3679.5,-253.5 3679.5,-200.5 3781.5,-200.5 3781.5,-253.5\"/>\n<text text-anchor=\"middle\" x=\"3730.5\" y=\"-238.3\" font-family=\"Times,serif\" font-size=\"14.00\" fill=\"#000000\">entropy = 0.0</text>\n<text text-anchor=\"middle\" x=\"3730.5\" y=\"-223.3\" font-family=\"Times,serif\" font-size=\"14.00\" fill=\"#000000\">samples = 16</text>\n<text text-anchor=\"middle\" x=\"3730.5\" y=\"-208.3\" font-family=\"Times,serif\" font-size=\"14.00\" fill=\"#000000\">value = [0, 16]</text>\n</g>\n<!-- 107&#45;&gt;108 -->\n<g id=\"edge108\" class=\"edge\">\n<title>107&#45;&gt;108</title>\n<path fill=\"none\" stroke=\"#000000\" d=\"M3824.6588,-296.9465C3808.4965,-284.9403 3790.3758,-271.4791 3774.3795,-259.5962\"/>\n<polygon fill=\"#000000\" stroke=\"#000000\" points=\"3776.3444,-256.6958 3766.2298,-253.5422 3772.1701,-262.3151 3776.3444,-256.6958\"/>\n</g>\n<!-- 109 -->\n<g id=\"node110\" class=\"node\">\n<title>109</title>\n<polygon fill=\"none\" stroke=\"#000000\" points=\"3957,-261 3800,-261 3800,-193 3957,-193 3957,-261\"/>\n<text text-anchor=\"middle\" x=\"3878.5\" y=\"-245.8\" font-family=\"Times,serif\" font-size=\"14.00\" fill=\"#000000\">credit_amount &lt;= 716.0</text>\n<text text-anchor=\"middle\" x=\"3878.5\" y=\"-230.8\" font-family=\"Times,serif\" font-size=\"14.00\" fill=\"#000000\">entropy = 0.811</text>\n<text text-anchor=\"middle\" x=\"3878.5\" y=\"-215.8\" font-family=\"Times,serif\" font-size=\"14.00\" fill=\"#000000\">samples = 20</text>\n<text text-anchor=\"middle\" x=\"3878.5\" y=\"-200.8\" font-family=\"Times,serif\" font-size=\"14.00\" fill=\"#000000\">value = [5, 15]</text>\n</g>\n<!-- 107&#45;&gt;109 -->\n<g id=\"edge109\" class=\"edge\">\n<title>107&#45;&gt;109</title>\n<path fill=\"none\" stroke=\"#000000\" d=\"M3873.1195,-296.9465C3873.748,-288.776 3874.4283,-279.9318 3875.0869,-271.3697\"/>\n<polygon fill=\"#000000\" stroke=\"#000000\" points=\"3878.5973,-271.369 3875.8746,-261.13 3871.6179,-270.8321 3878.5973,-271.369\"/>\n</g>\n<!-- 110 -->\n<g id=\"node111\" class=\"node\">\n<title>110</title>\n<polygon fill=\"none\" stroke=\"#000000\" points=\"3742,-149.5 3647,-149.5 3647,-96.5 3742,-96.5 3742,-149.5\"/>\n<text text-anchor=\"middle\" x=\"3694.5\" y=\"-134.3\" font-family=\"Times,serif\" font-size=\"14.00\" fill=\"#000000\">entropy = 0.0</text>\n<text text-anchor=\"middle\" x=\"3694.5\" y=\"-119.3\" font-family=\"Times,serif\" font-size=\"14.00\" fill=\"#000000\">samples = 1</text>\n<text text-anchor=\"middle\" x=\"3694.5\" y=\"-104.3\" font-family=\"Times,serif\" font-size=\"14.00\" fill=\"#000000\">value = [1, 0]</text>\n</g>\n<!-- 109&#45;&gt;110 -->\n<g id=\"edge110\" class=\"edge\">\n<title>109&#45;&gt;110</title>\n<path fill=\"none\" stroke=\"#000000\" d=\"M3815.6045,-192.8854C3795.0843,-181.6083 3772.2464,-168.9004 3751.5,-157 3750.1882,-156.2475 3748.861,-155.4828 3747.5236,-154.7091\"/>\n<polygon fill=\"#000000\" stroke=\"#000000\" points=\"3749.0022,-151.5198 3738.6003,-149.5068 3745.4765,-157.5671 3749.0022,-151.5198\"/>\n</g>\n<!-- 111 -->\n<g id=\"node112\" class=\"node\">\n<title>111</title>\n<polygon fill=\"none\" stroke=\"#000000\" points=\"4014.5,-157 3760.5,-157 3760.5,-89 4014.5,-89 4014.5,-157\"/>\n<text text-anchor=\"middle\" x=\"3887.5\" y=\"-141.8\" font-family=\"Times,serif\" font-size=\"14.00\" fill=\"#000000\">credit_history_delayed previously &lt;= 0.5</text>\n<text text-anchor=\"middle\" x=\"3887.5\" y=\"-126.8\" font-family=\"Times,serif\" font-size=\"14.00\" fill=\"#000000\">entropy = 0.742</text>\n<text text-anchor=\"middle\" x=\"3887.5\" y=\"-111.8\" font-family=\"Times,serif\" font-size=\"14.00\" fill=\"#000000\">samples = 19</text>\n<text text-anchor=\"middle\" x=\"3887.5\" y=\"-96.8\" font-family=\"Times,serif\" font-size=\"14.00\" fill=\"#000000\">value = [4, 15]</text>\n</g>\n<!-- 109&#45;&gt;111 -->\n<g id=\"edge111\" class=\"edge\">\n<title>109&#45;&gt;111</title>\n<path fill=\"none\" stroke=\"#000000\" d=\"M3881.4469,-192.9465C3882.154,-184.776 3882.9194,-175.9318 3883.6603,-167.3697\"/>\n<polygon fill=\"#000000\" stroke=\"#000000\" points=\"3887.1712,-167.3945 3884.5464,-157.13 3880.1972,-166.791 3887.1712,-167.3945\"/>\n</g>\n<!-- 112 -->\n<g id=\"node113\" class=\"node\">\n<title>112</title>\n<polygon fill=\"none\" stroke=\"#000000\" points=\"3816.5,-53 3706.5,-53 3706.5,0 3816.5,0 3816.5,-53\"/>\n<text text-anchor=\"middle\" x=\"3761.5\" y=\"-37.8\" font-family=\"Times,serif\" font-size=\"14.00\" fill=\"#000000\">entropy = 0.544</text>\n<text text-anchor=\"middle\" x=\"3761.5\" y=\"-22.8\" font-family=\"Times,serif\" font-size=\"14.00\" fill=\"#000000\">samples = 16</text>\n<text text-anchor=\"middle\" x=\"3761.5\" y=\"-7.8\" font-family=\"Times,serif\" font-size=\"14.00\" fill=\"#000000\">value = [2, 14]</text>\n</g>\n<!-- 111&#45;&gt;112 -->\n<g id=\"edge112\" class=\"edge\">\n<title>111&#45;&gt;112</title>\n<path fill=\"none\" stroke=\"#000000\" d=\"M3843.0771,-88.9777C3830.523,-79.3629 3816.8881,-68.9203 3804.424,-59.3743\"/>\n<polygon fill=\"#000000\" stroke=\"#000000\" points=\"3806.4927,-56.5502 3796.4255,-53.2485 3802.2365,-62.1076 3806.4927,-56.5502\"/>\n</g>\n<!-- 113 -->\n<g id=\"node114\" class=\"node\">\n<title>113</title>\n<polygon fill=\"none\" stroke=\"#000000\" points=\"3944.5,-53 3834.5,-53 3834.5,0 3944.5,0 3944.5,-53\"/>\n<text text-anchor=\"middle\" x=\"3889.5\" y=\"-37.8\" font-family=\"Times,serif\" font-size=\"14.00\" fill=\"#000000\">entropy = 0.918</text>\n<text text-anchor=\"middle\" x=\"3889.5\" y=\"-22.8\" font-family=\"Times,serif\" font-size=\"14.00\" fill=\"#000000\">samples = 3</text>\n<text text-anchor=\"middle\" x=\"3889.5\" y=\"-7.8\" font-family=\"Times,serif\" font-size=\"14.00\" fill=\"#000000\">value = [2, 1]</text>\n</g>\n<!-- 111&#45;&gt;113 -->\n<g id=\"edge113\" class=\"edge\">\n<title>111&#45;&gt;113</title>\n<path fill=\"none\" stroke=\"#000000\" d=\"M3888.2051,-88.9777C3888.3759,-80.7364 3888.5593,-71.887 3888.7328,-63.5153\"/>\n<polygon fill=\"#000000\" stroke=\"#000000\" points=\"3892.2376,-63.3189 3888.9456,-53.2485 3885.2391,-63.1738 3892.2376,-63.3189\"/>\n</g>\n<!-- 116 -->\n<g id=\"node117\" class=\"node\">\n<title>116</title>\n<polygon fill=\"none\" stroke=\"#000000\" points=\"4191,-365 4076,-365 4076,-297 4191,-297 4191,-365\"/>\n<text text-anchor=\"middle\" x=\"4133.5\" y=\"-349.8\" font-family=\"Times,serif\" font-size=\"14.00\" fill=\"#000000\">duration &lt;= 25.5</text>\n<text text-anchor=\"middle\" x=\"4133.5\" y=\"-334.8\" font-family=\"Times,serif\" font-size=\"14.00\" fill=\"#000000\">entropy = 0.998</text>\n<text text-anchor=\"middle\" x=\"4133.5\" y=\"-319.8\" font-family=\"Times,serif\" font-size=\"14.00\" fill=\"#000000\">samples = 21</text>\n<text text-anchor=\"middle\" x=\"4133.5\" y=\"-304.8\" font-family=\"Times,serif\" font-size=\"14.00\" fill=\"#000000\">value = [10, 11]</text>\n</g>\n<!-- 115&#45;&gt;116 -->\n<g id=\"edge116\" class=\"edge\">\n<title>115&#45;&gt;116</title>\n<path fill=\"none\" stroke=\"#000000\" d=\"M4138.2079,-400.9465C4137.658,-392.776 4137.0627,-383.9318 4136.4864,-375.3697\"/>\n<polygon fill=\"#000000\" stroke=\"#000000\" points=\"4139.961,-374.8723 4135.7972,-365.13 4132.9768,-375.3425 4139.961,-374.8723\"/>\n</g>\n<!-- 123 -->\n<g id=\"node124\" class=\"node\">\n<title>123</title>\n<polygon fill=\"none\" stroke=\"#000000\" points=\"4311.5,-357.5 4209.5,-357.5 4209.5,-304.5 4311.5,-304.5 4311.5,-357.5\"/>\n<text text-anchor=\"middle\" x=\"4260.5\" y=\"-342.3\" font-family=\"Times,serif\" font-size=\"14.00\" fill=\"#000000\">entropy = 0.0</text>\n<text text-anchor=\"middle\" x=\"4260.5\" y=\"-327.3\" font-family=\"Times,serif\" font-size=\"14.00\" fill=\"#000000\">samples = 10</text>\n<text text-anchor=\"middle\" x=\"4260.5\" y=\"-312.3\" font-family=\"Times,serif\" font-size=\"14.00\" fill=\"#000000\">value = [0, 10]</text>\n</g>\n<!-- 115&#45;&gt;123 -->\n<g id=\"edge123\" class=\"edge\">\n<title>115&#45;&gt;123</title>\n<path fill=\"none\" stroke=\"#000000\" d=\"M4179.7925,-400.9465C4193.3917,-389.1606 4208.6085,-375.9726 4222.1324,-364.2519\"/>\n<polygon fill=\"#000000\" stroke=\"#000000\" points=\"4224.6098,-366.7364 4229.8744,-357.5422 4220.0252,-361.4466 4224.6098,-366.7364\"/>\n</g>\n<!-- 117 -->\n<g id=\"node118\" class=\"node\">\n<title>117</title>\n<polygon fill=\"none\" stroke=\"#000000\" points=\"4191,-261 4076,-261 4076,-193 4191,-193 4191,-261\"/>\n<text text-anchor=\"middle\" x=\"4133.5\" y=\"-245.8\" font-family=\"Times,serif\" font-size=\"14.00\" fill=\"#000000\">duration &lt;= 22.5</text>\n<text text-anchor=\"middle\" x=\"4133.5\" y=\"-230.8\" font-family=\"Times,serif\" font-size=\"14.00\" fill=\"#000000\">entropy = 0.937</text>\n<text text-anchor=\"middle\" x=\"4133.5\" y=\"-215.8\" font-family=\"Times,serif\" font-size=\"14.00\" fill=\"#000000\">samples = 17</text>\n<text text-anchor=\"middle\" x=\"4133.5\" y=\"-200.8\" font-family=\"Times,serif\" font-size=\"14.00\" fill=\"#000000\">value = [6, 11]</text>\n</g>\n<!-- 116&#45;&gt;117 -->\n<g id=\"edge117\" class=\"edge\">\n<title>116&#45;&gt;117</title>\n<path fill=\"none\" stroke=\"#000000\" d=\"M4133.5,-296.9465C4133.5,-288.776 4133.5,-279.9318 4133.5,-271.3697\"/>\n<polygon fill=\"#000000\" stroke=\"#000000\" points=\"4137.0001,-271.13 4133.5,-261.13 4130.0001,-271.13 4137.0001,-271.13\"/>\n</g>\n<!-- 122 -->\n<g id=\"node123\" class=\"node\">\n<title>122</title>\n<polygon fill=\"none\" stroke=\"#000000\" points=\"4304,-253.5 4209,-253.5 4209,-200.5 4304,-200.5 4304,-253.5\"/>\n<text text-anchor=\"middle\" x=\"4256.5\" y=\"-238.3\" font-family=\"Times,serif\" font-size=\"14.00\" fill=\"#000000\">entropy = 0.0</text>\n<text text-anchor=\"middle\" x=\"4256.5\" y=\"-223.3\" font-family=\"Times,serif\" font-size=\"14.00\" fill=\"#000000\">samples = 4</text>\n<text text-anchor=\"middle\" x=\"4256.5\" y=\"-208.3\" font-family=\"Times,serif\" font-size=\"14.00\" fill=\"#000000\">value = [4, 0]</text>\n</g>\n<!-- 116&#45;&gt;122 -->\n<g id=\"edge122\" class=\"edge\">\n<title>116&#45;&gt;122</title>\n<path fill=\"none\" stroke=\"#000000\" d=\"M4173.7748,-296.9465C4187.7139,-285.1606 4203.3112,-271.9726 4217.1732,-260.2519\"/>\n<polygon fill=\"#000000\" stroke=\"#000000\" points=\"4219.7324,-262.6715 4225.1088,-253.5422 4215.2127,-257.3262 4219.7324,-262.6715\"/>\n</g>\n<!-- 118 -->\n<g id=\"node119\" class=\"node\">\n<title>118</title>\n<polygon fill=\"none\" stroke=\"#000000\" points=\"4234,-157 4033,-157 4033,-89 4234,-89 4234,-157\"/>\n<text text-anchor=\"middle\" x=\"4133.5\" y=\"-141.8\" font-family=\"Times,serif\" font-size=\"14.00\" fill=\"#000000\">installment_commitment &lt;= 1.5</text>\n<text text-anchor=\"middle\" x=\"4133.5\" y=\"-126.8\" font-family=\"Times,serif\" font-size=\"14.00\" fill=\"#000000\">entropy = 0.994</text>\n<text text-anchor=\"middle\" x=\"4133.5\" y=\"-111.8\" font-family=\"Times,serif\" font-size=\"14.00\" fill=\"#000000\">samples = 11</text>\n<text text-anchor=\"middle\" x=\"4133.5\" y=\"-96.8\" font-family=\"Times,serif\" font-size=\"14.00\" fill=\"#000000\">value = [6, 5]</text>\n</g>\n<!-- 117&#45;&gt;118 -->\n<g id=\"edge118\" class=\"edge\">\n<title>117&#45;&gt;118</title>\n<path fill=\"none\" stroke=\"#000000\" d=\"M4133.5,-192.9465C4133.5,-184.776 4133.5,-175.9318 4133.5,-167.3697\"/>\n<polygon fill=\"#000000\" stroke=\"#000000\" points=\"4137.0001,-167.13 4133.5,-157.13 4130.0001,-167.13 4137.0001,-167.13\"/>\n</g>\n<!-- 121 -->\n<g id=\"node122\" class=\"node\">\n<title>121</title>\n<polygon fill=\"none\" stroke=\"#000000\" points=\"4347,-149.5 4252,-149.5 4252,-96.5 4347,-96.5 4347,-149.5\"/>\n<text text-anchor=\"middle\" x=\"4299.5\" y=\"-134.3\" font-family=\"Times,serif\" font-size=\"14.00\" fill=\"#000000\">entropy = 0.0</text>\n<text text-anchor=\"middle\" x=\"4299.5\" y=\"-119.3\" font-family=\"Times,serif\" font-size=\"14.00\" fill=\"#000000\">samples = 6</text>\n<text text-anchor=\"middle\" x=\"4299.5\" y=\"-104.3\" font-family=\"Times,serif\" font-size=\"14.00\" fill=\"#000000\">value = [0, 6]</text>\n</g>\n<!-- 117&#45;&gt;121 -->\n<g id=\"edge121\" class=\"edge\">\n<title>117&#45;&gt;121</title>\n<path fill=\"none\" stroke=\"#000000\" d=\"M4187.8546,-192.9465C4207.3701,-180.72 4229.2937,-166.9847 4248.5129,-154.9437\"/>\n<polygon fill=\"#000000\" stroke=\"#000000\" points=\"4250.5186,-157.8174 4257.1346,-149.5422 4246.8021,-151.8854 4250.5186,-157.8174\"/>\n</g>\n<!-- 119 -->\n<g id=\"node120\" class=\"node\">\n<title>119</title>\n<polygon fill=\"none\" stroke=\"#000000\" points=\"4120,-53 4025,-53 4025,0 4120,0 4120,-53\"/>\n<text text-anchor=\"middle\" x=\"4072.5\" y=\"-37.8\" font-family=\"Times,serif\" font-size=\"14.00\" fill=\"#000000\">entropy = 0.0</text>\n<text text-anchor=\"middle\" x=\"4072.5\" y=\"-22.8\" font-family=\"Times,serif\" font-size=\"14.00\" fill=\"#000000\">samples = 3</text>\n<text text-anchor=\"middle\" x=\"4072.5\" y=\"-7.8\" font-family=\"Times,serif\" font-size=\"14.00\" fill=\"#000000\">value = [0, 3]</text>\n</g>\n<!-- 118&#45;&gt;119 -->\n<g id=\"edge119\" class=\"edge\">\n<title>118&#45;&gt;119</title>\n<path fill=\"none\" stroke=\"#000000\" d=\"M4111.9937,-88.9777C4106.4369,-80.187 4100.4427,-70.7044 4094.8441,-61.8477\"/>\n<polygon fill=\"#000000\" stroke=\"#000000\" points=\"4097.7101,-59.8312 4089.4084,-53.2485 4091.7931,-63.5714 4097.7101,-59.8312\"/>\n</g>\n<!-- 120 -->\n<g id=\"node121\" class=\"node\">\n<title>120</title>\n<polygon fill=\"none\" stroke=\"#000000\" points=\"4248.5,-53 4138.5,-53 4138.5,0 4248.5,0 4248.5,-53\"/>\n<text text-anchor=\"middle\" x=\"4193.5\" y=\"-37.8\" font-family=\"Times,serif\" font-size=\"14.00\" fill=\"#000000\">entropy = 0.811</text>\n<text text-anchor=\"middle\" x=\"4193.5\" y=\"-22.8\" font-family=\"Times,serif\" font-size=\"14.00\" fill=\"#000000\">samples = 8</text>\n<text text-anchor=\"middle\" x=\"4193.5\" y=\"-7.8\" font-family=\"Times,serif\" font-size=\"14.00\" fill=\"#000000\">value = [6, 2]</text>\n</g>\n<!-- 118&#45;&gt;120 -->\n<g id=\"edge120\" class=\"edge\">\n<title>118&#45;&gt;120</title>\n<path fill=\"none\" stroke=\"#000000\" d=\"M4154.6538,-88.9777C4160.1195,-80.187 4166.0154,-70.7044 4171.5222,-61.8477\"/>\n<polygon fill=\"#000000\" stroke=\"#000000\" points=\"4174.5609,-63.5889 4176.8688,-53.2485 4168.6163,-59.8927 4174.5609,-63.5889\"/>\n</g>\n<!-- 125 -->\n<g id=\"node126\" class=\"node\">\n<title>125</title>\n<polygon fill=\"none\" stroke=\"#000000\" points=\"4520.5,-469 4370.5,-469 4370.5,-401 4520.5,-401 4520.5,-469\"/>\n<text text-anchor=\"middle\" x=\"4445.5\" y=\"-453.8\" font-family=\"Times,serif\" font-size=\"14.00\" fill=\"#000000\">purpose_repairs &lt;= 0.5</text>\n<text text-anchor=\"middle\" x=\"4445.5\" y=\"-438.8\" font-family=\"Times,serif\" font-size=\"14.00\" fill=\"#000000\">entropy = 0.063</text>\n<text text-anchor=\"middle\" x=\"4445.5\" y=\"-423.8\" font-family=\"Times,serif\" font-size=\"14.00\" fill=\"#000000\">samples = 134</text>\n<text text-anchor=\"middle\" x=\"4445.5\" y=\"-408.8\" font-family=\"Times,serif\" font-size=\"14.00\" fill=\"#000000\">value = [1, 133]</text>\n</g>\n<!-- 124&#45;&gt;125 -->\n<g id=\"edge125\" class=\"edge\">\n<title>124&#45;&gt;125</title>\n<path fill=\"none\" stroke=\"#000000\" d=\"M4445.5,-504.9465C4445.5,-496.776 4445.5,-487.9318 4445.5,-479.3697\"/>\n<polygon fill=\"#000000\" stroke=\"#000000\" points=\"4449.0001,-479.13 4445.5,-469.13 4442.0001,-479.13 4449.0001,-479.13\"/>\n</g>\n<!-- 128 -->\n<g id=\"node129\" class=\"node\">\n<title>128</title>\n<polygon fill=\"none\" stroke=\"#000000\" points=\"4783.5,-469 4619.5,-469 4619.5,-401 4783.5,-401 4783.5,-469\"/>\n<text text-anchor=\"middle\" x=\"4701.5\" y=\"-453.8\" font-family=\"Times,serif\" font-size=\"14.00\" fill=\"#000000\">credit_amount &lt;= 4651.0</text>\n<text text-anchor=\"middle\" x=\"4701.5\" y=\"-438.8\" font-family=\"Times,serif\" font-size=\"14.00\" fill=\"#000000\">entropy = 0.555</text>\n<text text-anchor=\"middle\" x=\"4701.5\" y=\"-423.8\" font-family=\"Times,serif\" font-size=\"14.00\" fill=\"#000000\">samples = 31</text>\n<text text-anchor=\"middle\" x=\"4701.5\" y=\"-408.8\" font-family=\"Times,serif\" font-size=\"14.00\" fill=\"#000000\">value = [4, 27]</text>\n</g>\n<!-- 124&#45;&gt;128 -->\n<g id=\"edge128\" class=\"edge\">\n<title>124&#45;&gt;128</title>\n<path fill=\"none\" stroke=\"#000000\" d=\"M4527.5563,-505.6646C4553.8518,-494.9821 4583.13,-483.0878 4610.0531,-472.1503\"/>\n<polygon fill=\"#000000\" stroke=\"#000000\" points=\"4611.5218,-475.3315 4619.4692,-468.325 4608.8871,-468.8462 4611.5218,-475.3315\"/>\n</g>\n<!-- 126 -->\n<g id=\"node127\" class=\"node\">\n<title>126</title>\n<polygon fill=\"none\" stroke=\"#000000\" points=\"4439.5,-357.5 4329.5,-357.5 4329.5,-304.5 4439.5,-304.5 4439.5,-357.5\"/>\n<text text-anchor=\"middle\" x=\"4384.5\" y=\"-342.3\" font-family=\"Times,serif\" font-size=\"14.00\" fill=\"#000000\">entropy = 0.0</text>\n<text text-anchor=\"middle\" x=\"4384.5\" y=\"-327.3\" font-family=\"Times,serif\" font-size=\"14.00\" fill=\"#000000\">samples = 132</text>\n<text text-anchor=\"middle\" x=\"4384.5\" y=\"-312.3\" font-family=\"Times,serif\" font-size=\"14.00\" fill=\"#000000\">value = [0, 132]</text>\n</g>\n<!-- 125&#45;&gt;126 -->\n<g id=\"edge126\" class=\"edge\">\n<title>125&#45;&gt;126</title>\n<path fill=\"none\" stroke=\"#000000\" d=\"M4425.5263,-400.9465C4419.001,-389.8215 4411.7431,-377.4473 4405.1678,-366.237\"/>\n<polygon fill=\"#000000\" stroke=\"#000000\" points=\"4408.1464,-364.3971 4400.068,-357.5422 4402.1084,-367.9387 4408.1464,-364.3971\"/>\n</g>\n<!-- 127 -->\n<g id=\"node128\" class=\"node\">\n<title>127</title>\n<polygon fill=\"none\" stroke=\"#000000\" points=\"4553,-357.5 4458,-357.5 4458,-304.5 4553,-304.5 4553,-357.5\"/>\n<text text-anchor=\"middle\" x=\"4505.5\" y=\"-342.3\" font-family=\"Times,serif\" font-size=\"14.00\" fill=\"#000000\">entropy = 1.0</text>\n<text text-anchor=\"middle\" x=\"4505.5\" y=\"-327.3\" font-family=\"Times,serif\" font-size=\"14.00\" fill=\"#000000\">samples = 2</text>\n<text text-anchor=\"middle\" x=\"4505.5\" y=\"-312.3\" font-family=\"Times,serif\" font-size=\"14.00\" fill=\"#000000\">value = [1, 1]</text>\n</g>\n<!-- 125&#45;&gt;127 -->\n<g id=\"edge127\" class=\"edge\">\n<title>125&#45;&gt;127</title>\n<path fill=\"none\" stroke=\"#000000\" d=\"M4465.1462,-400.9465C4471.5645,-389.8215 4478.7035,-377.4473 4485.171,-366.237\"/>\n<polygon fill=\"#000000\" stroke=\"#000000\" points=\"4488.2216,-367.9531 4490.1872,-357.5422 4482.1583,-364.455 4488.2216,-367.9531\"/>\n</g>\n<!-- 129 -->\n<g id=\"node130\" class=\"node\">\n<title>129</title>\n<polygon fill=\"none\" stroke=\"#000000\" points=\"4831.5,-365 4571.5,-365 4571.5,-297 4831.5,-297 4831.5,-365\"/>\n<text text-anchor=\"middle\" x=\"4701.5\" y=\"-349.8\" font-family=\"Times,serif\" font-size=\"14.00\" fill=\"#000000\">property_magnitude_life insurance &lt;= 0.5</text>\n<text text-anchor=\"middle\" x=\"4701.5\" y=\"-334.8\" font-family=\"Times,serif\" font-size=\"14.00\" fill=\"#000000\">entropy = 0.811</text>\n<text text-anchor=\"middle\" x=\"4701.5\" y=\"-319.8\" font-family=\"Times,serif\" font-size=\"14.00\" fill=\"#000000\">samples = 4</text>\n<text text-anchor=\"middle\" x=\"4701.5\" y=\"-304.8\" font-family=\"Times,serif\" font-size=\"14.00\" fill=\"#000000\">value = [3, 1]</text>\n</g>\n<!-- 128&#45;&gt;129 -->\n<g id=\"edge129\" class=\"edge\">\n<title>128&#45;&gt;129</title>\n<path fill=\"none\" stroke=\"#000000\" d=\"M4701.5,-400.9465C4701.5,-392.776 4701.5,-383.9318 4701.5,-375.3697\"/>\n<polygon fill=\"#000000\" stroke=\"#000000\" points=\"4705.0001,-375.13 4701.5,-365.13 4698.0001,-375.13 4705.0001,-375.13\"/>\n</g>\n<!-- 132 -->\n<g id=\"node133\" class=\"node\">\n<title>132</title>\n<polygon fill=\"none\" stroke=\"#000000\" points=\"4997.5,-365 4849.5,-365 4849.5,-297 4997.5,-297 4997.5,-365\"/>\n<text text-anchor=\"middle\" x=\"4923.5\" y=\"-349.8\" font-family=\"Times,serif\" font-size=\"14.00\" fill=\"#000000\">residence_since &lt;= 1.5</text>\n<text text-anchor=\"middle\" x=\"4923.5\" y=\"-334.8\" font-family=\"Times,serif\" font-size=\"14.00\" fill=\"#000000\">entropy = 0.229</text>\n<text text-anchor=\"middle\" x=\"4923.5\" y=\"-319.8\" font-family=\"Times,serif\" font-size=\"14.00\" fill=\"#000000\">samples = 27</text>\n<text text-anchor=\"middle\" x=\"4923.5\" y=\"-304.8\" font-family=\"Times,serif\" font-size=\"14.00\" fill=\"#000000\">value = [1, 26]</text>\n</g>\n<!-- 128&#45;&gt;132 -->\n<g id=\"edge132\" class=\"edge\">\n<title>128&#45;&gt;132</title>\n<path fill=\"none\" stroke=\"#000000\" d=\"M4774.1911,-400.9465C4795.6567,-390.8906 4819.3009,-379.814 4841.3196,-369.4989\"/>\n<polygon fill=\"#000000\" stroke=\"#000000\" points=\"4843.0748,-372.5418 4850.6456,-365.13 4840.1052,-366.2028 4843.0748,-372.5418\"/>\n</g>\n<!-- 130 -->\n<g id=\"node131\" class=\"node\">\n<title>130</title>\n<polygon fill=\"none\" stroke=\"#000000\" points=\"4663,-253.5 4568,-253.5 4568,-200.5 4663,-200.5 4663,-253.5\"/>\n<text text-anchor=\"middle\" x=\"4615.5\" y=\"-238.3\" font-family=\"Times,serif\" font-size=\"14.00\" fill=\"#000000\">entropy = 0.0</text>\n<text text-anchor=\"middle\" x=\"4615.5\" y=\"-223.3\" font-family=\"Times,serif\" font-size=\"14.00\" fill=\"#000000\">samples = 1</text>\n<text text-anchor=\"middle\" x=\"4615.5\" y=\"-208.3\" font-family=\"Times,serif\" font-size=\"14.00\" fill=\"#000000\">value = [0, 1]</text>\n</g>\n<!-- 129&#45;&gt;130 -->\n<g id=\"edge130\" class=\"edge\">\n<title>129&#45;&gt;130</title>\n<path fill=\"none\" stroke=\"#000000\" d=\"M4673.3404,-296.9465C4663.9587,-285.6012 4653.5027,-272.9567 4644.0887,-261.5724\"/>\n<polygon fill=\"#000000\" stroke=\"#000000\" points=\"4646.5183,-259.0182 4637.4483,-253.5422 4641.1237,-263.4791 4646.5183,-259.0182\"/>\n</g>\n<!-- 131 -->\n<g id=\"node132\" class=\"node\">\n<title>131</title>\n<polygon fill=\"none\" stroke=\"#000000\" points=\"4776,-253.5 4681,-253.5 4681,-200.5 4776,-200.5 4776,-253.5\"/>\n<text text-anchor=\"middle\" x=\"4728.5\" y=\"-238.3\" font-family=\"Times,serif\" font-size=\"14.00\" fill=\"#000000\">entropy = 0.0</text>\n<text text-anchor=\"middle\" x=\"4728.5\" y=\"-223.3\" font-family=\"Times,serif\" font-size=\"14.00\" fill=\"#000000\">samples = 3</text>\n<text text-anchor=\"middle\" x=\"4728.5\" y=\"-208.3\" font-family=\"Times,serif\" font-size=\"14.00\" fill=\"#000000\">value = [3, 0]</text>\n</g>\n<!-- 129&#45;&gt;131 -->\n<g id=\"edge131\" class=\"edge\">\n<title>129&#45;&gt;131</title>\n<path fill=\"none\" stroke=\"#000000\" d=\"M4710.3408,-296.9465C4713.1433,-286.1519 4716.251,-274.1813 4719.0918,-263.2389\"/>\n<polygon fill=\"#000000\" stroke=\"#000000\" points=\"4722.484,-264.1008 4721.6092,-253.5422 4715.7086,-262.3418 4722.484,-264.1008\"/>\n</g>\n<!-- 133 -->\n<g id=\"node134\" class=\"node\">\n<title>133</title>\n<polygon fill=\"none\" stroke=\"#000000\" points=\"4943,-253.5 4848,-253.5 4848,-200.5 4943,-200.5 4943,-253.5\"/>\n<text text-anchor=\"middle\" x=\"4895.5\" y=\"-238.3\" font-family=\"Times,serif\" font-size=\"14.00\" fill=\"#000000\">entropy = 1.0</text>\n<text text-anchor=\"middle\" x=\"4895.5\" y=\"-223.3\" font-family=\"Times,serif\" font-size=\"14.00\" fill=\"#000000\">samples = 2</text>\n<text text-anchor=\"middle\" x=\"4895.5\" y=\"-208.3\" font-family=\"Times,serif\" font-size=\"14.00\" fill=\"#000000\">value = [1, 1]</text>\n</g>\n<!-- 132&#45;&gt;133 -->\n<g id=\"edge133\" class=\"edge\">\n<title>132&#45;&gt;133</title>\n<path fill=\"none\" stroke=\"#000000\" d=\"M4914.3318,-296.9465C4911.4255,-286.1519 4908.2026,-274.1813 4905.2566,-263.2389\"/>\n<polygon fill=\"#000000\" stroke=\"#000000\" points=\"4908.6254,-262.2884 4902.646,-253.5422 4901.8661,-264.1083 4908.6254,-262.2884\"/>\n</g>\n<!-- 134 -->\n<g id=\"node135\" class=\"node\">\n<title>134</title>\n<polygon fill=\"none\" stroke=\"#000000\" points=\"5063.5,-253.5 4961.5,-253.5 4961.5,-200.5 5063.5,-200.5 5063.5,-253.5\"/>\n<text text-anchor=\"middle\" x=\"5012.5\" y=\"-238.3\" font-family=\"Times,serif\" font-size=\"14.00\" fill=\"#000000\">entropy = 0.0</text>\n<text text-anchor=\"middle\" x=\"5012.5\" y=\"-223.3\" font-family=\"Times,serif\" font-size=\"14.00\" fill=\"#000000\">samples = 25</text>\n<text text-anchor=\"middle\" x=\"5012.5\" y=\"-208.3\" font-family=\"Times,serif\" font-size=\"14.00\" fill=\"#000000\">value = [0, 25]</text>\n</g>\n<!-- 132&#45;&gt;134 -->\n<g id=\"edge134\" class=\"edge\">\n<title>132&#45;&gt;134</title>\n<path fill=\"none\" stroke=\"#000000\" d=\"M4952.6419,-296.9465C4962.4452,-285.491 4973.3819,-272.711 4983.1975,-261.2412\"/>\n<polygon fill=\"#000000\" stroke=\"#000000\" points=\"4985.9433,-263.4156 4989.786,-253.5422 4980.6249,-258.8642 4985.9433,-263.4156\"/>\n</g>\n</g>\n</svg>\n"
          },
          "metadata": {
            "tags": []
          },
          "execution_count": 106
        }
      ]
    },
    {
      "cell_type": "code",
      "metadata": {
        "id": "xrO9imcapxmg",
        "colab_type": "code",
        "outputId": "26a0016b-b6b8-4853-be6b-c75ed6cda94a",
        "colab": {
          "base_uri": "https://localhost:8080/",
          "height": 52
        }
      },
      "source": [
        "from sklearn.metrics import confusion_matrix\n",
        "\n",
        "confusion_matrix(test_label,test_pred)"
      ],
      "execution_count": 107,
      "outputs": [
        {
          "output_type": "execute_result",
          "data": {
            "text/plain": [
              "array([[ 25,  37],\n",
              "       [ 18, 127]])"
            ]
          },
          "metadata": {
            "tags": []
          },
          "execution_count": 107
        }
      ]
    },
    {
      "cell_type": "markdown",
      "metadata": {
        "id": "1VCH10cwnAU-",
        "colab_type": "text"
      },
      "source": [
        "# Report: Write a summary of your approach to this problem; this should be like an abstract of a paper or the executive summary (you aim for clarity and passing on information, not going to details about known facts such as what decision trees are, assuming they are known to people in your research area).\n",
        "\n",
        "Must include statements such as:\n",
        "\n",
        "\n",
        "*   Include the problem definition: 1-2 lines\n",
        "*   Talk about train/val/test sets, size and how split.\n",
        "*   State what your test results are with the chosen method, parameters: e.g. \"We have obtained the best results with the ….. classifier (parameters=....) , giving classification accuracy of …% on test data….\"\n",
        "*   Comment on the speed of the algorithms and anything else that you deem important/interesting (e.g. confusion matrix)\n",
        "\n"
      ]
    },
    {
      "cell_type": "markdown",
      "metadata": {
        "id": "72KDasqHnt1T",
        "colab_type": "text"
      },
      "source": [
        "# Write your report in this cell\n",
        "\n",
        "The main problem is obtaining a good accuracy for the decision tree model since the dataset is imbalanced. \n",
        "\n",
        "* It causes the machine learning model to be more biased towards majority class. \n",
        "* It causes poor classification of minority classes.\n",
        "\n",
        "The minority class can be upsampled in order to solve the problem stated above.SMOTE(Synthetic Minority Oversampling Technique)\n",
        " \n",
        "For validation step the algorithm GridSearchCV automatically uses StratifiedKFold().\n",
        "* Train / Test size is 0.7 / 0.3 (a common splitting)\n",
        "* Validation via StratifiedKFold() \n",
        "  * K = 5 \n",
        "\n",
        "The dataset contains some irrelevant features such as '*id*' column where it does not contain any relationship with credit risk.\n",
        "\n",
        "Hyperparameters Used for GridSearchCV and result regarding the best parameters:\n",
        "\n",
        "'*{'criterion': 'entropy',\n",
        " 'max_depth': 8,\n",
        " 'max_features': None,\n",
        " 'min_samples_split': 3}*'\n",
        " \n",
        " * criterion:\n",
        "    * 'gini' and 'entropy' almost similiar but Gini is intended for continuous attributes, and Entropy for attributes that occur in classes.\n",
        "    \n",
        " * max_depth:\n",
        "  * If None, then nodes are expanded until all leaves are pure or until all leaves contain less than min_samples_split samples.\n",
        "  * Deeper the tree is allowed to grow,gets more complex and might overfit on train data which would work fine until the test data is used to inspect the performance metrics of the model.\n",
        " * max_features:\n",
        "  * If not stated , max_feature = n_feature.\n",
        "  * The search for a split does not stop until at least one valid partition of the node samples is found, even if it requires to effectively inspect more than max_features features.\n",
        "  * It affects efficiency majorly since every looking for a partition in every split is exhausting.\n",
        " * min_samples_split:\n",
        "  * Used in order to set a value for minimum number of samples required to split an internal node.Effective in order to solve overfitting issues. \n",
        "\n",
        "Speed of the algorithm is correlated with the range of the parameters times number of K for Cross Validation times complexity of the building step and prediction step of model.Simply we can state that the range for all parameters as '*r*',number of iteration while cross validating as '*k*' and number of parameters to look as '*t*' we have $O(kr^t)$ for GridSearchCV without taking account the complexity of building of the model.Time complexity of the model would be $O(mn * log(n))$.\n",
        "\n"
      ]
    }
  ]
}